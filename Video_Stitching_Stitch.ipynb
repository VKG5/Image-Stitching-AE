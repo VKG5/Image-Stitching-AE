{
  "nbformat": 4,
  "nbformat_minor": 0,
  "metadata": {
    "colab": {
      "name": "Video_Stitching_Stitch.ipynb",
      "provenance": [],
      "collapsed_sections": []
    },
    "kernelspec": {
      "name": "python3",
      "display_name": "Python 3"
    },
    "accelerator": "GPU"
  },
  "cells": [
    {
      "cell_type": "markdown",
      "metadata": {
        "id": "bUrwmz6asGBo"
      },
      "source": [
        "### Libraries"
      ]
    },
    {
      "cell_type": "code",
      "metadata": {
        "id": "Vd_OEKc-z0Mp",
        "colab": {
          "base_uri": "https://localhost:8080/"
        },
        "outputId": "80260108-9402-4fb4-ddef-41fa2f2f6649"
      },
      "source": [
        "from google.colab import drive\n",
        "drive.mount('/content/drive')"
      ],
      "execution_count": null,
      "outputs": [
        {
          "output_type": "stream",
          "text": [
            "Mounted at /content/drive\n"
          ],
          "name": "stdout"
        }
      ]
    },
    {
      "cell_type": "code",
      "metadata": {
        "id": "yzwXnz7RsFaB",
        "colab": {
          "base_uri": "https://localhost:8080/"
        },
        "outputId": "fa35db9f-bba8-4757-c480-5a7de396dfe0"
      },
      "source": [
        "!pip install opencv-contrib-python==3.4.2.17\n",
        "!pip install --upgrade imutils"
      ],
      "execution_count": null,
      "outputs": [
        {
          "output_type": "stream",
          "text": [
            "Collecting opencv-contrib-python==3.4.2.17\n",
            "\u001b[?25l  Downloading https://files.pythonhosted.org/packages/61/29/fc60b2de1713aa92946992544329f20ccb5e4ba26290f403e04b7da44105/opencv_contrib_python-3.4.2.17-cp36-cp36m-manylinux1_x86_64.whl (30.6MB)\n",
            "\u001b[K     |████████████████████████████████| 30.6MB 103kB/s \n",
            "\u001b[?25hRequirement already satisfied: numpy>=1.11.3 in /usr/local/lib/python3.6/dist-packages (from opencv-contrib-python==3.4.2.17) (1.18.5)\n",
            "Installing collected packages: opencv-contrib-python\n",
            "  Found existing installation: opencv-contrib-python 4.1.2.30\n",
            "    Uninstalling opencv-contrib-python-4.1.2.30:\n",
            "      Successfully uninstalled opencv-contrib-python-4.1.2.30\n",
            "Successfully installed opencv-contrib-python-3.4.2.17\n",
            "Requirement already up-to-date: imutils in /usr/local/lib/python3.6/dist-packages (0.5.3)\n"
          ],
          "name": "stdout"
        }
      ]
    },
    {
      "cell_type": "code",
      "metadata": {
        "id": "9PlIoxBTsFW4",
        "colab": {
          "base_uri": "https://localhost:8080/"
        },
        "outputId": "38e7c425-6028-49a1-af10-26ae22dff2de"
      },
      "source": [
        "import cv2\n",
        "import numpy as np\n",
        "import imutils\n",
        "import matplotlib.pyplot as plt\n",
        "from random import randrange\n",
        "from google.colab.patches import cv2_imshow\n",
        "import sys\n",
        "import time\n",
        "import os\n",
        "import tqdm\n",
        "from moviepy.editor import ImageSequenceClip\n",
        "\n",
        "# For 24->8bit\n",
        "from PIL import Image\n",
        "\n",
        "%matplotlib inline"
      ],
      "execution_count": null,
      "outputs": [
        {
          "output_type": "stream",
          "text": [
            "Imageio: 'ffmpeg-linux64-v3.3.1' was not found on your computer; downloading it now.\n",
            "Try 1. Download from https://github.com/imageio/imageio-binaries/raw/master/ffmpeg/ffmpeg-linux64-v3.3.1 (43.8 MB)\n",
            "Downloading: 8192/45929032 bytes (0.0%)\b\b\b\b\b\b\b\b\b\b\b\b\b\b\b\b\b\b\b\b\b\b\b\b\b\b1384448/45929032 bytes (3.0%)\b\b\b\b\b\b\b\b\b\b\b\b\b\b\b\b\b\b\b\b\b\b\b\b\b\b\b\b\b4087808/45929032 bytes (8.9%)\b\b\b\b\b\b\b\b\b\b\b\b\b\b\b\b\b\b\b\b\b\b\b\b\b\b\b\b\b8142848/45929032 bytes (17.7%)\b\b\b\b\b\b\b\b\b\b\b\b\b\b\b\b\b\b\b\b\b\b\b\b\b\b\b\b\b\b12410880/45929032 bytes (27.0%)\b\b\b\b\b\b\b\b\b\b\b\b\b\b\b\b\b\b\b\b\b\b\b\b\b\b\b\b\b\b\b16015360/45929032 bytes (34.9%)\b\b\b\b\b\b\b\b\b\b\b\b\b\b\b\b\b\b\b\b\b\b\b\b\b\b\b\b\b\b\b20324352/45929032 bytes (44.3%)\b\b\b\b\b\b\b\b\b\b\b\b\b\b\b\b\b\b\b\b\b\b\b\b\b\b\b\b\b\b\b24633344/45929032 bytes (53.6%)\b\b\b\b\b\b\b\b\b\b\b\b\b\b\b\b\b\b\b\b\b\b\b\b\b\b\b\b\b\b\b28966912/45929032 bytes (63.1%)\b\b\b\b\b\b\b\b\b\b\b\b\b\b\b\b\b\b\b\b\b\b\b\b\b\b\b\b\b\b\b33349632/45929032 bytes (72.6%)\b\b\b\b\b\b\b\b\b\b\b\b\b\b\b\b\b\b\b\b\b\b\b\b\b\b\b\b\b\b\b37601280/45929032 bytes (81.9%)\b\b\b\b\b\b\b\b\b\b\b\b\b\b\b\b\b\b\b\b\b\b\b\b\b\b\b\b\b\b\b41926656/45929032 bytes (91.3%)\b\b\b\b\b\b\b\b\b\b\b\b\b\b\b\b\b\b\b\b\b\b\b\b\b\b\b\b\b\b\b45929032/45929032 bytes (100.0%)\n",
            "  Done\n",
            "File saved as /root/.imageio/ffmpeg/ffmpeg-linux64-v3.3.1.\n"
          ],
          "name": "stdout"
        }
      ]
    },
    {
      "cell_type": "markdown",
      "metadata": {
        "id": "85nQ375HsBVn"
      },
      "source": [
        "#### For Stitcher\n"
      ]
    },
    {
      "cell_type": "code",
      "metadata": {
        "id": "l9N5Wav3sLOj"
      },
      "source": [
        "def cropping(img):\n",
        "  # create a 10 pixel border surrounding the stitched image\n",
        "  print(\"Cropping...\")\n",
        "  stitched = cv2.copyMakeBorder(stitched, 10, 10, 10, 10,\n",
        "    cv2.BORDER_CONSTANT, (0, 0, 0))\n",
        "\n",
        "  # convert the stitched image to grayscale and threshold it\n",
        "  # such that all pixels greater than zero are set to 255\n",
        "  # (foreground) while all others remain 0 (background)\n",
        "  gray = cv2.cvtColor(stitched, cv2.COLOR_BGR2GRAY)\n",
        "  thresh = cv2.threshold(gray, 0, 255, cv2.THRESH_BINARY)[1]\n",
        "\n",
        "  # To get the intermediate results\n",
        "  plt.imshow(gray, cmap='gray')\n",
        "  plt.title(\"Gray Image\")\n",
        "  plt.show()\n",
        "\n",
        "  plt.pause(0.2)\n",
        "\n",
        "  plt.imshow(thresh, cmap='gray')\n",
        "  plt.title(\"Threshold Image\")\n",
        "  plt.show()\n",
        "\n",
        "  plt.pause(0.2)\n",
        "\n",
        "  # find all external contours in the threshold image then find\n",
        "  # the *largest* contour which will be the contour/outline of\n",
        "  # the stitched image\n",
        "  cnts = cv2.findContours(thresh.copy(), cv2.RETR_EXTERNAL,\n",
        "    cv2.CHAIN_APPROX_SIMPLE)\n",
        "  cnts = imutils.grab_contours(cnts)\n",
        "  c = max(cnts, key=cv2.contourArea)\n",
        "\n",
        "  # allocate memory for the mask which will contain the\n",
        "  # rectangular bounding box of the stitched image region\n",
        "  mask = np.zeros(thresh.shape, dtype=\"uint8\")\n",
        "  (x, y, w, h) = cv2.boundingRect(c)\n",
        "\n",
        "  h = int(0.95*h)\n",
        "\n",
        "  cv2.rectangle(mask, (x, y), (x + w, y + h), 255, -1)\n",
        "\n",
        "  plt.imshow(cv2.rectangle(mask, (x, y), (x + w, y + h), 255, -1), cmap='gray')\n",
        "  plt.title(\"Rectangular Mask\")\n",
        "  plt.show()\n",
        "\n",
        "  plt.pause(0.2)\n",
        "\n",
        "  # create two copies of the mask: one to serve as our actual\n",
        "  # minimum rectangular region and another to serve as a counter\n",
        "  # for how many pixels need to be removed to form the minimum\n",
        "  # rectangular region\n",
        "  minRect = mask.copy()\n",
        "  sub = mask.copy()\n",
        "\n",
        "  # # keep looping until there are no non-zero pixels left in the\n",
        "  # # subtracted image\n",
        "  # while cv2.countNonZero(sub) > 2500:\n",
        "  #   # erode the minimum rectangular mask and then subtract\n",
        "  #   # the thresholded image from the minimum rectangular mask\n",
        "  #   # so we can count if there are any non-zero pixels left\n",
        "  #   minRect = cv2.erode(minRect, None)\n",
        "  #   sub = cv2.subtract(minRect, thresh)\n",
        "\n",
        "  plt.imshow(minRect, cmap='gray')\n",
        "  plt.title('Minimized Image/Box')\n",
        "  plt.show()\n",
        "\n",
        "  plt.pause(0.2)\n",
        "\n",
        "  # find contours in the minimum rectangular mask and then\n",
        "  # extract the bounding box (x, y)-coordinates\n",
        "  cnts = cv2.findContours(minRect.copy(), cv2.RETR_EXTERNAL,\n",
        "    cv2.CHAIN_APPROX_SIMPLE)\n",
        "  cnts = imutils.grab_contours(cnts)\n",
        "  c = max(cnts, key=cv2.contourArea)\n",
        "  (x, y, w, h) = cv2.boundingRect(c)\n",
        "\n",
        "  print(x, y, w, h)\n",
        "  # use the bounding box coordinates to extract the our final\n",
        "  # stitched image\n",
        "  stitched_cropped = stitched[100: 60 + 906, x:x + w]\n",
        "\n",
        "  # Display the output stitched image to our screen\n",
        "  return stitched_cropped"
      ],
      "execution_count": null,
      "outputs": []
    },
    {
      "cell_type": "code",
      "metadata": {
        "id": "nBX7Sh3TrnlM"
      },
      "source": [
        "def stitch_gt(img_arr, stitcher):\n",
        "  (status, stitched) = stitcher.stitch(img_arr)\n",
        "\n",
        "  if (status==cv2.STITCHER_OK):\n",
        "    # print('Panorama Generated')\n",
        "    stitched = cv2.cvtColor(stitched, cv2.COLOR_BGR2RGB)\n",
        "    # plt.imshow(stitched)\n",
        "    # plt.pause(0.2)\n",
        "    return stitched\n",
        "\n",
        "  else:\n",
        "    # print('Error Generating Panorama')\n",
        "    pass"
      ],
      "execution_count": null,
      "outputs": []
    },
    {
      "cell_type": "code",
      "metadata": {
        "id": "k_ZPogxotaaS"
      },
      "source": [
        "def run(left_video, mid_video, right_video, stitcher):\n",
        "  \n",
        "  # Get information about the videos\n",
        "  n_frames = min( int(left_video.get(cv2.CAP_PROP_FRAME_COUNT)),\n",
        "                  int(mid_video.get(cv2.CAP_PROP_FRAME_COUNT)),\n",
        "                  int(right_video.get(cv2.CAP_PROP_FRAME_COUNT)) )\n",
        "  \n",
        "  fps = int(left_video.get(cv2.CAP_PROP_FPS))\n",
        "  frames = []\n",
        "\n",
        "  count = -1\n",
        "  step_to_continue_from = 2499\n",
        "  fail_count = 0\n",
        "\n",
        "  for _ in tqdm.tqdm(np.arange(n_frames)):\n",
        "    \n",
        "    count += 1\n",
        "\n",
        "    if (count>-1 and count<4000):\n",
        "      # Grab the frames from their respective video streams\n",
        "      ok, left = left_video.read()\n",
        "      _, mid = mid_video.read()\n",
        "      _, right = right_video.read()\n",
        "\n",
        "      if (count>step_to_continue_from) and ok:\n",
        "        left = cv2.cvtColor(left, cv2.COLOR_BGR2RGB)\n",
        "        mid = cv2.cvtColor(mid, cv2.COLOR_BGR2RGB)\n",
        "        right = cv2.cvtColor(right, cv2.COLOR_BGR2RGB)\n",
        "\n",
        "        # Stitch the frames together to form the panorama\n",
        "        stitched_frame = stitch_gt([left, mid, right], stitcher)\n",
        "        \n",
        "        # No homography could not be computed\n",
        "        if stitched_frame is None:\n",
        "          print(\"[INFO]: Homography could not be computed!\")\n",
        "          \n",
        "          fail_count+=1\n",
        "\n",
        "          if fail_count>100:\n",
        "            print(\"Stopping the process!\")\n",
        "            break\n",
        "          \n",
        "          else:\n",
        "            continue\n",
        "\n",
        "        # Add frame to video\n",
        "        # stitched_frame = imutils.resize(stitched_frame, width=800)\n",
        "        stitched_frame = cv2.resize(stitched_frame, (1920, 720))\n",
        "        frames.append(stitched_frame)\n",
        "\n",
        "    elif (count==4000):\n",
        "      print(\"Finished Processing!\")\n",
        "\n",
        "  cv2.destroyAllWindows()\n",
        "  return frames"
      ],
      "execution_count": null,
      "outputs": []
    },
    {
      "cell_type": "code",
      "metadata": {
        "id": "v6j_xOmptx59"
      },
      "source": [
        "# Defining the stitcher\n",
        "stitcher = cv2.createStitcher(try_use_gpu=True)"
      ],
      "execution_count": null,
      "outputs": []
    },
    {
      "cell_type": "code",
      "metadata": {
        "id": "RKn77u21t1iC"
      },
      "source": [
        "# Defining the paths\n",
        "\n",
        "left_video_in_path='/content/drive/My Drive/Colab Notebooks/Carla Dataset/City/Left.mp4'\n",
        "mid_video_in_path='/content/drive/My Drive/Colab Notebooks/Carla Dataset/City/Front.mp4'\n",
        "right_video_in_path='/content/drive/My Drive/Colab Notebooks/Carla Dataset/City/Right.mp4'"
      ],
      "execution_count": null,
      "outputs": []
    },
    {
      "cell_type": "code",
      "metadata": {
        "id": "tDDHGldat6ju",
        "colab": {
          "base_uri": "https://localhost:8080/"
        },
        "outputId": "e8193147-6301-413a-de47-f01e20bf8a13"
      },
      "source": [
        "# Set up video capture\n",
        "left_video = cv2.VideoCapture(left_video_in_path)\n",
        "mid_video = cv2.VideoCapture(mid_video_in_path)\n",
        "right_video = cv2.VideoCapture(right_video_in_path)\n",
        "print('[INFO]: {}, {} and {} loaded'.format(  left_video_in_path.split('/')[-1],\n",
        "                                              mid_video_in_path.split('/')[-1],\n",
        "                                              right_video_in_path.split('/')[-1])  )\n",
        "\n",
        "print('[INFO]: Video stitching starting....')\n",
        "\n",
        "# The frames of the stitched images\n",
        "frames = run(left_video, mid_video, right_video, stitcher)"
      ],
      "execution_count": null,
      "outputs": [
        {
          "output_type": "stream",
          "text": [
            "  0%|          | 1/14850 [00:00<26:54,  9.20it/s]"
          ],
          "name": "stderr"
        },
        {
          "output_type": "stream",
          "text": [
            "[INFO]: Left.mp4, Front.mp4 and Right.mp4 loaded\n",
            "[INFO]: Video stitching starting....\n"
          ],
          "name": "stdout"
        },
        {
          "output_type": "stream",
          "text": [
            " 17%|█▋        | 2508/14850 [01:22<1:03:12,  3.25it/s]"
          ],
          "name": "stderr"
        },
        {
          "output_type": "stream",
          "text": [
            "[INFO]: Homography could not be computed!\n"
          ],
          "name": "stdout"
        },
        {
          "output_type": "stream",
          "text": [
            " 17%|█▋        | 2511/14850 [01:23<1:04:51,  3.17it/s]"
          ],
          "name": "stderr"
        },
        {
          "output_type": "stream",
          "text": [
            "[INFO]: Homography could not be computed!\n"
          ],
          "name": "stdout"
        },
        {
          "output_type": "stream",
          "text": [
            " 17%|█▋        | 2521/14850 [01:27<1:47:40,  1.91it/s]"
          ],
          "name": "stderr"
        },
        {
          "output_type": "stream",
          "text": [
            "[INFO]: Homography could not be computed!\n"
          ],
          "name": "stdout"
        },
        {
          "output_type": "stream",
          "text": [
            " 17%|█▋        | 2526/14850 [01:30<1:40:17,  2.05it/s]"
          ],
          "name": "stderr"
        },
        {
          "output_type": "stream",
          "text": [
            "[INFO]: Homography could not be computed!\n"
          ],
          "name": "stdout"
        },
        {
          "output_type": "stream",
          "text": [
            "\r 17%|█▋        | 2527/14850 [01:30<1:37:14,  2.11it/s]"
          ],
          "name": "stderr"
        },
        {
          "output_type": "stream",
          "text": [
            "[INFO]: Homography could not be computed!\n"
          ],
          "name": "stdout"
        },
        {
          "output_type": "stream",
          "text": [
            " 17%|█▋        | 2543/14850 [01:37<1:26:38,  2.37it/s]"
          ],
          "name": "stderr"
        },
        {
          "output_type": "stream",
          "text": [
            "[INFO]: Homography could not be computed!\n"
          ],
          "name": "stdout"
        },
        {
          "output_type": "stream",
          "text": [
            " 17%|█▋        | 2546/14850 [01:38<1:27:44,  2.34it/s]"
          ],
          "name": "stderr"
        },
        {
          "output_type": "stream",
          "text": [
            "[INFO]: Homography could not be computed!\n"
          ],
          "name": "stdout"
        },
        {
          "output_type": "stream",
          "text": [
            " 17%|█▋        | 2550/14850 [01:40<1:29:33,  2.29it/s]"
          ],
          "name": "stderr"
        },
        {
          "output_type": "stream",
          "text": [
            "[INFO]: Homography could not be computed!\n"
          ],
          "name": "stdout"
        },
        {
          "output_type": "stream",
          "text": [
            " 17%|█▋        | 2582/14850 [01:56<1:34:57,  2.15it/s]"
          ],
          "name": "stderr"
        },
        {
          "output_type": "stream",
          "text": [
            "[INFO]: Homography could not be computed!\n"
          ],
          "name": "stdout"
        },
        {
          "output_type": "stream",
          "text": [
            " 18%|█▊        | 2600/14850 [02:04<1:22:23,  2.48it/s]"
          ],
          "name": "stderr"
        },
        {
          "output_type": "stream",
          "text": [
            "[INFO]: Homography could not be computed!\n"
          ],
          "name": "stdout"
        },
        {
          "output_type": "stream",
          "text": [
            " 18%|█▊        | 2605/14850 [02:06<1:18:01,  2.62it/s]"
          ],
          "name": "stderr"
        },
        {
          "output_type": "stream",
          "text": [
            "[INFO]: Homography could not be computed!\n"
          ],
          "name": "stdout"
        },
        {
          "output_type": "stream",
          "text": [
            "\r 18%|█▊        | 2606/14850 [02:07<1:11:15,  2.86it/s]"
          ],
          "name": "stderr"
        },
        {
          "output_type": "stream",
          "text": [
            "[INFO]: Homography could not be computed!\n"
          ],
          "name": "stdout"
        },
        {
          "output_type": "stream",
          "text": [
            " 18%|█▊        | 2609/14850 [02:08<1:13:56,  2.76it/s]"
          ],
          "name": "stderr"
        },
        {
          "output_type": "stream",
          "text": [
            "[INFO]: Homography could not be computed!\n"
          ],
          "name": "stdout"
        },
        {
          "output_type": "stream",
          "text": [
            " 18%|█▊        | 2611/14850 [02:09<1:16:20,  2.67it/s]"
          ],
          "name": "stderr"
        },
        {
          "output_type": "stream",
          "text": [
            "[INFO]: Homography could not be computed!\n"
          ],
          "name": "stdout"
        },
        {
          "output_type": "stream",
          "text": [
            "\r 18%|█▊        | 2612/14850 [02:09<1:10:30,  2.89it/s]"
          ],
          "name": "stderr"
        },
        {
          "output_type": "stream",
          "text": [
            "[INFO]: Homography could not be computed!\n"
          ],
          "name": "stdout"
        },
        {
          "output_type": "stream",
          "text": [
            "\r 18%|█▊        | 2613/14850 [02:09<1:06:36,  3.06it/s]"
          ],
          "name": "stderr"
        },
        {
          "output_type": "stream",
          "text": [
            "[INFO]: Homography could not be computed!\n"
          ],
          "name": "stdout"
        },
        {
          "output_type": "stream",
          "text": [
            " 18%|█▊        | 2620/14850 [02:12<1:24:12,  2.42it/s]"
          ],
          "name": "stderr"
        },
        {
          "output_type": "stream",
          "text": [
            "[INFO]: Homography could not be computed!\n"
          ],
          "name": "stdout"
        },
        {
          "output_type": "stream",
          "text": [
            "\r 18%|█▊        | 2621/14850 [02:13<1:16:00,  2.68it/s]"
          ],
          "name": "stderr"
        },
        {
          "output_type": "stream",
          "text": [
            "[INFO]: Homography could not be computed!\n"
          ],
          "name": "stdout"
        },
        {
          "output_type": "stream",
          "text": [
            " 18%|█▊        | 2623/14850 [02:14<1:19:37,  2.56it/s]"
          ],
          "name": "stderr"
        },
        {
          "output_type": "stream",
          "text": [
            "[INFO]: Homography could not be computed!\n"
          ],
          "name": "stdout"
        },
        {
          "output_type": "stream",
          "text": [
            "\r 18%|█▊        | 2624/14850 [02:14<1:13:13,  2.78it/s]"
          ],
          "name": "stderr"
        },
        {
          "output_type": "stream",
          "text": [
            "[INFO]: Homography could not be computed!\n"
          ],
          "name": "stdout"
        },
        {
          "output_type": "stream",
          "text": [
            " 18%|█▊        | 2626/14850 [02:15<1:13:04,  2.79it/s]"
          ],
          "name": "stderr"
        },
        {
          "output_type": "stream",
          "text": [
            "[INFO]: Homography could not be computed!\n"
          ],
          "name": "stdout"
        },
        {
          "output_type": "stream",
          "text": [
            " 18%|█▊        | 2628/14850 [02:15<1:13:04,  2.79it/s]"
          ],
          "name": "stderr"
        },
        {
          "output_type": "stream",
          "text": [
            "[INFO]: Homography could not be computed!\n"
          ],
          "name": "stdout"
        },
        {
          "output_type": "stream",
          "text": [
            " 18%|█▊        | 2630/14850 [02:16<1:16:58,  2.65it/s]"
          ],
          "name": "stderr"
        },
        {
          "output_type": "stream",
          "text": [
            "[INFO]: Homography could not be computed!\n"
          ],
          "name": "stdout"
        },
        {
          "output_type": "stream",
          "text": [
            "\r 18%|█▊        | 2631/14850 [02:17<1:10:46,  2.88it/s]"
          ],
          "name": "stderr"
        },
        {
          "output_type": "stream",
          "text": [
            "[INFO]: Homography could not be computed!\n"
          ],
          "name": "stdout"
        },
        {
          "output_type": "stream",
          "text": [
            " 18%|█▊        | 2634/14850 [02:18<1:13:29,  2.77it/s]"
          ],
          "name": "stderr"
        },
        {
          "output_type": "stream",
          "text": [
            "[INFO]: Homography could not be computed!\n"
          ],
          "name": "stdout"
        },
        {
          "output_type": "stream",
          "text": [
            "\r 18%|█▊        | 2635/14850 [02:18<1:07:29,  3.02it/s]"
          ],
          "name": "stderr"
        },
        {
          "output_type": "stream",
          "text": [
            "[INFO]: Homography could not be computed!\n"
          ],
          "name": "stdout"
        },
        {
          "output_type": "stream",
          "text": [
            " 18%|█▊        | 2637/14850 [02:19<1:07:05,  3.03it/s]"
          ],
          "name": "stderr"
        },
        {
          "output_type": "stream",
          "text": [
            "[INFO]: Homography could not be computed!\n"
          ],
          "name": "stdout"
        },
        {
          "output_type": "stream",
          "text": [
            " 18%|█▊        | 2639/14850 [02:19<1:10:16,  2.90it/s]"
          ],
          "name": "stderr"
        },
        {
          "output_type": "stream",
          "text": [
            "[INFO]: Homography could not be computed!\n"
          ],
          "name": "stdout"
        },
        {
          "output_type": "stream",
          "text": [
            " 18%|█▊        | 2641/14850 [02:20<1:11:18,  2.85it/s]"
          ],
          "name": "stderr"
        },
        {
          "output_type": "stream",
          "text": [
            "[INFO]: Homography could not be computed!\n"
          ],
          "name": "stdout"
        },
        {
          "output_type": "stream",
          "text": [
            " 18%|█▊        | 2650/14850 [02:24<1:22:37,  2.46it/s]"
          ],
          "name": "stderr"
        },
        {
          "output_type": "stream",
          "text": [
            "[INFO]: Homography could not be computed!\n"
          ],
          "name": "stdout"
        },
        {
          "output_type": "stream",
          "text": [
            " 18%|█▊        | 2653/14850 [02:26<1:26:20,  2.35it/s]"
          ],
          "name": "stderr"
        },
        {
          "output_type": "stream",
          "text": [
            "[INFO]: Homography could not be computed!\n"
          ],
          "name": "stdout"
        },
        {
          "output_type": "stream",
          "text": [
            "\r 18%|█▊        | 2654/14850 [02:26<1:27:25,  2.33it/s]"
          ],
          "name": "stderr"
        },
        {
          "output_type": "stream",
          "text": [
            "[INFO]: Homography could not be computed!\n"
          ],
          "name": "stdout"
        },
        {
          "output_type": "stream",
          "text": [
            " 18%|█▊        | 2657/14850 [02:27<1:29:42,  2.27it/s]"
          ],
          "name": "stderr"
        },
        {
          "output_type": "stream",
          "text": [
            "[INFO]: Homography could not be computed!\n"
          ],
          "name": "stdout"
        },
        {
          "output_type": "stream",
          "text": [
            " 18%|█▊        | 2673/14850 [02:36<1:33:26,  2.17it/s]"
          ],
          "name": "stderr"
        },
        {
          "output_type": "stream",
          "text": [
            "[INFO]: Homography could not be computed!\n"
          ],
          "name": "stdout"
        },
        {
          "output_type": "stream",
          "text": [
            "\r 18%|█▊        | 2674/14850 [02:36<1:23:20,  2.43it/s]"
          ],
          "name": "stderr"
        },
        {
          "output_type": "stream",
          "text": [
            "[INFO]: Homography could not be computed!\n"
          ],
          "name": "stdout"
        },
        {
          "output_type": "stream",
          "text": [
            " 18%|█▊        | 2694/14850 [02:46<1:30:58,  2.23it/s]"
          ],
          "name": "stderr"
        },
        {
          "output_type": "stream",
          "text": [
            "[INFO]: Homography could not be computed!\n"
          ],
          "name": "stdout"
        },
        {
          "output_type": "stream",
          "text": [
            "\r 18%|█▊        | 2695/14850 [02:47<1:22:09,  2.47it/s]"
          ],
          "name": "stderr"
        },
        {
          "output_type": "stream",
          "text": [
            "[INFO]: Homography could not be computed!\n"
          ],
          "name": "stdout"
        },
        {
          "output_type": "stream",
          "text": [
            "\r 18%|█▊        | 2696/14850 [02:47<1:15:39,  2.68it/s]"
          ],
          "name": "stderr"
        },
        {
          "output_type": "stream",
          "text": [
            "[INFO]: Homography could not be computed!\n"
          ],
          "name": "stdout"
        },
        {
          "output_type": "stream",
          "text": [
            "\r 18%|█▊        | 2697/14850 [02:47<1:11:24,  2.84it/s]"
          ],
          "name": "stderr"
        },
        {
          "output_type": "stream",
          "text": [
            "[INFO]: Homography could not be computed!\n"
          ],
          "name": "stdout"
        },
        {
          "output_type": "stream",
          "text": [
            " 18%|█▊        | 2700/14850 [02:49<1:20:37,  2.51it/s]"
          ],
          "name": "stderr"
        },
        {
          "output_type": "stream",
          "text": [
            "[INFO]: Homography could not be computed!\n"
          ],
          "name": "stdout"
        },
        {
          "output_type": "stream",
          "text": [
            " 18%|█▊        | 2706/14850 [02:51<1:26:50,  2.33it/s]"
          ],
          "name": "stderr"
        },
        {
          "output_type": "stream",
          "text": [
            "[INFO]: Homography could not be computed!\n"
          ],
          "name": "stdout"
        },
        {
          "output_type": "stream",
          "text": [
            " 18%|█▊        | 2713/14850 [02:55<1:30:28,  2.24it/s]"
          ],
          "name": "stderr"
        },
        {
          "output_type": "stream",
          "text": [
            "[INFO]: Homography could not be computed!\n"
          ],
          "name": "stdout"
        },
        {
          "output_type": "stream",
          "text": [
            " 18%|█▊        | 2716/14850 [02:56<1:25:47,  2.36it/s]"
          ],
          "name": "stderr"
        },
        {
          "output_type": "stream",
          "text": [
            "[INFO]: Homography could not be computed!\n"
          ],
          "name": "stdout"
        },
        {
          "output_type": "stream",
          "text": [
            "\r 18%|█▊        | 2717/14850 [02:56<1:18:27,  2.58it/s]"
          ],
          "name": "stderr"
        },
        {
          "output_type": "stream",
          "text": [
            "[INFO]: Homography could not be computed!\n"
          ],
          "name": "stdout"
        },
        {
          "output_type": "stream",
          "text": [
            " 18%|█▊        | 2719/14850 [02:57<1:22:35,  2.45it/s]"
          ],
          "name": "stderr"
        },
        {
          "output_type": "stream",
          "text": [
            "[INFO]: Homography could not be computed!\n"
          ],
          "name": "stdout"
        },
        {
          "output_type": "stream",
          "text": [
            "\r 18%|█▊        | 2720/14850 [02:58<1:16:16,  2.65it/s]"
          ],
          "name": "stderr"
        },
        {
          "output_type": "stream",
          "text": [
            "[INFO]: Homography could not be computed!\n"
          ],
          "name": "stdout"
        },
        {
          "output_type": "stream",
          "text": [
            " 18%|█▊        | 2722/14850 [02:58<1:16:04,  2.66it/s]"
          ],
          "name": "stderr"
        },
        {
          "output_type": "stream",
          "text": [
            "[INFO]: Homography could not be computed!\n"
          ],
          "name": "stdout"
        },
        {
          "output_type": "stream",
          "text": [
            "\r 18%|█▊        | 2723/14850 [02:59<1:12:13,  2.80it/s]"
          ],
          "name": "stderr"
        },
        {
          "output_type": "stream",
          "text": [
            "[INFO]: Homography could not be computed!\n"
          ],
          "name": "stdout"
        },
        {
          "output_type": "stream",
          "text": [
            "\r 18%|█▊        | 2724/14850 [02:59<1:10:02,  2.89it/s]"
          ],
          "name": "stderr"
        },
        {
          "output_type": "stream",
          "text": [
            "[INFO]: Homography could not be computed!\n"
          ],
          "name": "stdout"
        },
        {
          "output_type": "stream",
          "text": [
            "\r 18%|█▊        | 2725/14850 [02:59<1:07:57,  2.97it/s]"
          ],
          "name": "stderr"
        },
        {
          "output_type": "stream",
          "text": [
            "[INFO]: Homography could not be computed!\n"
          ],
          "name": "stdout"
        },
        {
          "output_type": "stream",
          "text": [
            " 18%|█▊        | 2738/14850 [03:06<1:28:56,  2.27it/s]"
          ],
          "name": "stderr"
        },
        {
          "output_type": "stream",
          "text": [
            "[INFO]: Homography could not be computed!\n"
          ],
          "name": "stdout"
        },
        {
          "output_type": "stream",
          "text": [
            " 18%|█▊        | 2742/14850 [03:07<1:25:43,  2.35it/s]"
          ],
          "name": "stderr"
        },
        {
          "output_type": "stream",
          "text": [
            "[INFO]: Homography could not be computed!\n"
          ],
          "name": "stdout"
        },
        {
          "output_type": "stream",
          "text": [
            " 18%|█▊        | 2747/14850 [03:10<1:39:51,  2.02it/s]"
          ],
          "name": "stderr"
        },
        {
          "output_type": "stream",
          "text": [
            "[INFO]: Homography could not be computed!\n"
          ],
          "name": "stdout"
        },
        {
          "output_type": "stream",
          "text": [
            " 19%|█▊        | 2755/14850 [03:14<1:40:09,  2.01it/s]"
          ],
          "name": "stderr"
        },
        {
          "output_type": "stream",
          "text": [
            "[INFO]: Homography could not be computed!\n"
          ],
          "name": "stdout"
        },
        {
          "output_type": "stream",
          "text": [
            " 20%|██        | 2986/14850 [05:32<2:14:05,  1.47it/s]"
          ],
          "name": "stderr"
        },
        {
          "output_type": "stream",
          "text": [
            "[INFO]: Homography could not be computed!\n"
          ],
          "name": "stdout"
        },
        {
          "output_type": "stream",
          "text": [
            " 21%|██        | 3078/14850 [06:27<2:14:38,  1.46it/s]"
          ],
          "name": "stderr"
        },
        {
          "output_type": "stream",
          "text": [
            "[INFO]: Homography could not be computed!\n"
          ],
          "name": "stdout"
        },
        {
          "output_type": "stream",
          "text": [
            " 22%|██▏       | 3311/14850 [08:49<2:12:15,  1.45it/s]"
          ],
          "name": "stderr"
        },
        {
          "output_type": "stream",
          "text": [
            "[INFO]: Homography could not be computed!\n"
          ],
          "name": "stdout"
        },
        {
          "output_type": "stream",
          "text": [
            " 23%|██▎       | 3484/14850 [10:34<2:11:31,  1.44it/s]"
          ],
          "name": "stderr"
        },
        {
          "output_type": "stream",
          "text": [
            "[INFO]: Homography could not be computed!\n"
          ],
          "name": "stdout"
        },
        {
          "output_type": "stream",
          "text": [
            " 25%|██▌       | 3733/14850 [13:03<2:06:46,  1.46it/s]"
          ],
          "name": "stderr"
        },
        {
          "output_type": "stream",
          "text": [
            "[INFO]: Homography could not be computed!\n"
          ],
          "name": "stdout"
        },
        {
          "output_type": "stream",
          "text": [
            " 25%|██▌       | 3739/14850 [13:07<2:03:17,  1.50it/s]"
          ],
          "name": "stderr"
        },
        {
          "output_type": "stream",
          "text": [
            "[INFO]: Homography could not be computed!\n"
          ],
          "name": "stdout"
        },
        {
          "output_type": "stream",
          "text": [
            "\r 25%|██▌       | 3740/14850 [13:08<2:13:15,  1.39it/s]"
          ],
          "name": "stderr"
        },
        {
          "output_type": "stream",
          "text": [
            "[INFO]: Homography could not be computed!\n"
          ],
          "name": "stdout"
        },
        {
          "output_type": "stream",
          "text": [
            " 25%|██▌       | 3750/14850 [13:14<1:43:27,  1.79it/s]"
          ],
          "name": "stderr"
        },
        {
          "output_type": "stream",
          "text": [
            "[INFO]: Homography could not be computed!\n"
          ],
          "name": "stdout"
        },
        {
          "output_type": "stream",
          "text": [
            " 25%|██▌       | 3771/14850 [13:26<2:07:05,  1.45it/s]"
          ],
          "name": "stderr"
        },
        {
          "output_type": "stream",
          "text": [
            "[INFO]: Homography could not be computed!\n"
          ],
          "name": "stdout"
        },
        {
          "output_type": "stream",
          "text": [
            " 26%|██▌       | 3796/14850 [13:42<2:05:48,  1.46it/s]"
          ],
          "name": "stderr"
        },
        {
          "output_type": "stream",
          "text": [
            "[INFO]: Homography could not be computed!\n"
          ],
          "name": "stdout"
        },
        {
          "output_type": "stream",
          "text": [
            " 26%|██▌       | 3803/14850 [13:47<2:12:17,  1.39it/s]"
          ],
          "name": "stderr"
        },
        {
          "output_type": "stream",
          "text": [
            "[INFO]: Homography could not be computed!\n"
          ],
          "name": "stdout"
        },
        {
          "output_type": "stream",
          "text": [
            " 26%|██▌       | 3808/14850 [13:50<2:12:35,  1.39it/s]"
          ],
          "name": "stderr"
        },
        {
          "output_type": "stream",
          "text": [
            "[INFO]: Homography could not be computed!\n"
          ],
          "name": "stdout"
        },
        {
          "output_type": "stream",
          "text": [
            " 26%|██▌       | 3831/14850 [14:04<2:08:14,  1.43it/s]"
          ],
          "name": "stderr"
        },
        {
          "output_type": "stream",
          "text": [
            "[INFO]: Homography could not be computed!\n"
          ],
          "name": "stdout"
        },
        {
          "output_type": "stream",
          "text": [
            " 26%|██▌       | 3834/14850 [14:06<2:15:19,  1.36it/s]"
          ],
          "name": "stderr"
        },
        {
          "output_type": "stream",
          "text": [
            "[INFO]: Homography could not be computed!\n"
          ],
          "name": "stdout"
        },
        {
          "output_type": "stream",
          "text": [
            " 26%|██▌       | 3854/14850 [14:19<2:09:51,  1.41it/s]"
          ],
          "name": "stderr"
        },
        {
          "output_type": "stream",
          "text": [
            "[INFO]: Homography could not be computed!\n"
          ],
          "name": "stdout"
        },
        {
          "output_type": "stream",
          "text": [
            " 26%|██▌       | 3860/14850 [14:23<2:11:32,  1.39it/s]"
          ],
          "name": "stderr"
        },
        {
          "output_type": "stream",
          "text": [
            "[INFO]: Homography could not be computed!\n"
          ],
          "name": "stdout"
        },
        {
          "output_type": "stream",
          "text": [
            " 26%|██▌       | 3877/14850 [14:34<2:19:12,  1.31it/s]"
          ],
          "name": "stderr"
        },
        {
          "output_type": "stream",
          "text": [
            "[INFO]: Homography could not be computed!\n"
          ],
          "name": "stdout"
        },
        {
          "output_type": "stream",
          "text": [
            " 26%|██▌       | 3881/14850 [14:36<2:18:18,  1.32it/s]"
          ],
          "name": "stderr"
        },
        {
          "output_type": "stream",
          "text": [
            "[INFO]: Homography could not be computed!\n"
          ],
          "name": "stdout"
        },
        {
          "output_type": "stream",
          "text": [
            " 26%|██▌       | 3895/14850 [14:45<2:09:59,  1.40it/s]"
          ],
          "name": "stderr"
        },
        {
          "output_type": "stream",
          "text": [
            "[INFO]: Homography could not be computed!\n"
          ],
          "name": "stdout"
        },
        {
          "output_type": "stream",
          "text": [
            " 26%|██▋       | 3900/14850 [14:49<2:14:50,  1.35it/s]"
          ],
          "name": "stderr"
        },
        {
          "output_type": "stream",
          "text": [
            "[INFO]: Homography could not be computed!\n"
          ],
          "name": "stdout"
        },
        {
          "output_type": "stream",
          "text": [
            " 26%|██▋       | 3907/14850 [14:53<2:13:23,  1.37it/s]"
          ],
          "name": "stderr"
        },
        {
          "output_type": "stream",
          "text": [
            "[INFO]: Homography could not be computed!\n"
          ],
          "name": "stdout"
        },
        {
          "output_type": "stream",
          "text": [
            " 26%|██▋       | 3916/14850 [14:59<2:13:31,  1.36it/s]"
          ],
          "name": "stderr"
        },
        {
          "output_type": "stream",
          "text": [
            "[INFO]: Homography could not be computed!\n"
          ],
          "name": "stdout"
        },
        {
          "output_type": "stream",
          "text": [
            " 26%|██▋       | 3920/14850 [15:02<2:19:53,  1.30it/s]"
          ],
          "name": "stderr"
        },
        {
          "output_type": "stream",
          "text": [
            "[INFO]: Homography could not be computed!\n"
          ],
          "name": "stdout"
        },
        {
          "output_type": "stream",
          "text": [
            " 26%|██▋       | 3929/14850 [15:08<2:10:17,  1.40it/s]"
          ],
          "name": "stderr"
        },
        {
          "output_type": "stream",
          "text": [
            "[INFO]: Homography could not be computed!\n"
          ],
          "name": "stdout"
        },
        {
          "output_type": "stream",
          "text": [
            " 27%|██▋       | 3940/14850 [15:15<2:14:09,  1.36it/s]"
          ],
          "name": "stderr"
        },
        {
          "output_type": "stream",
          "text": [
            "[INFO]: Homography could not be computed!\n"
          ],
          "name": "stdout"
        },
        {
          "output_type": "stream",
          "text": [
            " 27%|██▋       | 3945/14850 [15:18<2:15:29,  1.34it/s]"
          ],
          "name": "stderr"
        },
        {
          "output_type": "stream",
          "text": [
            "[INFO]: Homography could not be computed!\n"
          ],
          "name": "stdout"
        },
        {
          "output_type": "stream",
          "text": [
            " 27%|██▋       | 3949/14850 [15:21<2:17:48,  1.32it/s]"
          ],
          "name": "stderr"
        },
        {
          "output_type": "stream",
          "text": [
            "[INFO]: Homography could not be computed!\n"
          ],
          "name": "stdout"
        },
        {
          "output_type": "stream",
          "text": [
            " 27%|██▋       | 3955/14850 [15:25<2:15:04,  1.34it/s]"
          ],
          "name": "stderr"
        },
        {
          "output_type": "stream",
          "text": [
            "[INFO]: Homography could not be computed!\n"
          ],
          "name": "stdout"
        },
        {
          "output_type": "stream",
          "text": [
            "100%|██████████| 14850/14850 [15:53<00:00, 15.58it/s] "
          ],
          "name": "stderr"
        },
        {
          "output_type": "stream",
          "text": [
            "Finished Processing!\n"
          ],
          "name": "stdout"
        },
        {
          "output_type": "stream",
          "text": [
            "\n"
          ],
          "name": "stderr"
        }
      ]
    },
    {
      "cell_type": "code",
      "metadata": {
        "id": "BeDRM6Kd8esB",
        "colab": {
          "base_uri": "https://localhost:8080/"
        },
        "outputId": "38e95e0b-eb59-40c2-cf16-082cae78df8f"
      },
      "source": [
        "print(len(frames))"
      ],
      "execution_count": null,
      "outputs": [
        {
          "output_type": "stream",
          "text": [
            "1418\n"
          ],
          "name": "stdout"
        }
      ]
    },
    {
      "cell_type": "code",
      "metadata": {
        "id": "_13jwN0Yubpa",
        "colab": {
          "base_uri": "https://localhost:8080/"
        },
        "outputId": "cd26d848-b135-4afc-c51f-d2c389f996ef"
      },
      "source": [
        "print('[INFO]: Video stitching finished')\n",
        "\n",
        "'''Writing via CV2'''\n",
        "video_out_path='/content/drive/Shared drives/drive 4/Carla Dataset/Ground Truth'\n",
        "\n",
        "for i in range(len(frames)):\n",
        "  cv2.imwrite(video_out_path+f\"/{i+2462}\"+\".png\", frames[i])\n",
        "  print(\"Creating : \",video_out_path,f\"/{i+2462}\",\".png\")"
      ],
      "execution_count": null,
      "outputs": [
        {
          "output_type": "stream",
          "text": [
            "[INFO]: Video stitching finished\n",
            "Creating :  /content/drive/Shared drives/drive 4/Carla Dataset/Ground Truth /2462 .png\n",
            "Creating :  /content/drive/Shared drives/drive 4/Carla Dataset/Ground Truth /2463 .png\n",
            "Creating :  /content/drive/Shared drives/drive 4/Carla Dataset/Ground Truth /2464 .png\n",
            "Creating :  /content/drive/Shared drives/drive 4/Carla Dataset/Ground Truth /2465 .png\n",
            "Creating :  /content/drive/Shared drives/drive 4/Carla Dataset/Ground Truth /2466 .png\n",
            "Creating :  /content/drive/Shared drives/drive 4/Carla Dataset/Ground Truth /2467 .png\n",
            "Creating :  /content/drive/Shared drives/drive 4/Carla Dataset/Ground Truth /2468 .png\n",
            "Creating :  /content/drive/Shared drives/drive 4/Carla Dataset/Ground Truth /2469 .png\n",
            "Creating :  /content/drive/Shared drives/drive 4/Carla Dataset/Ground Truth /2470 .png\n",
            "Creating :  /content/drive/Shared drives/drive 4/Carla Dataset/Ground Truth /2471 .png\n",
            "Creating :  /content/drive/Shared drives/drive 4/Carla Dataset/Ground Truth /2472 .png\n",
            "Creating :  /content/drive/Shared drives/drive 4/Carla Dataset/Ground Truth /2473 .png\n",
            "Creating :  /content/drive/Shared drives/drive 4/Carla Dataset/Ground Truth /2474 .png\n",
            "Creating :  /content/drive/Shared drives/drive 4/Carla Dataset/Ground Truth /2475 .png\n",
            "Creating :  /content/drive/Shared drives/drive 4/Carla Dataset/Ground Truth /2476 .png\n",
            "Creating :  /content/drive/Shared drives/drive 4/Carla Dataset/Ground Truth /2477 .png\n",
            "Creating :  /content/drive/Shared drives/drive 4/Carla Dataset/Ground Truth /2478 .png\n",
            "Creating :  /content/drive/Shared drives/drive 4/Carla Dataset/Ground Truth /2479 .png\n",
            "Creating :  /content/drive/Shared drives/drive 4/Carla Dataset/Ground Truth /2480 .png\n",
            "Creating :  /content/drive/Shared drives/drive 4/Carla Dataset/Ground Truth /2481 .png\n",
            "Creating :  /content/drive/Shared drives/drive 4/Carla Dataset/Ground Truth /2482 .png\n",
            "Creating :  /content/drive/Shared drives/drive 4/Carla Dataset/Ground Truth /2483 .png\n",
            "Creating :  /content/drive/Shared drives/drive 4/Carla Dataset/Ground Truth /2484 .png\n",
            "Creating :  /content/drive/Shared drives/drive 4/Carla Dataset/Ground Truth /2485 .png\n",
            "Creating :  /content/drive/Shared drives/drive 4/Carla Dataset/Ground Truth /2486 .png\n",
            "Creating :  /content/drive/Shared drives/drive 4/Carla Dataset/Ground Truth /2487 .png\n",
            "Creating :  /content/drive/Shared drives/drive 4/Carla Dataset/Ground Truth /2488 .png\n",
            "Creating :  /content/drive/Shared drives/drive 4/Carla Dataset/Ground Truth /2489 .png\n",
            "Creating :  /content/drive/Shared drives/drive 4/Carla Dataset/Ground Truth /2490 .png\n",
            "Creating :  /content/drive/Shared drives/drive 4/Carla Dataset/Ground Truth /2491 .png\n",
            "Creating :  /content/drive/Shared drives/drive 4/Carla Dataset/Ground Truth /2492 .png\n",
            "Creating :  /content/drive/Shared drives/drive 4/Carla Dataset/Ground Truth /2493 .png\n",
            "Creating :  /content/drive/Shared drives/drive 4/Carla Dataset/Ground Truth /2494 .png\n",
            "Creating :  /content/drive/Shared drives/drive 4/Carla Dataset/Ground Truth /2495 .png\n",
            "Creating :  /content/drive/Shared drives/drive 4/Carla Dataset/Ground Truth /2496 .png\n",
            "Creating :  /content/drive/Shared drives/drive 4/Carla Dataset/Ground Truth /2497 .png\n",
            "Creating :  /content/drive/Shared drives/drive 4/Carla Dataset/Ground Truth /2498 .png\n",
            "Creating :  /content/drive/Shared drives/drive 4/Carla Dataset/Ground Truth /2499 .png\n",
            "Creating :  /content/drive/Shared drives/drive 4/Carla Dataset/Ground Truth /2500 .png\n",
            "Creating :  /content/drive/Shared drives/drive 4/Carla Dataset/Ground Truth /2501 .png\n",
            "Creating :  /content/drive/Shared drives/drive 4/Carla Dataset/Ground Truth /2502 .png\n",
            "Creating :  /content/drive/Shared drives/drive 4/Carla Dataset/Ground Truth /2503 .png\n",
            "Creating :  /content/drive/Shared drives/drive 4/Carla Dataset/Ground Truth /2504 .png\n",
            "Creating :  /content/drive/Shared drives/drive 4/Carla Dataset/Ground Truth /2505 .png\n",
            "Creating :  /content/drive/Shared drives/drive 4/Carla Dataset/Ground Truth /2506 .png\n",
            "Creating :  /content/drive/Shared drives/drive 4/Carla Dataset/Ground Truth /2507 .png\n",
            "Creating :  /content/drive/Shared drives/drive 4/Carla Dataset/Ground Truth /2508 .png\n",
            "Creating :  /content/drive/Shared drives/drive 4/Carla Dataset/Ground Truth /2509 .png\n",
            "Creating :  /content/drive/Shared drives/drive 4/Carla Dataset/Ground Truth /2510 .png\n",
            "Creating :  /content/drive/Shared drives/drive 4/Carla Dataset/Ground Truth /2511 .png\n",
            "Creating :  /content/drive/Shared drives/drive 4/Carla Dataset/Ground Truth /2512 .png\n",
            "Creating :  /content/drive/Shared drives/drive 4/Carla Dataset/Ground Truth /2513 .png\n",
            "Creating :  /content/drive/Shared drives/drive 4/Carla Dataset/Ground Truth /2514 .png\n",
            "Creating :  /content/drive/Shared drives/drive 4/Carla Dataset/Ground Truth /2515 .png\n",
            "Creating :  /content/drive/Shared drives/drive 4/Carla Dataset/Ground Truth /2516 .png\n",
            "Creating :  /content/drive/Shared drives/drive 4/Carla Dataset/Ground Truth /2517 .png\n",
            "Creating :  /content/drive/Shared drives/drive 4/Carla Dataset/Ground Truth /2518 .png\n",
            "Creating :  /content/drive/Shared drives/drive 4/Carla Dataset/Ground Truth /2519 .png\n",
            "Creating :  /content/drive/Shared drives/drive 4/Carla Dataset/Ground Truth /2520 .png\n",
            "Creating :  /content/drive/Shared drives/drive 4/Carla Dataset/Ground Truth /2521 .png\n",
            "Creating :  /content/drive/Shared drives/drive 4/Carla Dataset/Ground Truth /2522 .png\n",
            "Creating :  /content/drive/Shared drives/drive 4/Carla Dataset/Ground Truth /2523 .png\n",
            "Creating :  /content/drive/Shared drives/drive 4/Carla Dataset/Ground Truth /2524 .png\n",
            "Creating :  /content/drive/Shared drives/drive 4/Carla Dataset/Ground Truth /2525 .png\n",
            "Creating :  /content/drive/Shared drives/drive 4/Carla Dataset/Ground Truth /2526 .png\n",
            "Creating :  /content/drive/Shared drives/drive 4/Carla Dataset/Ground Truth /2527 .png\n",
            "Creating :  /content/drive/Shared drives/drive 4/Carla Dataset/Ground Truth /2528 .png\n",
            "Creating :  /content/drive/Shared drives/drive 4/Carla Dataset/Ground Truth /2529 .png\n",
            "Creating :  /content/drive/Shared drives/drive 4/Carla Dataset/Ground Truth /2530 .png\n",
            "Creating :  /content/drive/Shared drives/drive 4/Carla Dataset/Ground Truth /2531 .png\n",
            "Creating :  /content/drive/Shared drives/drive 4/Carla Dataset/Ground Truth /2532 .png\n",
            "Creating :  /content/drive/Shared drives/drive 4/Carla Dataset/Ground Truth /2533 .png\n",
            "Creating :  /content/drive/Shared drives/drive 4/Carla Dataset/Ground Truth /2534 .png\n",
            "Creating :  /content/drive/Shared drives/drive 4/Carla Dataset/Ground Truth /2535 .png\n",
            "Creating :  /content/drive/Shared drives/drive 4/Carla Dataset/Ground Truth /2536 .png\n",
            "Creating :  /content/drive/Shared drives/drive 4/Carla Dataset/Ground Truth /2537 .png\n",
            "Creating :  /content/drive/Shared drives/drive 4/Carla Dataset/Ground Truth /2538 .png\n",
            "Creating :  /content/drive/Shared drives/drive 4/Carla Dataset/Ground Truth /2539 .png\n",
            "Creating :  /content/drive/Shared drives/drive 4/Carla Dataset/Ground Truth /2540 .png\n",
            "Creating :  /content/drive/Shared drives/drive 4/Carla Dataset/Ground Truth /2541 .png\n",
            "Creating :  /content/drive/Shared drives/drive 4/Carla Dataset/Ground Truth /2542 .png\n",
            "Creating :  /content/drive/Shared drives/drive 4/Carla Dataset/Ground Truth /2543 .png\n",
            "Creating :  /content/drive/Shared drives/drive 4/Carla Dataset/Ground Truth /2544 .png\n",
            "Creating :  /content/drive/Shared drives/drive 4/Carla Dataset/Ground Truth /2545 .png\n",
            "Creating :  /content/drive/Shared drives/drive 4/Carla Dataset/Ground Truth /2546 .png\n",
            "Creating :  /content/drive/Shared drives/drive 4/Carla Dataset/Ground Truth /2547 .png\n",
            "Creating :  /content/drive/Shared drives/drive 4/Carla Dataset/Ground Truth /2548 .png\n",
            "Creating :  /content/drive/Shared drives/drive 4/Carla Dataset/Ground Truth /2549 .png\n",
            "Creating :  /content/drive/Shared drives/drive 4/Carla Dataset/Ground Truth /2550 .png\n",
            "Creating :  /content/drive/Shared drives/drive 4/Carla Dataset/Ground Truth /2551 .png\n",
            "Creating :  /content/drive/Shared drives/drive 4/Carla Dataset/Ground Truth /2552 .png\n",
            "Creating :  /content/drive/Shared drives/drive 4/Carla Dataset/Ground Truth /2553 .png\n",
            "Creating :  /content/drive/Shared drives/drive 4/Carla Dataset/Ground Truth /2554 .png\n",
            "Creating :  /content/drive/Shared drives/drive 4/Carla Dataset/Ground Truth /2555 .png\n",
            "Creating :  /content/drive/Shared drives/drive 4/Carla Dataset/Ground Truth /2556 .png\n",
            "Creating :  /content/drive/Shared drives/drive 4/Carla Dataset/Ground Truth /2557 .png\n",
            "Creating :  /content/drive/Shared drives/drive 4/Carla Dataset/Ground Truth /2558 .png\n",
            "Creating :  /content/drive/Shared drives/drive 4/Carla Dataset/Ground Truth /2559 .png\n",
            "Creating :  /content/drive/Shared drives/drive 4/Carla Dataset/Ground Truth /2560 .png\n",
            "Creating :  /content/drive/Shared drives/drive 4/Carla Dataset/Ground Truth /2561 .png\n",
            "Creating :  /content/drive/Shared drives/drive 4/Carla Dataset/Ground Truth /2562 .png\n",
            "Creating :  /content/drive/Shared drives/drive 4/Carla Dataset/Ground Truth /2563 .png\n",
            "Creating :  /content/drive/Shared drives/drive 4/Carla Dataset/Ground Truth /2564 .png\n",
            "Creating :  /content/drive/Shared drives/drive 4/Carla Dataset/Ground Truth /2565 .png\n",
            "Creating :  /content/drive/Shared drives/drive 4/Carla Dataset/Ground Truth /2566 .png\n",
            "Creating :  /content/drive/Shared drives/drive 4/Carla Dataset/Ground Truth /2567 .png\n",
            "Creating :  /content/drive/Shared drives/drive 4/Carla Dataset/Ground Truth /2568 .png\n",
            "Creating :  /content/drive/Shared drives/drive 4/Carla Dataset/Ground Truth /2569 .png\n",
            "Creating :  /content/drive/Shared drives/drive 4/Carla Dataset/Ground Truth /2570 .png\n",
            "Creating :  /content/drive/Shared drives/drive 4/Carla Dataset/Ground Truth /2571 .png\n",
            "Creating :  /content/drive/Shared drives/drive 4/Carla Dataset/Ground Truth /2572 .png\n",
            "Creating :  /content/drive/Shared drives/drive 4/Carla Dataset/Ground Truth /2573 .png\n",
            "Creating :  /content/drive/Shared drives/drive 4/Carla Dataset/Ground Truth /2574 .png\n",
            "Creating :  /content/drive/Shared drives/drive 4/Carla Dataset/Ground Truth /2575 .png\n",
            "Creating :  /content/drive/Shared drives/drive 4/Carla Dataset/Ground Truth /2576 .png\n",
            "Creating :  /content/drive/Shared drives/drive 4/Carla Dataset/Ground Truth /2577 .png\n",
            "Creating :  /content/drive/Shared drives/drive 4/Carla Dataset/Ground Truth /2578 .png\n",
            "Creating :  /content/drive/Shared drives/drive 4/Carla Dataset/Ground Truth /2579 .png\n",
            "Creating :  /content/drive/Shared drives/drive 4/Carla Dataset/Ground Truth /2580 .png\n",
            "Creating :  /content/drive/Shared drives/drive 4/Carla Dataset/Ground Truth /2581 .png\n",
            "Creating :  /content/drive/Shared drives/drive 4/Carla Dataset/Ground Truth /2582 .png\n",
            "Creating :  /content/drive/Shared drives/drive 4/Carla Dataset/Ground Truth /2583 .png\n",
            "Creating :  /content/drive/Shared drives/drive 4/Carla Dataset/Ground Truth /2584 .png\n",
            "Creating :  /content/drive/Shared drives/drive 4/Carla Dataset/Ground Truth /2585 .png\n",
            "Creating :  /content/drive/Shared drives/drive 4/Carla Dataset/Ground Truth /2586 .png\n",
            "Creating :  /content/drive/Shared drives/drive 4/Carla Dataset/Ground Truth /2587 .png\n",
            "Creating :  /content/drive/Shared drives/drive 4/Carla Dataset/Ground Truth /2588 .png\n",
            "Creating :  /content/drive/Shared drives/drive 4/Carla Dataset/Ground Truth /2589 .png\n",
            "Creating :  /content/drive/Shared drives/drive 4/Carla Dataset/Ground Truth /2590 .png\n",
            "Creating :  /content/drive/Shared drives/drive 4/Carla Dataset/Ground Truth /2591 .png\n",
            "Creating :  /content/drive/Shared drives/drive 4/Carla Dataset/Ground Truth /2592 .png\n",
            "Creating :  /content/drive/Shared drives/drive 4/Carla Dataset/Ground Truth /2593 .png\n",
            "Creating :  /content/drive/Shared drives/drive 4/Carla Dataset/Ground Truth /2594 .png\n",
            "Creating :  /content/drive/Shared drives/drive 4/Carla Dataset/Ground Truth /2595 .png\n",
            "Creating :  /content/drive/Shared drives/drive 4/Carla Dataset/Ground Truth /2596 .png\n",
            "Creating :  /content/drive/Shared drives/drive 4/Carla Dataset/Ground Truth /2597 .png\n",
            "Creating :  /content/drive/Shared drives/drive 4/Carla Dataset/Ground Truth /2598 .png\n",
            "Creating :  /content/drive/Shared drives/drive 4/Carla Dataset/Ground Truth /2599 .png\n",
            "Creating :  /content/drive/Shared drives/drive 4/Carla Dataset/Ground Truth /2600 .png\n",
            "Creating :  /content/drive/Shared drives/drive 4/Carla Dataset/Ground Truth /2601 .png\n",
            "Creating :  /content/drive/Shared drives/drive 4/Carla Dataset/Ground Truth /2602 .png\n",
            "Creating :  /content/drive/Shared drives/drive 4/Carla Dataset/Ground Truth /2603 .png\n",
            "Creating :  /content/drive/Shared drives/drive 4/Carla Dataset/Ground Truth /2604 .png\n",
            "Creating :  /content/drive/Shared drives/drive 4/Carla Dataset/Ground Truth /2605 .png\n",
            "Creating :  /content/drive/Shared drives/drive 4/Carla Dataset/Ground Truth /2606 .png\n",
            "Creating :  /content/drive/Shared drives/drive 4/Carla Dataset/Ground Truth /2607 .png\n",
            "Creating :  /content/drive/Shared drives/drive 4/Carla Dataset/Ground Truth /2608 .png\n",
            "Creating :  /content/drive/Shared drives/drive 4/Carla Dataset/Ground Truth /2609 .png\n",
            "Creating :  /content/drive/Shared drives/drive 4/Carla Dataset/Ground Truth /2610 .png\n",
            "Creating :  /content/drive/Shared drives/drive 4/Carla Dataset/Ground Truth /2611 .png\n",
            "Creating :  /content/drive/Shared drives/drive 4/Carla Dataset/Ground Truth /2612 .png\n",
            "Creating :  /content/drive/Shared drives/drive 4/Carla Dataset/Ground Truth /2613 .png\n",
            "Creating :  /content/drive/Shared drives/drive 4/Carla Dataset/Ground Truth /2614 .png\n",
            "Creating :  /content/drive/Shared drives/drive 4/Carla Dataset/Ground Truth /2615 .png\n",
            "Creating :  /content/drive/Shared drives/drive 4/Carla Dataset/Ground Truth /2616 .png\n",
            "Creating :  /content/drive/Shared drives/drive 4/Carla Dataset/Ground Truth /2617 .png\n",
            "Creating :  /content/drive/Shared drives/drive 4/Carla Dataset/Ground Truth /2618 .png\n",
            "Creating :  /content/drive/Shared drives/drive 4/Carla Dataset/Ground Truth /2619 .png\n",
            "Creating :  /content/drive/Shared drives/drive 4/Carla Dataset/Ground Truth /2620 .png\n",
            "Creating :  /content/drive/Shared drives/drive 4/Carla Dataset/Ground Truth /2621 .png\n",
            "Creating :  /content/drive/Shared drives/drive 4/Carla Dataset/Ground Truth /2622 .png\n",
            "Creating :  /content/drive/Shared drives/drive 4/Carla Dataset/Ground Truth /2623 .png\n",
            "Creating :  /content/drive/Shared drives/drive 4/Carla Dataset/Ground Truth /2624 .png\n",
            "Creating :  /content/drive/Shared drives/drive 4/Carla Dataset/Ground Truth /2625 .png\n",
            "Creating :  /content/drive/Shared drives/drive 4/Carla Dataset/Ground Truth /2626 .png\n",
            "Creating :  /content/drive/Shared drives/drive 4/Carla Dataset/Ground Truth /2627 .png\n",
            "Creating :  /content/drive/Shared drives/drive 4/Carla Dataset/Ground Truth /2628 .png\n",
            "Creating :  /content/drive/Shared drives/drive 4/Carla Dataset/Ground Truth /2629 .png\n",
            "Creating :  /content/drive/Shared drives/drive 4/Carla Dataset/Ground Truth /2630 .png\n",
            "Creating :  /content/drive/Shared drives/drive 4/Carla Dataset/Ground Truth /2631 .png\n",
            "Creating :  /content/drive/Shared drives/drive 4/Carla Dataset/Ground Truth /2632 .png\n",
            "Creating :  /content/drive/Shared drives/drive 4/Carla Dataset/Ground Truth /2633 .png\n",
            "Creating :  /content/drive/Shared drives/drive 4/Carla Dataset/Ground Truth /2634 .png\n",
            "Creating :  /content/drive/Shared drives/drive 4/Carla Dataset/Ground Truth /2635 .png\n",
            "Creating :  /content/drive/Shared drives/drive 4/Carla Dataset/Ground Truth /2636 .png\n",
            "Creating :  /content/drive/Shared drives/drive 4/Carla Dataset/Ground Truth /2637 .png\n",
            "Creating :  /content/drive/Shared drives/drive 4/Carla Dataset/Ground Truth /2638 .png\n",
            "Creating :  /content/drive/Shared drives/drive 4/Carla Dataset/Ground Truth /2639 .png\n",
            "Creating :  /content/drive/Shared drives/drive 4/Carla Dataset/Ground Truth /2640 .png\n",
            "Creating :  /content/drive/Shared drives/drive 4/Carla Dataset/Ground Truth /2641 .png\n",
            "Creating :  /content/drive/Shared drives/drive 4/Carla Dataset/Ground Truth /2642 .png\n",
            "Creating :  /content/drive/Shared drives/drive 4/Carla Dataset/Ground Truth /2643 .png\n",
            "Creating :  /content/drive/Shared drives/drive 4/Carla Dataset/Ground Truth /2644 .png\n",
            "Creating :  /content/drive/Shared drives/drive 4/Carla Dataset/Ground Truth /2645 .png\n",
            "Creating :  /content/drive/Shared drives/drive 4/Carla Dataset/Ground Truth /2646 .png\n",
            "Creating :  /content/drive/Shared drives/drive 4/Carla Dataset/Ground Truth /2647 .png\n",
            "Creating :  /content/drive/Shared drives/drive 4/Carla Dataset/Ground Truth /2648 .png\n",
            "Creating :  /content/drive/Shared drives/drive 4/Carla Dataset/Ground Truth /2649 .png\n",
            "Creating :  /content/drive/Shared drives/drive 4/Carla Dataset/Ground Truth /2650 .png\n",
            "Creating :  /content/drive/Shared drives/drive 4/Carla Dataset/Ground Truth /2651 .png\n",
            "Creating :  /content/drive/Shared drives/drive 4/Carla Dataset/Ground Truth /2652 .png\n",
            "Creating :  /content/drive/Shared drives/drive 4/Carla Dataset/Ground Truth /2653 .png\n",
            "Creating :  /content/drive/Shared drives/drive 4/Carla Dataset/Ground Truth /2654 .png\n",
            "Creating :  /content/drive/Shared drives/drive 4/Carla Dataset/Ground Truth /2655 .png\n",
            "Creating :  /content/drive/Shared drives/drive 4/Carla Dataset/Ground Truth /2656 .png\n",
            "Creating :  /content/drive/Shared drives/drive 4/Carla Dataset/Ground Truth /2657 .png\n",
            "Creating :  /content/drive/Shared drives/drive 4/Carla Dataset/Ground Truth /2658 .png\n",
            "Creating :  /content/drive/Shared drives/drive 4/Carla Dataset/Ground Truth /2659 .png\n",
            "Creating :  /content/drive/Shared drives/drive 4/Carla Dataset/Ground Truth /2660 .png\n",
            "Creating :  /content/drive/Shared drives/drive 4/Carla Dataset/Ground Truth /2661 .png\n",
            "Creating :  /content/drive/Shared drives/drive 4/Carla Dataset/Ground Truth /2662 .png\n",
            "Creating :  /content/drive/Shared drives/drive 4/Carla Dataset/Ground Truth /2663 .png\n",
            "Creating :  /content/drive/Shared drives/drive 4/Carla Dataset/Ground Truth /2664 .png\n",
            "Creating :  /content/drive/Shared drives/drive 4/Carla Dataset/Ground Truth /2665 .png\n",
            "Creating :  /content/drive/Shared drives/drive 4/Carla Dataset/Ground Truth /2666 .png\n",
            "Creating :  /content/drive/Shared drives/drive 4/Carla Dataset/Ground Truth /2667 .png\n",
            "Creating :  /content/drive/Shared drives/drive 4/Carla Dataset/Ground Truth /2668 .png\n",
            "Creating :  /content/drive/Shared drives/drive 4/Carla Dataset/Ground Truth /2669 .png\n",
            "Creating :  /content/drive/Shared drives/drive 4/Carla Dataset/Ground Truth /2670 .png\n",
            "Creating :  /content/drive/Shared drives/drive 4/Carla Dataset/Ground Truth /2671 .png\n",
            "Creating :  /content/drive/Shared drives/drive 4/Carla Dataset/Ground Truth /2672 .png\n",
            "Creating :  /content/drive/Shared drives/drive 4/Carla Dataset/Ground Truth /2673 .png\n",
            "Creating :  /content/drive/Shared drives/drive 4/Carla Dataset/Ground Truth /2674 .png\n",
            "Creating :  /content/drive/Shared drives/drive 4/Carla Dataset/Ground Truth /2675 .png\n",
            "Creating :  /content/drive/Shared drives/drive 4/Carla Dataset/Ground Truth /2676 .png\n",
            "Creating :  /content/drive/Shared drives/drive 4/Carla Dataset/Ground Truth /2677 .png\n",
            "Creating :  /content/drive/Shared drives/drive 4/Carla Dataset/Ground Truth /2678 .png\n",
            "Creating :  /content/drive/Shared drives/drive 4/Carla Dataset/Ground Truth /2679 .png\n",
            "Creating :  /content/drive/Shared drives/drive 4/Carla Dataset/Ground Truth /2680 .png\n",
            "Creating :  /content/drive/Shared drives/drive 4/Carla Dataset/Ground Truth /2681 .png\n",
            "Creating :  /content/drive/Shared drives/drive 4/Carla Dataset/Ground Truth /2682 .png\n",
            "Creating :  /content/drive/Shared drives/drive 4/Carla Dataset/Ground Truth /2683 .png\n",
            "Creating :  /content/drive/Shared drives/drive 4/Carla Dataset/Ground Truth /2684 .png\n",
            "Creating :  /content/drive/Shared drives/drive 4/Carla Dataset/Ground Truth /2685 .png\n",
            "Creating :  /content/drive/Shared drives/drive 4/Carla Dataset/Ground Truth /2686 .png\n",
            "Creating :  /content/drive/Shared drives/drive 4/Carla Dataset/Ground Truth /2687 .png\n",
            "Creating :  /content/drive/Shared drives/drive 4/Carla Dataset/Ground Truth /2688 .png\n",
            "Creating :  /content/drive/Shared drives/drive 4/Carla Dataset/Ground Truth /2689 .png\n",
            "Creating :  /content/drive/Shared drives/drive 4/Carla Dataset/Ground Truth /2690 .png\n",
            "Creating :  /content/drive/Shared drives/drive 4/Carla Dataset/Ground Truth /2691 .png\n",
            "Creating :  /content/drive/Shared drives/drive 4/Carla Dataset/Ground Truth /2692 .png\n",
            "Creating :  /content/drive/Shared drives/drive 4/Carla Dataset/Ground Truth /2693 .png\n",
            "Creating :  /content/drive/Shared drives/drive 4/Carla Dataset/Ground Truth /2694 .png\n",
            "Creating :  /content/drive/Shared drives/drive 4/Carla Dataset/Ground Truth /2695 .png\n",
            "Creating :  /content/drive/Shared drives/drive 4/Carla Dataset/Ground Truth /2696 .png\n",
            "Creating :  /content/drive/Shared drives/drive 4/Carla Dataset/Ground Truth /2697 .png\n",
            "Creating :  /content/drive/Shared drives/drive 4/Carla Dataset/Ground Truth /2698 .png\n",
            "Creating :  /content/drive/Shared drives/drive 4/Carla Dataset/Ground Truth /2699 .png\n",
            "Creating :  /content/drive/Shared drives/drive 4/Carla Dataset/Ground Truth /2700 .png\n",
            "Creating :  /content/drive/Shared drives/drive 4/Carla Dataset/Ground Truth /2701 .png\n",
            "Creating :  /content/drive/Shared drives/drive 4/Carla Dataset/Ground Truth /2702 .png\n",
            "Creating :  /content/drive/Shared drives/drive 4/Carla Dataset/Ground Truth /2703 .png\n",
            "Creating :  /content/drive/Shared drives/drive 4/Carla Dataset/Ground Truth /2704 .png\n",
            "Creating :  /content/drive/Shared drives/drive 4/Carla Dataset/Ground Truth /2705 .png\n",
            "Creating :  /content/drive/Shared drives/drive 4/Carla Dataset/Ground Truth /2706 .png\n",
            "Creating :  /content/drive/Shared drives/drive 4/Carla Dataset/Ground Truth /2707 .png\n",
            "Creating :  /content/drive/Shared drives/drive 4/Carla Dataset/Ground Truth /2708 .png\n",
            "Creating :  /content/drive/Shared drives/drive 4/Carla Dataset/Ground Truth /2709 .png\n",
            "Creating :  /content/drive/Shared drives/drive 4/Carla Dataset/Ground Truth /2710 .png\n",
            "Creating :  /content/drive/Shared drives/drive 4/Carla Dataset/Ground Truth /2711 .png\n",
            "Creating :  /content/drive/Shared drives/drive 4/Carla Dataset/Ground Truth /2712 .png\n",
            "Creating :  /content/drive/Shared drives/drive 4/Carla Dataset/Ground Truth /2713 .png\n",
            "Creating :  /content/drive/Shared drives/drive 4/Carla Dataset/Ground Truth /2714 .png\n",
            "Creating :  /content/drive/Shared drives/drive 4/Carla Dataset/Ground Truth /2715 .png\n",
            "Creating :  /content/drive/Shared drives/drive 4/Carla Dataset/Ground Truth /2716 .png\n",
            "Creating :  /content/drive/Shared drives/drive 4/Carla Dataset/Ground Truth /2717 .png\n",
            "Creating :  /content/drive/Shared drives/drive 4/Carla Dataset/Ground Truth /2718 .png\n",
            "Creating :  /content/drive/Shared drives/drive 4/Carla Dataset/Ground Truth /2719 .png\n",
            "Creating :  /content/drive/Shared drives/drive 4/Carla Dataset/Ground Truth /2720 .png\n",
            "Creating :  /content/drive/Shared drives/drive 4/Carla Dataset/Ground Truth /2721 .png\n",
            "Creating :  /content/drive/Shared drives/drive 4/Carla Dataset/Ground Truth /2722 .png\n",
            "Creating :  /content/drive/Shared drives/drive 4/Carla Dataset/Ground Truth /2723 .png\n",
            "Creating :  /content/drive/Shared drives/drive 4/Carla Dataset/Ground Truth /2724 .png\n",
            "Creating :  /content/drive/Shared drives/drive 4/Carla Dataset/Ground Truth /2725 .png\n",
            "Creating :  /content/drive/Shared drives/drive 4/Carla Dataset/Ground Truth /2726 .png\n",
            "Creating :  /content/drive/Shared drives/drive 4/Carla Dataset/Ground Truth /2727 .png\n",
            "Creating :  /content/drive/Shared drives/drive 4/Carla Dataset/Ground Truth /2728 .png\n",
            "Creating :  /content/drive/Shared drives/drive 4/Carla Dataset/Ground Truth /2729 .png\n",
            "Creating :  /content/drive/Shared drives/drive 4/Carla Dataset/Ground Truth /2730 .png\n",
            "Creating :  /content/drive/Shared drives/drive 4/Carla Dataset/Ground Truth /2731 .png\n",
            "Creating :  /content/drive/Shared drives/drive 4/Carla Dataset/Ground Truth /2732 .png\n",
            "Creating :  /content/drive/Shared drives/drive 4/Carla Dataset/Ground Truth /2733 .png\n",
            "Creating :  /content/drive/Shared drives/drive 4/Carla Dataset/Ground Truth /2734 .png\n",
            "Creating :  /content/drive/Shared drives/drive 4/Carla Dataset/Ground Truth /2735 .png\n",
            "Creating :  /content/drive/Shared drives/drive 4/Carla Dataset/Ground Truth /2736 .png\n",
            "Creating :  /content/drive/Shared drives/drive 4/Carla Dataset/Ground Truth /2737 .png\n",
            "Creating :  /content/drive/Shared drives/drive 4/Carla Dataset/Ground Truth /2738 .png\n",
            "Creating :  /content/drive/Shared drives/drive 4/Carla Dataset/Ground Truth /2739 .png\n",
            "Creating :  /content/drive/Shared drives/drive 4/Carla Dataset/Ground Truth /2740 .png\n",
            "Creating :  /content/drive/Shared drives/drive 4/Carla Dataset/Ground Truth /2741 .png\n",
            "Creating :  /content/drive/Shared drives/drive 4/Carla Dataset/Ground Truth /2742 .png\n",
            "Creating :  /content/drive/Shared drives/drive 4/Carla Dataset/Ground Truth /2743 .png\n",
            "Creating :  /content/drive/Shared drives/drive 4/Carla Dataset/Ground Truth /2744 .png\n",
            "Creating :  /content/drive/Shared drives/drive 4/Carla Dataset/Ground Truth /2745 .png\n",
            "Creating :  /content/drive/Shared drives/drive 4/Carla Dataset/Ground Truth /2746 .png\n",
            "Creating :  /content/drive/Shared drives/drive 4/Carla Dataset/Ground Truth /2747 .png\n",
            "Creating :  /content/drive/Shared drives/drive 4/Carla Dataset/Ground Truth /2748 .png\n",
            "Creating :  /content/drive/Shared drives/drive 4/Carla Dataset/Ground Truth /2749 .png\n",
            "Creating :  /content/drive/Shared drives/drive 4/Carla Dataset/Ground Truth /2750 .png\n",
            "Creating :  /content/drive/Shared drives/drive 4/Carla Dataset/Ground Truth /2751 .png\n",
            "Creating :  /content/drive/Shared drives/drive 4/Carla Dataset/Ground Truth /2752 .png\n",
            "Creating :  /content/drive/Shared drives/drive 4/Carla Dataset/Ground Truth /2753 .png\n",
            "Creating :  /content/drive/Shared drives/drive 4/Carla Dataset/Ground Truth /2754 .png\n",
            "Creating :  /content/drive/Shared drives/drive 4/Carla Dataset/Ground Truth /2755 .png\n",
            "Creating :  /content/drive/Shared drives/drive 4/Carla Dataset/Ground Truth /2756 .png\n",
            "Creating :  /content/drive/Shared drives/drive 4/Carla Dataset/Ground Truth /2757 .png\n",
            "Creating :  /content/drive/Shared drives/drive 4/Carla Dataset/Ground Truth /2758 .png\n",
            "Creating :  /content/drive/Shared drives/drive 4/Carla Dataset/Ground Truth /2759 .png\n",
            "Creating :  /content/drive/Shared drives/drive 4/Carla Dataset/Ground Truth /2760 .png\n",
            "Creating :  /content/drive/Shared drives/drive 4/Carla Dataset/Ground Truth /2761 .png\n",
            "Creating :  /content/drive/Shared drives/drive 4/Carla Dataset/Ground Truth /2762 .png\n",
            "Creating :  /content/drive/Shared drives/drive 4/Carla Dataset/Ground Truth /2763 .png\n",
            "Creating :  /content/drive/Shared drives/drive 4/Carla Dataset/Ground Truth /2764 .png\n",
            "Creating :  /content/drive/Shared drives/drive 4/Carla Dataset/Ground Truth /2765 .png\n",
            "Creating :  /content/drive/Shared drives/drive 4/Carla Dataset/Ground Truth /2766 .png\n",
            "Creating :  /content/drive/Shared drives/drive 4/Carla Dataset/Ground Truth /2767 .png\n",
            "Creating :  /content/drive/Shared drives/drive 4/Carla Dataset/Ground Truth /2768 .png\n",
            "Creating :  /content/drive/Shared drives/drive 4/Carla Dataset/Ground Truth /2769 .png\n",
            "Creating :  /content/drive/Shared drives/drive 4/Carla Dataset/Ground Truth /2770 .png\n",
            "Creating :  /content/drive/Shared drives/drive 4/Carla Dataset/Ground Truth /2771 .png\n",
            "Creating :  /content/drive/Shared drives/drive 4/Carla Dataset/Ground Truth /2772 .png\n",
            "Creating :  /content/drive/Shared drives/drive 4/Carla Dataset/Ground Truth /2773 .png\n",
            "Creating :  /content/drive/Shared drives/drive 4/Carla Dataset/Ground Truth /2774 .png\n",
            "Creating :  /content/drive/Shared drives/drive 4/Carla Dataset/Ground Truth /2775 .png\n",
            "Creating :  /content/drive/Shared drives/drive 4/Carla Dataset/Ground Truth /2776 .png\n",
            "Creating :  /content/drive/Shared drives/drive 4/Carla Dataset/Ground Truth /2777 .png\n",
            "Creating :  /content/drive/Shared drives/drive 4/Carla Dataset/Ground Truth /2778 .png\n",
            "Creating :  /content/drive/Shared drives/drive 4/Carla Dataset/Ground Truth /2779 .png\n",
            "Creating :  /content/drive/Shared drives/drive 4/Carla Dataset/Ground Truth /2780 .png\n",
            "Creating :  /content/drive/Shared drives/drive 4/Carla Dataset/Ground Truth /2781 .png\n",
            "Creating :  /content/drive/Shared drives/drive 4/Carla Dataset/Ground Truth /2782 .png\n",
            "Creating :  /content/drive/Shared drives/drive 4/Carla Dataset/Ground Truth /2783 .png\n",
            "Creating :  /content/drive/Shared drives/drive 4/Carla Dataset/Ground Truth /2784 .png\n",
            "Creating :  /content/drive/Shared drives/drive 4/Carla Dataset/Ground Truth /2785 .png\n",
            "Creating :  /content/drive/Shared drives/drive 4/Carla Dataset/Ground Truth /2786 .png\n",
            "Creating :  /content/drive/Shared drives/drive 4/Carla Dataset/Ground Truth /2787 .png\n",
            "Creating :  /content/drive/Shared drives/drive 4/Carla Dataset/Ground Truth /2788 .png\n",
            "Creating :  /content/drive/Shared drives/drive 4/Carla Dataset/Ground Truth /2789 .png\n",
            "Creating :  /content/drive/Shared drives/drive 4/Carla Dataset/Ground Truth /2790 .png\n",
            "Creating :  /content/drive/Shared drives/drive 4/Carla Dataset/Ground Truth /2791 .png\n",
            "Creating :  /content/drive/Shared drives/drive 4/Carla Dataset/Ground Truth /2792 .png\n",
            "Creating :  /content/drive/Shared drives/drive 4/Carla Dataset/Ground Truth /2793 .png\n",
            "Creating :  /content/drive/Shared drives/drive 4/Carla Dataset/Ground Truth /2794 .png\n",
            "Creating :  /content/drive/Shared drives/drive 4/Carla Dataset/Ground Truth /2795 .png\n",
            "Creating :  /content/drive/Shared drives/drive 4/Carla Dataset/Ground Truth /2796 .png\n",
            "Creating :  /content/drive/Shared drives/drive 4/Carla Dataset/Ground Truth /2797 .png\n",
            "Creating :  /content/drive/Shared drives/drive 4/Carla Dataset/Ground Truth /2798 .png\n",
            "Creating :  /content/drive/Shared drives/drive 4/Carla Dataset/Ground Truth /2799 .png\n",
            "Creating :  /content/drive/Shared drives/drive 4/Carla Dataset/Ground Truth /2800 .png\n",
            "Creating :  /content/drive/Shared drives/drive 4/Carla Dataset/Ground Truth /2801 .png\n",
            "Creating :  /content/drive/Shared drives/drive 4/Carla Dataset/Ground Truth /2802 .png\n",
            "Creating :  /content/drive/Shared drives/drive 4/Carla Dataset/Ground Truth /2803 .png\n",
            "Creating :  /content/drive/Shared drives/drive 4/Carla Dataset/Ground Truth /2804 .png\n",
            "Creating :  /content/drive/Shared drives/drive 4/Carla Dataset/Ground Truth /2805 .png\n",
            "Creating :  /content/drive/Shared drives/drive 4/Carla Dataset/Ground Truth /2806 .png\n",
            "Creating :  /content/drive/Shared drives/drive 4/Carla Dataset/Ground Truth /2807 .png\n",
            "Creating :  /content/drive/Shared drives/drive 4/Carla Dataset/Ground Truth /2808 .png\n",
            "Creating :  /content/drive/Shared drives/drive 4/Carla Dataset/Ground Truth /2809 .png\n",
            "Creating :  /content/drive/Shared drives/drive 4/Carla Dataset/Ground Truth /2810 .png\n",
            "Creating :  /content/drive/Shared drives/drive 4/Carla Dataset/Ground Truth /2811 .png\n",
            "Creating :  /content/drive/Shared drives/drive 4/Carla Dataset/Ground Truth /2812 .png\n",
            "Creating :  /content/drive/Shared drives/drive 4/Carla Dataset/Ground Truth /2813 .png\n",
            "Creating :  /content/drive/Shared drives/drive 4/Carla Dataset/Ground Truth /2814 .png\n",
            "Creating :  /content/drive/Shared drives/drive 4/Carla Dataset/Ground Truth /2815 .png\n",
            "Creating :  /content/drive/Shared drives/drive 4/Carla Dataset/Ground Truth /2816 .png\n",
            "Creating :  /content/drive/Shared drives/drive 4/Carla Dataset/Ground Truth /2817 .png\n",
            "Creating :  /content/drive/Shared drives/drive 4/Carla Dataset/Ground Truth /2818 .png\n",
            "Creating :  /content/drive/Shared drives/drive 4/Carla Dataset/Ground Truth /2819 .png\n",
            "Creating :  /content/drive/Shared drives/drive 4/Carla Dataset/Ground Truth /2820 .png\n",
            "Creating :  /content/drive/Shared drives/drive 4/Carla Dataset/Ground Truth /2821 .png\n",
            "Creating :  /content/drive/Shared drives/drive 4/Carla Dataset/Ground Truth /2822 .png\n",
            "Creating :  /content/drive/Shared drives/drive 4/Carla Dataset/Ground Truth /2823 .png\n",
            "Creating :  /content/drive/Shared drives/drive 4/Carla Dataset/Ground Truth /2824 .png\n",
            "Creating :  /content/drive/Shared drives/drive 4/Carla Dataset/Ground Truth /2825 .png\n",
            "Creating :  /content/drive/Shared drives/drive 4/Carla Dataset/Ground Truth /2826 .png\n",
            "Creating :  /content/drive/Shared drives/drive 4/Carla Dataset/Ground Truth /2827 .png\n",
            "Creating :  /content/drive/Shared drives/drive 4/Carla Dataset/Ground Truth /2828 .png\n",
            "Creating :  /content/drive/Shared drives/drive 4/Carla Dataset/Ground Truth /2829 .png\n",
            "Creating :  /content/drive/Shared drives/drive 4/Carla Dataset/Ground Truth /2830 .png\n",
            "Creating :  /content/drive/Shared drives/drive 4/Carla Dataset/Ground Truth /2831 .png\n",
            "Creating :  /content/drive/Shared drives/drive 4/Carla Dataset/Ground Truth /2832 .png\n",
            "Creating :  /content/drive/Shared drives/drive 4/Carla Dataset/Ground Truth /2833 .png\n",
            "Creating :  /content/drive/Shared drives/drive 4/Carla Dataset/Ground Truth /2834 .png\n",
            "Creating :  /content/drive/Shared drives/drive 4/Carla Dataset/Ground Truth /2835 .png\n",
            "Creating :  /content/drive/Shared drives/drive 4/Carla Dataset/Ground Truth /2836 .png\n",
            "Creating :  /content/drive/Shared drives/drive 4/Carla Dataset/Ground Truth /2837 .png\n",
            "Creating :  /content/drive/Shared drives/drive 4/Carla Dataset/Ground Truth /2838 .png\n",
            "Creating :  /content/drive/Shared drives/drive 4/Carla Dataset/Ground Truth /2839 .png\n",
            "Creating :  /content/drive/Shared drives/drive 4/Carla Dataset/Ground Truth /2840 .png\n",
            "Creating :  /content/drive/Shared drives/drive 4/Carla Dataset/Ground Truth /2841 .png\n",
            "Creating :  /content/drive/Shared drives/drive 4/Carla Dataset/Ground Truth /2842 .png\n",
            "Creating :  /content/drive/Shared drives/drive 4/Carla Dataset/Ground Truth /2843 .png\n",
            "Creating :  /content/drive/Shared drives/drive 4/Carla Dataset/Ground Truth /2844 .png\n",
            "Creating :  /content/drive/Shared drives/drive 4/Carla Dataset/Ground Truth /2845 .png\n",
            "Creating :  /content/drive/Shared drives/drive 4/Carla Dataset/Ground Truth /2846 .png\n",
            "Creating :  /content/drive/Shared drives/drive 4/Carla Dataset/Ground Truth /2847 .png\n",
            "Creating :  /content/drive/Shared drives/drive 4/Carla Dataset/Ground Truth /2848 .png\n",
            "Creating :  /content/drive/Shared drives/drive 4/Carla Dataset/Ground Truth /2849 .png\n",
            "Creating :  /content/drive/Shared drives/drive 4/Carla Dataset/Ground Truth /2850 .png\n",
            "Creating :  /content/drive/Shared drives/drive 4/Carla Dataset/Ground Truth /2851 .png\n",
            "Creating :  /content/drive/Shared drives/drive 4/Carla Dataset/Ground Truth /2852 .png\n",
            "Creating :  /content/drive/Shared drives/drive 4/Carla Dataset/Ground Truth /2853 .png\n",
            "Creating :  /content/drive/Shared drives/drive 4/Carla Dataset/Ground Truth /2854 .png\n",
            "Creating :  /content/drive/Shared drives/drive 4/Carla Dataset/Ground Truth /2855 .png\n",
            "Creating :  /content/drive/Shared drives/drive 4/Carla Dataset/Ground Truth /2856 .png\n",
            "Creating :  /content/drive/Shared drives/drive 4/Carla Dataset/Ground Truth /2857 .png\n",
            "Creating :  /content/drive/Shared drives/drive 4/Carla Dataset/Ground Truth /2858 .png\n",
            "Creating :  /content/drive/Shared drives/drive 4/Carla Dataset/Ground Truth /2859 .png\n",
            "Creating :  /content/drive/Shared drives/drive 4/Carla Dataset/Ground Truth /2860 .png\n",
            "Creating :  /content/drive/Shared drives/drive 4/Carla Dataset/Ground Truth /2861 .png\n",
            "Creating :  /content/drive/Shared drives/drive 4/Carla Dataset/Ground Truth /2862 .png\n",
            "Creating :  /content/drive/Shared drives/drive 4/Carla Dataset/Ground Truth /2863 .png\n",
            "Creating :  /content/drive/Shared drives/drive 4/Carla Dataset/Ground Truth /2864 .png\n",
            "Creating :  /content/drive/Shared drives/drive 4/Carla Dataset/Ground Truth /2865 .png\n",
            "Creating :  /content/drive/Shared drives/drive 4/Carla Dataset/Ground Truth /2866 .png\n",
            "Creating :  /content/drive/Shared drives/drive 4/Carla Dataset/Ground Truth /2867 .png\n",
            "Creating :  /content/drive/Shared drives/drive 4/Carla Dataset/Ground Truth /2868 .png\n",
            "Creating :  /content/drive/Shared drives/drive 4/Carla Dataset/Ground Truth /2869 .png\n",
            "Creating :  /content/drive/Shared drives/drive 4/Carla Dataset/Ground Truth /2870 .png\n",
            "Creating :  /content/drive/Shared drives/drive 4/Carla Dataset/Ground Truth /2871 .png\n",
            "Creating :  /content/drive/Shared drives/drive 4/Carla Dataset/Ground Truth /2872 .png\n",
            "Creating :  /content/drive/Shared drives/drive 4/Carla Dataset/Ground Truth /2873 .png\n",
            "Creating :  /content/drive/Shared drives/drive 4/Carla Dataset/Ground Truth /2874 .png\n",
            "Creating :  /content/drive/Shared drives/drive 4/Carla Dataset/Ground Truth /2875 .png\n",
            "Creating :  /content/drive/Shared drives/drive 4/Carla Dataset/Ground Truth /2876 .png\n",
            "Creating :  /content/drive/Shared drives/drive 4/Carla Dataset/Ground Truth /2877 .png\n",
            "Creating :  /content/drive/Shared drives/drive 4/Carla Dataset/Ground Truth /2878 .png\n",
            "Creating :  /content/drive/Shared drives/drive 4/Carla Dataset/Ground Truth /2879 .png\n",
            "Creating :  /content/drive/Shared drives/drive 4/Carla Dataset/Ground Truth /2880 .png\n",
            "Creating :  /content/drive/Shared drives/drive 4/Carla Dataset/Ground Truth /2881 .png\n",
            "Creating :  /content/drive/Shared drives/drive 4/Carla Dataset/Ground Truth /2882 .png\n",
            "Creating :  /content/drive/Shared drives/drive 4/Carla Dataset/Ground Truth /2883 .png\n",
            "Creating :  /content/drive/Shared drives/drive 4/Carla Dataset/Ground Truth /2884 .png\n",
            "Creating :  /content/drive/Shared drives/drive 4/Carla Dataset/Ground Truth /2885 .png\n",
            "Creating :  /content/drive/Shared drives/drive 4/Carla Dataset/Ground Truth /2886 .png\n",
            "Creating :  /content/drive/Shared drives/drive 4/Carla Dataset/Ground Truth /2887 .png\n",
            "Creating :  /content/drive/Shared drives/drive 4/Carla Dataset/Ground Truth /2888 .png\n",
            "Creating :  /content/drive/Shared drives/drive 4/Carla Dataset/Ground Truth /2889 .png\n",
            "Creating :  /content/drive/Shared drives/drive 4/Carla Dataset/Ground Truth /2890 .png\n",
            "Creating :  /content/drive/Shared drives/drive 4/Carla Dataset/Ground Truth /2891 .png\n",
            "Creating :  /content/drive/Shared drives/drive 4/Carla Dataset/Ground Truth /2892 .png\n",
            "Creating :  /content/drive/Shared drives/drive 4/Carla Dataset/Ground Truth /2893 .png\n",
            "Creating :  /content/drive/Shared drives/drive 4/Carla Dataset/Ground Truth /2894 .png\n",
            "Creating :  /content/drive/Shared drives/drive 4/Carla Dataset/Ground Truth /2895 .png\n",
            "Creating :  /content/drive/Shared drives/drive 4/Carla Dataset/Ground Truth /2896 .png\n",
            "Creating :  /content/drive/Shared drives/drive 4/Carla Dataset/Ground Truth /2897 .png\n",
            "Creating :  /content/drive/Shared drives/drive 4/Carla Dataset/Ground Truth /2898 .png\n",
            "Creating :  /content/drive/Shared drives/drive 4/Carla Dataset/Ground Truth /2899 .png\n",
            "Creating :  /content/drive/Shared drives/drive 4/Carla Dataset/Ground Truth /2900 .png\n",
            "Creating :  /content/drive/Shared drives/drive 4/Carla Dataset/Ground Truth /2901 .png\n",
            "Creating :  /content/drive/Shared drives/drive 4/Carla Dataset/Ground Truth /2902 .png\n",
            "Creating :  /content/drive/Shared drives/drive 4/Carla Dataset/Ground Truth /2903 .png\n",
            "Creating :  /content/drive/Shared drives/drive 4/Carla Dataset/Ground Truth /2904 .png\n",
            "Creating :  /content/drive/Shared drives/drive 4/Carla Dataset/Ground Truth /2905 .png\n",
            "Creating :  /content/drive/Shared drives/drive 4/Carla Dataset/Ground Truth /2906 .png\n",
            "Creating :  /content/drive/Shared drives/drive 4/Carla Dataset/Ground Truth /2907 .png\n",
            "Creating :  /content/drive/Shared drives/drive 4/Carla Dataset/Ground Truth /2908 .png\n",
            "Creating :  /content/drive/Shared drives/drive 4/Carla Dataset/Ground Truth /2909 .png\n",
            "Creating :  /content/drive/Shared drives/drive 4/Carla Dataset/Ground Truth /2910 .png\n",
            "Creating :  /content/drive/Shared drives/drive 4/Carla Dataset/Ground Truth /2911 .png\n",
            "Creating :  /content/drive/Shared drives/drive 4/Carla Dataset/Ground Truth /2912 .png\n",
            "Creating :  /content/drive/Shared drives/drive 4/Carla Dataset/Ground Truth /2913 .png\n",
            "Creating :  /content/drive/Shared drives/drive 4/Carla Dataset/Ground Truth /2914 .png\n",
            "Creating :  /content/drive/Shared drives/drive 4/Carla Dataset/Ground Truth /2915 .png\n",
            "Creating :  /content/drive/Shared drives/drive 4/Carla Dataset/Ground Truth /2916 .png\n",
            "Creating :  /content/drive/Shared drives/drive 4/Carla Dataset/Ground Truth /2917 .png\n",
            "Creating :  /content/drive/Shared drives/drive 4/Carla Dataset/Ground Truth /2918 .png\n",
            "Creating :  /content/drive/Shared drives/drive 4/Carla Dataset/Ground Truth /2919 .png\n",
            "Creating :  /content/drive/Shared drives/drive 4/Carla Dataset/Ground Truth /2920 .png\n",
            "Creating :  /content/drive/Shared drives/drive 4/Carla Dataset/Ground Truth /2921 .png\n",
            "Creating :  /content/drive/Shared drives/drive 4/Carla Dataset/Ground Truth /2922 .png\n",
            "Creating :  /content/drive/Shared drives/drive 4/Carla Dataset/Ground Truth /2923 .png\n",
            "Creating :  /content/drive/Shared drives/drive 4/Carla Dataset/Ground Truth /2924 .png\n",
            "Creating :  /content/drive/Shared drives/drive 4/Carla Dataset/Ground Truth /2925 .png\n",
            "Creating :  /content/drive/Shared drives/drive 4/Carla Dataset/Ground Truth /2926 .png\n",
            "Creating :  /content/drive/Shared drives/drive 4/Carla Dataset/Ground Truth /2927 .png\n",
            "Creating :  /content/drive/Shared drives/drive 4/Carla Dataset/Ground Truth /2928 .png\n",
            "Creating :  /content/drive/Shared drives/drive 4/Carla Dataset/Ground Truth /2929 .png\n",
            "Creating :  /content/drive/Shared drives/drive 4/Carla Dataset/Ground Truth /2930 .png\n",
            "Creating :  /content/drive/Shared drives/drive 4/Carla Dataset/Ground Truth /2931 .png\n",
            "Creating :  /content/drive/Shared drives/drive 4/Carla Dataset/Ground Truth /2932 .png\n",
            "Creating :  /content/drive/Shared drives/drive 4/Carla Dataset/Ground Truth /2933 .png\n",
            "Creating :  /content/drive/Shared drives/drive 4/Carla Dataset/Ground Truth /2934 .png\n",
            "Creating :  /content/drive/Shared drives/drive 4/Carla Dataset/Ground Truth /2935 .png\n",
            "Creating :  /content/drive/Shared drives/drive 4/Carla Dataset/Ground Truth /2936 .png\n",
            "Creating :  /content/drive/Shared drives/drive 4/Carla Dataset/Ground Truth /2937 .png\n",
            "Creating :  /content/drive/Shared drives/drive 4/Carla Dataset/Ground Truth /2938 .png\n",
            "Creating :  /content/drive/Shared drives/drive 4/Carla Dataset/Ground Truth /2939 .png\n",
            "Creating :  /content/drive/Shared drives/drive 4/Carla Dataset/Ground Truth /2940 .png\n",
            "Creating :  /content/drive/Shared drives/drive 4/Carla Dataset/Ground Truth /2941 .png\n",
            "Creating :  /content/drive/Shared drives/drive 4/Carla Dataset/Ground Truth /2942 .png\n",
            "Creating :  /content/drive/Shared drives/drive 4/Carla Dataset/Ground Truth /2943 .png\n",
            "Creating :  /content/drive/Shared drives/drive 4/Carla Dataset/Ground Truth /2944 .png\n",
            "Creating :  /content/drive/Shared drives/drive 4/Carla Dataset/Ground Truth /2945 .png\n",
            "Creating :  /content/drive/Shared drives/drive 4/Carla Dataset/Ground Truth /2946 .png\n",
            "Creating :  /content/drive/Shared drives/drive 4/Carla Dataset/Ground Truth /2947 .png\n",
            "Creating :  /content/drive/Shared drives/drive 4/Carla Dataset/Ground Truth /2948 .png\n",
            "Creating :  /content/drive/Shared drives/drive 4/Carla Dataset/Ground Truth /2949 .png\n",
            "Creating :  /content/drive/Shared drives/drive 4/Carla Dataset/Ground Truth /2950 .png\n",
            "Creating :  /content/drive/Shared drives/drive 4/Carla Dataset/Ground Truth /2951 .png\n",
            "Creating :  /content/drive/Shared drives/drive 4/Carla Dataset/Ground Truth /2952 .png\n",
            "Creating :  /content/drive/Shared drives/drive 4/Carla Dataset/Ground Truth /2953 .png\n",
            "Creating :  /content/drive/Shared drives/drive 4/Carla Dataset/Ground Truth /2954 .png\n",
            "Creating :  /content/drive/Shared drives/drive 4/Carla Dataset/Ground Truth /2955 .png\n",
            "Creating :  /content/drive/Shared drives/drive 4/Carla Dataset/Ground Truth /2956 .png\n",
            "Creating :  /content/drive/Shared drives/drive 4/Carla Dataset/Ground Truth /2957 .png\n",
            "Creating :  /content/drive/Shared drives/drive 4/Carla Dataset/Ground Truth /2958 .png\n",
            "Creating :  /content/drive/Shared drives/drive 4/Carla Dataset/Ground Truth /2959 .png\n",
            "Creating :  /content/drive/Shared drives/drive 4/Carla Dataset/Ground Truth /2960 .png\n",
            "Creating :  /content/drive/Shared drives/drive 4/Carla Dataset/Ground Truth /2961 .png\n",
            "Creating :  /content/drive/Shared drives/drive 4/Carla Dataset/Ground Truth /2962 .png\n",
            "Creating :  /content/drive/Shared drives/drive 4/Carla Dataset/Ground Truth /2963 .png\n",
            "Creating :  /content/drive/Shared drives/drive 4/Carla Dataset/Ground Truth /2964 .png\n",
            "Creating :  /content/drive/Shared drives/drive 4/Carla Dataset/Ground Truth /2965 .png\n",
            "Creating :  /content/drive/Shared drives/drive 4/Carla Dataset/Ground Truth /2966 .png\n",
            "Creating :  /content/drive/Shared drives/drive 4/Carla Dataset/Ground Truth /2967 .png\n",
            "Creating :  /content/drive/Shared drives/drive 4/Carla Dataset/Ground Truth /2968 .png\n",
            "Creating :  /content/drive/Shared drives/drive 4/Carla Dataset/Ground Truth /2969 .png\n",
            "Creating :  /content/drive/Shared drives/drive 4/Carla Dataset/Ground Truth /2970 .png\n",
            "Creating :  /content/drive/Shared drives/drive 4/Carla Dataset/Ground Truth /2971 .png\n",
            "Creating :  /content/drive/Shared drives/drive 4/Carla Dataset/Ground Truth /2972 .png\n",
            "Creating :  /content/drive/Shared drives/drive 4/Carla Dataset/Ground Truth /2973 .png\n",
            "Creating :  /content/drive/Shared drives/drive 4/Carla Dataset/Ground Truth /2974 .png\n",
            "Creating :  /content/drive/Shared drives/drive 4/Carla Dataset/Ground Truth /2975 .png\n",
            "Creating :  /content/drive/Shared drives/drive 4/Carla Dataset/Ground Truth /2976 .png\n",
            "Creating :  /content/drive/Shared drives/drive 4/Carla Dataset/Ground Truth /2977 .png\n",
            "Creating :  /content/drive/Shared drives/drive 4/Carla Dataset/Ground Truth /2978 .png\n",
            "Creating :  /content/drive/Shared drives/drive 4/Carla Dataset/Ground Truth /2979 .png\n",
            "Creating :  /content/drive/Shared drives/drive 4/Carla Dataset/Ground Truth /2980 .png\n",
            "Creating :  /content/drive/Shared drives/drive 4/Carla Dataset/Ground Truth /2981 .png\n",
            "Creating :  /content/drive/Shared drives/drive 4/Carla Dataset/Ground Truth /2982 .png\n",
            "Creating :  /content/drive/Shared drives/drive 4/Carla Dataset/Ground Truth /2983 .png\n",
            "Creating :  /content/drive/Shared drives/drive 4/Carla Dataset/Ground Truth /2984 .png\n",
            "Creating :  /content/drive/Shared drives/drive 4/Carla Dataset/Ground Truth /2985 .png\n",
            "Creating :  /content/drive/Shared drives/drive 4/Carla Dataset/Ground Truth /2986 .png\n",
            "Creating :  /content/drive/Shared drives/drive 4/Carla Dataset/Ground Truth /2987 .png\n",
            "Creating :  /content/drive/Shared drives/drive 4/Carla Dataset/Ground Truth /2988 .png\n",
            "Creating :  /content/drive/Shared drives/drive 4/Carla Dataset/Ground Truth /2989 .png\n",
            "Creating :  /content/drive/Shared drives/drive 4/Carla Dataset/Ground Truth /2990 .png\n",
            "Creating :  /content/drive/Shared drives/drive 4/Carla Dataset/Ground Truth /2991 .png\n",
            "Creating :  /content/drive/Shared drives/drive 4/Carla Dataset/Ground Truth /2992 .png\n",
            "Creating :  /content/drive/Shared drives/drive 4/Carla Dataset/Ground Truth /2993 .png\n",
            "Creating :  /content/drive/Shared drives/drive 4/Carla Dataset/Ground Truth /2994 .png\n",
            "Creating :  /content/drive/Shared drives/drive 4/Carla Dataset/Ground Truth /2995 .png\n",
            "Creating :  /content/drive/Shared drives/drive 4/Carla Dataset/Ground Truth /2996 .png\n",
            "Creating :  /content/drive/Shared drives/drive 4/Carla Dataset/Ground Truth /2997 .png\n",
            "Creating :  /content/drive/Shared drives/drive 4/Carla Dataset/Ground Truth /2998 .png\n",
            "Creating :  /content/drive/Shared drives/drive 4/Carla Dataset/Ground Truth /2999 .png\n",
            "Creating :  /content/drive/Shared drives/drive 4/Carla Dataset/Ground Truth /3000 .png\n",
            "Creating :  /content/drive/Shared drives/drive 4/Carla Dataset/Ground Truth /3001 .png\n",
            "Creating :  /content/drive/Shared drives/drive 4/Carla Dataset/Ground Truth /3002 .png\n",
            "Creating :  /content/drive/Shared drives/drive 4/Carla Dataset/Ground Truth /3003 .png\n",
            "Creating :  /content/drive/Shared drives/drive 4/Carla Dataset/Ground Truth /3004 .png\n",
            "Creating :  /content/drive/Shared drives/drive 4/Carla Dataset/Ground Truth /3005 .png\n",
            "Creating :  /content/drive/Shared drives/drive 4/Carla Dataset/Ground Truth /3006 .png\n",
            "Creating :  /content/drive/Shared drives/drive 4/Carla Dataset/Ground Truth /3007 .png\n",
            "Creating :  /content/drive/Shared drives/drive 4/Carla Dataset/Ground Truth /3008 .png\n",
            "Creating :  /content/drive/Shared drives/drive 4/Carla Dataset/Ground Truth /3009 .png\n",
            "Creating :  /content/drive/Shared drives/drive 4/Carla Dataset/Ground Truth /3010 .png\n",
            "Creating :  /content/drive/Shared drives/drive 4/Carla Dataset/Ground Truth /3011 .png\n",
            "Creating :  /content/drive/Shared drives/drive 4/Carla Dataset/Ground Truth /3012 .png\n",
            "Creating :  /content/drive/Shared drives/drive 4/Carla Dataset/Ground Truth /3013 .png\n",
            "Creating :  /content/drive/Shared drives/drive 4/Carla Dataset/Ground Truth /3014 .png\n",
            "Creating :  /content/drive/Shared drives/drive 4/Carla Dataset/Ground Truth /3015 .png\n",
            "Creating :  /content/drive/Shared drives/drive 4/Carla Dataset/Ground Truth /3016 .png\n",
            "Creating :  /content/drive/Shared drives/drive 4/Carla Dataset/Ground Truth /3017 .png\n",
            "Creating :  /content/drive/Shared drives/drive 4/Carla Dataset/Ground Truth /3018 .png\n",
            "Creating :  /content/drive/Shared drives/drive 4/Carla Dataset/Ground Truth /3019 .png\n",
            "Creating :  /content/drive/Shared drives/drive 4/Carla Dataset/Ground Truth /3020 .png\n",
            "Creating :  /content/drive/Shared drives/drive 4/Carla Dataset/Ground Truth /3021 .png\n",
            "Creating :  /content/drive/Shared drives/drive 4/Carla Dataset/Ground Truth /3022 .png\n",
            "Creating :  /content/drive/Shared drives/drive 4/Carla Dataset/Ground Truth /3023 .png\n",
            "Creating :  /content/drive/Shared drives/drive 4/Carla Dataset/Ground Truth /3024 .png\n",
            "Creating :  /content/drive/Shared drives/drive 4/Carla Dataset/Ground Truth /3025 .png\n",
            "Creating :  /content/drive/Shared drives/drive 4/Carla Dataset/Ground Truth /3026 .png\n",
            "Creating :  /content/drive/Shared drives/drive 4/Carla Dataset/Ground Truth /3027 .png\n",
            "Creating :  /content/drive/Shared drives/drive 4/Carla Dataset/Ground Truth /3028 .png\n",
            "Creating :  /content/drive/Shared drives/drive 4/Carla Dataset/Ground Truth /3029 .png\n",
            "Creating :  /content/drive/Shared drives/drive 4/Carla Dataset/Ground Truth /3030 .png\n",
            "Creating :  /content/drive/Shared drives/drive 4/Carla Dataset/Ground Truth /3031 .png\n",
            "Creating :  /content/drive/Shared drives/drive 4/Carla Dataset/Ground Truth /3032 .png\n",
            "Creating :  /content/drive/Shared drives/drive 4/Carla Dataset/Ground Truth /3033 .png\n",
            "Creating :  /content/drive/Shared drives/drive 4/Carla Dataset/Ground Truth /3034 .png\n",
            "Creating :  /content/drive/Shared drives/drive 4/Carla Dataset/Ground Truth /3035 .png\n",
            "Creating :  /content/drive/Shared drives/drive 4/Carla Dataset/Ground Truth /3036 .png\n",
            "Creating :  /content/drive/Shared drives/drive 4/Carla Dataset/Ground Truth /3037 .png\n",
            "Creating :  /content/drive/Shared drives/drive 4/Carla Dataset/Ground Truth /3038 .png\n",
            "Creating :  /content/drive/Shared drives/drive 4/Carla Dataset/Ground Truth /3039 .png\n",
            "Creating :  /content/drive/Shared drives/drive 4/Carla Dataset/Ground Truth /3040 .png\n",
            "Creating :  /content/drive/Shared drives/drive 4/Carla Dataset/Ground Truth /3041 .png\n",
            "Creating :  /content/drive/Shared drives/drive 4/Carla Dataset/Ground Truth /3042 .png\n",
            "Creating :  /content/drive/Shared drives/drive 4/Carla Dataset/Ground Truth /3043 .png\n",
            "Creating :  /content/drive/Shared drives/drive 4/Carla Dataset/Ground Truth /3044 .png\n",
            "Creating :  /content/drive/Shared drives/drive 4/Carla Dataset/Ground Truth /3045 .png\n",
            "Creating :  /content/drive/Shared drives/drive 4/Carla Dataset/Ground Truth /3046 .png\n",
            "Creating :  /content/drive/Shared drives/drive 4/Carla Dataset/Ground Truth /3047 .png\n",
            "Creating :  /content/drive/Shared drives/drive 4/Carla Dataset/Ground Truth /3048 .png\n",
            "Creating :  /content/drive/Shared drives/drive 4/Carla Dataset/Ground Truth /3049 .png\n",
            "Creating :  /content/drive/Shared drives/drive 4/Carla Dataset/Ground Truth /3050 .png\n",
            "Creating :  /content/drive/Shared drives/drive 4/Carla Dataset/Ground Truth /3051 .png\n",
            "Creating :  /content/drive/Shared drives/drive 4/Carla Dataset/Ground Truth /3052 .png\n",
            "Creating :  /content/drive/Shared drives/drive 4/Carla Dataset/Ground Truth /3053 .png\n",
            "Creating :  /content/drive/Shared drives/drive 4/Carla Dataset/Ground Truth /3054 .png\n",
            "Creating :  /content/drive/Shared drives/drive 4/Carla Dataset/Ground Truth /3055 .png\n",
            "Creating :  /content/drive/Shared drives/drive 4/Carla Dataset/Ground Truth /3056 .png\n",
            "Creating :  /content/drive/Shared drives/drive 4/Carla Dataset/Ground Truth /3057 .png\n",
            "Creating :  /content/drive/Shared drives/drive 4/Carla Dataset/Ground Truth /3058 .png\n",
            "Creating :  /content/drive/Shared drives/drive 4/Carla Dataset/Ground Truth /3059 .png\n",
            "Creating :  /content/drive/Shared drives/drive 4/Carla Dataset/Ground Truth /3060 .png\n",
            "Creating :  /content/drive/Shared drives/drive 4/Carla Dataset/Ground Truth /3061 .png\n",
            "Creating :  /content/drive/Shared drives/drive 4/Carla Dataset/Ground Truth /3062 .png\n",
            "Creating :  /content/drive/Shared drives/drive 4/Carla Dataset/Ground Truth /3063 .png\n",
            "Creating :  /content/drive/Shared drives/drive 4/Carla Dataset/Ground Truth /3064 .png\n",
            "Creating :  /content/drive/Shared drives/drive 4/Carla Dataset/Ground Truth /3065 .png\n",
            "Creating :  /content/drive/Shared drives/drive 4/Carla Dataset/Ground Truth /3066 .png\n",
            "Creating :  /content/drive/Shared drives/drive 4/Carla Dataset/Ground Truth /3067 .png\n",
            "Creating :  /content/drive/Shared drives/drive 4/Carla Dataset/Ground Truth /3068 .png\n",
            "Creating :  /content/drive/Shared drives/drive 4/Carla Dataset/Ground Truth /3069 .png\n",
            "Creating :  /content/drive/Shared drives/drive 4/Carla Dataset/Ground Truth /3070 .png\n",
            "Creating :  /content/drive/Shared drives/drive 4/Carla Dataset/Ground Truth /3071 .png\n",
            "Creating :  /content/drive/Shared drives/drive 4/Carla Dataset/Ground Truth /3072 .png\n",
            "Creating :  /content/drive/Shared drives/drive 4/Carla Dataset/Ground Truth /3073 .png\n",
            "Creating :  /content/drive/Shared drives/drive 4/Carla Dataset/Ground Truth /3074 .png\n",
            "Creating :  /content/drive/Shared drives/drive 4/Carla Dataset/Ground Truth /3075 .png\n",
            "Creating :  /content/drive/Shared drives/drive 4/Carla Dataset/Ground Truth /3076 .png\n",
            "Creating :  /content/drive/Shared drives/drive 4/Carla Dataset/Ground Truth /3077 .png\n",
            "Creating :  /content/drive/Shared drives/drive 4/Carla Dataset/Ground Truth /3078 .png\n",
            "Creating :  /content/drive/Shared drives/drive 4/Carla Dataset/Ground Truth /3079 .png\n",
            "Creating :  /content/drive/Shared drives/drive 4/Carla Dataset/Ground Truth /3080 .png\n",
            "Creating :  /content/drive/Shared drives/drive 4/Carla Dataset/Ground Truth /3081 .png\n",
            "Creating :  /content/drive/Shared drives/drive 4/Carla Dataset/Ground Truth /3082 .png\n",
            "Creating :  /content/drive/Shared drives/drive 4/Carla Dataset/Ground Truth /3083 .png\n",
            "Creating :  /content/drive/Shared drives/drive 4/Carla Dataset/Ground Truth /3084 .png\n",
            "Creating :  /content/drive/Shared drives/drive 4/Carla Dataset/Ground Truth /3085 .png\n",
            "Creating :  /content/drive/Shared drives/drive 4/Carla Dataset/Ground Truth /3086 .png\n",
            "Creating :  /content/drive/Shared drives/drive 4/Carla Dataset/Ground Truth /3087 .png\n",
            "Creating :  /content/drive/Shared drives/drive 4/Carla Dataset/Ground Truth /3088 .png\n",
            "Creating :  /content/drive/Shared drives/drive 4/Carla Dataset/Ground Truth /3089 .png\n",
            "Creating :  /content/drive/Shared drives/drive 4/Carla Dataset/Ground Truth /3090 .png\n",
            "Creating :  /content/drive/Shared drives/drive 4/Carla Dataset/Ground Truth /3091 .png\n",
            "Creating :  /content/drive/Shared drives/drive 4/Carla Dataset/Ground Truth /3092 .png\n",
            "Creating :  /content/drive/Shared drives/drive 4/Carla Dataset/Ground Truth /3093 .png\n",
            "Creating :  /content/drive/Shared drives/drive 4/Carla Dataset/Ground Truth /3094 .png\n",
            "Creating :  /content/drive/Shared drives/drive 4/Carla Dataset/Ground Truth /3095 .png\n",
            "Creating :  /content/drive/Shared drives/drive 4/Carla Dataset/Ground Truth /3096 .png\n",
            "Creating :  /content/drive/Shared drives/drive 4/Carla Dataset/Ground Truth /3097 .png\n",
            "Creating :  /content/drive/Shared drives/drive 4/Carla Dataset/Ground Truth /3098 .png\n",
            "Creating :  /content/drive/Shared drives/drive 4/Carla Dataset/Ground Truth /3099 .png\n",
            "Creating :  /content/drive/Shared drives/drive 4/Carla Dataset/Ground Truth /3100 .png\n",
            "Creating :  /content/drive/Shared drives/drive 4/Carla Dataset/Ground Truth /3101 .png\n",
            "Creating :  /content/drive/Shared drives/drive 4/Carla Dataset/Ground Truth /3102 .png\n",
            "Creating :  /content/drive/Shared drives/drive 4/Carla Dataset/Ground Truth /3103 .png\n",
            "Creating :  /content/drive/Shared drives/drive 4/Carla Dataset/Ground Truth /3104 .png\n",
            "Creating :  /content/drive/Shared drives/drive 4/Carla Dataset/Ground Truth /3105 .png\n",
            "Creating :  /content/drive/Shared drives/drive 4/Carla Dataset/Ground Truth /3106 .png\n",
            "Creating :  /content/drive/Shared drives/drive 4/Carla Dataset/Ground Truth /3107 .png\n",
            "Creating :  /content/drive/Shared drives/drive 4/Carla Dataset/Ground Truth /3108 .png\n",
            "Creating :  /content/drive/Shared drives/drive 4/Carla Dataset/Ground Truth /3109 .png\n",
            "Creating :  /content/drive/Shared drives/drive 4/Carla Dataset/Ground Truth /3110 .png\n",
            "Creating :  /content/drive/Shared drives/drive 4/Carla Dataset/Ground Truth /3111 .png\n",
            "Creating :  /content/drive/Shared drives/drive 4/Carla Dataset/Ground Truth /3112 .png\n",
            "Creating :  /content/drive/Shared drives/drive 4/Carla Dataset/Ground Truth /3113 .png\n",
            "Creating :  /content/drive/Shared drives/drive 4/Carla Dataset/Ground Truth /3114 .png\n",
            "Creating :  /content/drive/Shared drives/drive 4/Carla Dataset/Ground Truth /3115 .png\n",
            "Creating :  /content/drive/Shared drives/drive 4/Carla Dataset/Ground Truth /3116 .png\n",
            "Creating :  /content/drive/Shared drives/drive 4/Carla Dataset/Ground Truth /3117 .png\n",
            "Creating :  /content/drive/Shared drives/drive 4/Carla Dataset/Ground Truth /3118 .png\n",
            "Creating :  /content/drive/Shared drives/drive 4/Carla Dataset/Ground Truth /3119 .png\n",
            "Creating :  /content/drive/Shared drives/drive 4/Carla Dataset/Ground Truth /3120 .png\n",
            "Creating :  /content/drive/Shared drives/drive 4/Carla Dataset/Ground Truth /3121 .png\n",
            "Creating :  /content/drive/Shared drives/drive 4/Carla Dataset/Ground Truth /3122 .png\n",
            "Creating :  /content/drive/Shared drives/drive 4/Carla Dataset/Ground Truth /3123 .png\n",
            "Creating :  /content/drive/Shared drives/drive 4/Carla Dataset/Ground Truth /3124 .png\n",
            "Creating :  /content/drive/Shared drives/drive 4/Carla Dataset/Ground Truth /3125 .png\n",
            "Creating :  /content/drive/Shared drives/drive 4/Carla Dataset/Ground Truth /3126 .png\n",
            "Creating :  /content/drive/Shared drives/drive 4/Carla Dataset/Ground Truth /3127 .png\n",
            "Creating :  /content/drive/Shared drives/drive 4/Carla Dataset/Ground Truth /3128 .png\n",
            "Creating :  /content/drive/Shared drives/drive 4/Carla Dataset/Ground Truth /3129 .png\n",
            "Creating :  /content/drive/Shared drives/drive 4/Carla Dataset/Ground Truth /3130 .png\n",
            "Creating :  /content/drive/Shared drives/drive 4/Carla Dataset/Ground Truth /3131 .png\n",
            "Creating :  /content/drive/Shared drives/drive 4/Carla Dataset/Ground Truth /3132 .png\n",
            "Creating :  /content/drive/Shared drives/drive 4/Carla Dataset/Ground Truth /3133 .png\n",
            "Creating :  /content/drive/Shared drives/drive 4/Carla Dataset/Ground Truth /3134 .png\n",
            "Creating :  /content/drive/Shared drives/drive 4/Carla Dataset/Ground Truth /3135 .png\n",
            "Creating :  /content/drive/Shared drives/drive 4/Carla Dataset/Ground Truth /3136 .png\n",
            "Creating :  /content/drive/Shared drives/drive 4/Carla Dataset/Ground Truth /3137 .png\n",
            "Creating :  /content/drive/Shared drives/drive 4/Carla Dataset/Ground Truth /3138 .png\n",
            "Creating :  /content/drive/Shared drives/drive 4/Carla Dataset/Ground Truth /3139 .png\n",
            "Creating :  /content/drive/Shared drives/drive 4/Carla Dataset/Ground Truth /3140 .png\n",
            "Creating :  /content/drive/Shared drives/drive 4/Carla Dataset/Ground Truth /3141 .png\n",
            "Creating :  /content/drive/Shared drives/drive 4/Carla Dataset/Ground Truth /3142 .png\n",
            "Creating :  /content/drive/Shared drives/drive 4/Carla Dataset/Ground Truth /3143 .png\n",
            "Creating :  /content/drive/Shared drives/drive 4/Carla Dataset/Ground Truth /3144 .png\n",
            "Creating :  /content/drive/Shared drives/drive 4/Carla Dataset/Ground Truth /3145 .png\n",
            "Creating :  /content/drive/Shared drives/drive 4/Carla Dataset/Ground Truth /3146 .png\n",
            "Creating :  /content/drive/Shared drives/drive 4/Carla Dataset/Ground Truth /3147 .png\n",
            "Creating :  /content/drive/Shared drives/drive 4/Carla Dataset/Ground Truth /3148 .png\n",
            "Creating :  /content/drive/Shared drives/drive 4/Carla Dataset/Ground Truth /3149 .png\n",
            "Creating :  /content/drive/Shared drives/drive 4/Carla Dataset/Ground Truth /3150 .png\n",
            "Creating :  /content/drive/Shared drives/drive 4/Carla Dataset/Ground Truth /3151 .png\n",
            "Creating :  /content/drive/Shared drives/drive 4/Carla Dataset/Ground Truth /3152 .png\n",
            "Creating :  /content/drive/Shared drives/drive 4/Carla Dataset/Ground Truth /3153 .png\n",
            "Creating :  /content/drive/Shared drives/drive 4/Carla Dataset/Ground Truth /3154 .png\n",
            "Creating :  /content/drive/Shared drives/drive 4/Carla Dataset/Ground Truth /3155 .png\n",
            "Creating :  /content/drive/Shared drives/drive 4/Carla Dataset/Ground Truth /3156 .png\n",
            "Creating :  /content/drive/Shared drives/drive 4/Carla Dataset/Ground Truth /3157 .png\n",
            "Creating :  /content/drive/Shared drives/drive 4/Carla Dataset/Ground Truth /3158 .png\n",
            "Creating :  /content/drive/Shared drives/drive 4/Carla Dataset/Ground Truth /3159 .png\n",
            "Creating :  /content/drive/Shared drives/drive 4/Carla Dataset/Ground Truth /3160 .png\n",
            "Creating :  /content/drive/Shared drives/drive 4/Carla Dataset/Ground Truth /3161 .png\n",
            "Creating :  /content/drive/Shared drives/drive 4/Carla Dataset/Ground Truth /3162 .png\n",
            "Creating :  /content/drive/Shared drives/drive 4/Carla Dataset/Ground Truth /3163 .png\n",
            "Creating :  /content/drive/Shared drives/drive 4/Carla Dataset/Ground Truth /3164 .png\n",
            "Creating :  /content/drive/Shared drives/drive 4/Carla Dataset/Ground Truth /3165 .png\n",
            "Creating :  /content/drive/Shared drives/drive 4/Carla Dataset/Ground Truth /3166 .png\n",
            "Creating :  /content/drive/Shared drives/drive 4/Carla Dataset/Ground Truth /3167 .png\n",
            "Creating :  /content/drive/Shared drives/drive 4/Carla Dataset/Ground Truth /3168 .png\n",
            "Creating :  /content/drive/Shared drives/drive 4/Carla Dataset/Ground Truth /3169 .png\n",
            "Creating :  /content/drive/Shared drives/drive 4/Carla Dataset/Ground Truth /3170 .png\n",
            "Creating :  /content/drive/Shared drives/drive 4/Carla Dataset/Ground Truth /3171 .png\n",
            "Creating :  /content/drive/Shared drives/drive 4/Carla Dataset/Ground Truth /3172 .png\n",
            "Creating :  /content/drive/Shared drives/drive 4/Carla Dataset/Ground Truth /3173 .png\n",
            "Creating :  /content/drive/Shared drives/drive 4/Carla Dataset/Ground Truth /3174 .png\n",
            "Creating :  /content/drive/Shared drives/drive 4/Carla Dataset/Ground Truth /3175 .png\n",
            "Creating :  /content/drive/Shared drives/drive 4/Carla Dataset/Ground Truth /3176 .png\n",
            "Creating :  /content/drive/Shared drives/drive 4/Carla Dataset/Ground Truth /3177 .png\n",
            "Creating :  /content/drive/Shared drives/drive 4/Carla Dataset/Ground Truth /3178 .png\n",
            "Creating :  /content/drive/Shared drives/drive 4/Carla Dataset/Ground Truth /3179 .png\n",
            "Creating :  /content/drive/Shared drives/drive 4/Carla Dataset/Ground Truth /3180 .png\n",
            "Creating :  /content/drive/Shared drives/drive 4/Carla Dataset/Ground Truth /3181 .png\n",
            "Creating :  /content/drive/Shared drives/drive 4/Carla Dataset/Ground Truth /3182 .png\n",
            "Creating :  /content/drive/Shared drives/drive 4/Carla Dataset/Ground Truth /3183 .png\n",
            "Creating :  /content/drive/Shared drives/drive 4/Carla Dataset/Ground Truth /3184 .png\n",
            "Creating :  /content/drive/Shared drives/drive 4/Carla Dataset/Ground Truth /3185 .png\n",
            "Creating :  /content/drive/Shared drives/drive 4/Carla Dataset/Ground Truth /3186 .png\n",
            "Creating :  /content/drive/Shared drives/drive 4/Carla Dataset/Ground Truth /3187 .png\n",
            "Creating :  /content/drive/Shared drives/drive 4/Carla Dataset/Ground Truth /3188 .png\n",
            "Creating :  /content/drive/Shared drives/drive 4/Carla Dataset/Ground Truth /3189 .png\n",
            "Creating :  /content/drive/Shared drives/drive 4/Carla Dataset/Ground Truth /3190 .png\n",
            "Creating :  /content/drive/Shared drives/drive 4/Carla Dataset/Ground Truth /3191 .png\n",
            "Creating :  /content/drive/Shared drives/drive 4/Carla Dataset/Ground Truth /3192 .png\n",
            "Creating :  /content/drive/Shared drives/drive 4/Carla Dataset/Ground Truth /3193 .png\n",
            "Creating :  /content/drive/Shared drives/drive 4/Carla Dataset/Ground Truth /3194 .png\n",
            "Creating :  /content/drive/Shared drives/drive 4/Carla Dataset/Ground Truth /3195 .png\n",
            "Creating :  /content/drive/Shared drives/drive 4/Carla Dataset/Ground Truth /3196 .png\n",
            "Creating :  /content/drive/Shared drives/drive 4/Carla Dataset/Ground Truth /3197 .png\n",
            "Creating :  /content/drive/Shared drives/drive 4/Carla Dataset/Ground Truth /3198 .png\n",
            "Creating :  /content/drive/Shared drives/drive 4/Carla Dataset/Ground Truth /3199 .png\n",
            "Creating :  /content/drive/Shared drives/drive 4/Carla Dataset/Ground Truth /3200 .png\n",
            "Creating :  /content/drive/Shared drives/drive 4/Carla Dataset/Ground Truth /3201 .png\n",
            "Creating :  /content/drive/Shared drives/drive 4/Carla Dataset/Ground Truth /3202 .png\n",
            "Creating :  /content/drive/Shared drives/drive 4/Carla Dataset/Ground Truth /3203 .png\n",
            "Creating :  /content/drive/Shared drives/drive 4/Carla Dataset/Ground Truth /3204 .png\n",
            "Creating :  /content/drive/Shared drives/drive 4/Carla Dataset/Ground Truth /3205 .png\n",
            "Creating :  /content/drive/Shared drives/drive 4/Carla Dataset/Ground Truth /3206 .png\n",
            "Creating :  /content/drive/Shared drives/drive 4/Carla Dataset/Ground Truth /3207 .png\n",
            "Creating :  /content/drive/Shared drives/drive 4/Carla Dataset/Ground Truth /3208 .png\n",
            "Creating :  /content/drive/Shared drives/drive 4/Carla Dataset/Ground Truth /3209 .png\n",
            "Creating :  /content/drive/Shared drives/drive 4/Carla Dataset/Ground Truth /3210 .png\n",
            "Creating :  /content/drive/Shared drives/drive 4/Carla Dataset/Ground Truth /3211 .png\n",
            "Creating :  /content/drive/Shared drives/drive 4/Carla Dataset/Ground Truth /3212 .png\n",
            "Creating :  /content/drive/Shared drives/drive 4/Carla Dataset/Ground Truth /3213 .png\n",
            "Creating :  /content/drive/Shared drives/drive 4/Carla Dataset/Ground Truth /3214 .png\n",
            "Creating :  /content/drive/Shared drives/drive 4/Carla Dataset/Ground Truth /3215 .png\n",
            "Creating :  /content/drive/Shared drives/drive 4/Carla Dataset/Ground Truth /3216 .png\n",
            "Creating :  /content/drive/Shared drives/drive 4/Carla Dataset/Ground Truth /3217 .png\n",
            "Creating :  /content/drive/Shared drives/drive 4/Carla Dataset/Ground Truth /3218 .png\n",
            "Creating :  /content/drive/Shared drives/drive 4/Carla Dataset/Ground Truth /3219 .png\n",
            "Creating :  /content/drive/Shared drives/drive 4/Carla Dataset/Ground Truth /3220 .png\n",
            "Creating :  /content/drive/Shared drives/drive 4/Carla Dataset/Ground Truth /3221 .png\n",
            "Creating :  /content/drive/Shared drives/drive 4/Carla Dataset/Ground Truth /3222 .png\n",
            "Creating :  /content/drive/Shared drives/drive 4/Carla Dataset/Ground Truth /3223 .png\n",
            "Creating :  /content/drive/Shared drives/drive 4/Carla Dataset/Ground Truth /3224 .png\n",
            "Creating :  /content/drive/Shared drives/drive 4/Carla Dataset/Ground Truth /3225 .png\n",
            "Creating :  /content/drive/Shared drives/drive 4/Carla Dataset/Ground Truth /3226 .png\n",
            "Creating :  /content/drive/Shared drives/drive 4/Carla Dataset/Ground Truth /3227 .png\n",
            "Creating :  /content/drive/Shared drives/drive 4/Carla Dataset/Ground Truth /3228 .png\n",
            "Creating :  /content/drive/Shared drives/drive 4/Carla Dataset/Ground Truth /3229 .png\n",
            "Creating :  /content/drive/Shared drives/drive 4/Carla Dataset/Ground Truth /3230 .png\n",
            "Creating :  /content/drive/Shared drives/drive 4/Carla Dataset/Ground Truth /3231 .png\n",
            "Creating :  /content/drive/Shared drives/drive 4/Carla Dataset/Ground Truth /3232 .png\n",
            "Creating :  /content/drive/Shared drives/drive 4/Carla Dataset/Ground Truth /3233 .png\n",
            "Creating :  /content/drive/Shared drives/drive 4/Carla Dataset/Ground Truth /3234 .png\n",
            "Creating :  /content/drive/Shared drives/drive 4/Carla Dataset/Ground Truth /3235 .png\n",
            "Creating :  /content/drive/Shared drives/drive 4/Carla Dataset/Ground Truth /3236 .png\n",
            "Creating :  /content/drive/Shared drives/drive 4/Carla Dataset/Ground Truth /3237 .png\n",
            "Creating :  /content/drive/Shared drives/drive 4/Carla Dataset/Ground Truth /3238 .png\n",
            "Creating :  /content/drive/Shared drives/drive 4/Carla Dataset/Ground Truth /3239 .png\n",
            "Creating :  /content/drive/Shared drives/drive 4/Carla Dataset/Ground Truth /3240 .png\n",
            "Creating :  /content/drive/Shared drives/drive 4/Carla Dataset/Ground Truth /3241 .png\n",
            "Creating :  /content/drive/Shared drives/drive 4/Carla Dataset/Ground Truth /3242 .png\n",
            "Creating :  /content/drive/Shared drives/drive 4/Carla Dataset/Ground Truth /3243 .png\n",
            "Creating :  /content/drive/Shared drives/drive 4/Carla Dataset/Ground Truth /3244 .png\n",
            "Creating :  /content/drive/Shared drives/drive 4/Carla Dataset/Ground Truth /3245 .png\n",
            "Creating :  /content/drive/Shared drives/drive 4/Carla Dataset/Ground Truth /3246 .png\n",
            "Creating :  /content/drive/Shared drives/drive 4/Carla Dataset/Ground Truth /3247 .png\n",
            "Creating :  /content/drive/Shared drives/drive 4/Carla Dataset/Ground Truth /3248 .png\n",
            "Creating :  /content/drive/Shared drives/drive 4/Carla Dataset/Ground Truth /3249 .png\n",
            "Creating :  /content/drive/Shared drives/drive 4/Carla Dataset/Ground Truth /3250 .png\n",
            "Creating :  /content/drive/Shared drives/drive 4/Carla Dataset/Ground Truth /3251 .png\n",
            "Creating :  /content/drive/Shared drives/drive 4/Carla Dataset/Ground Truth /3252 .png\n",
            "Creating :  /content/drive/Shared drives/drive 4/Carla Dataset/Ground Truth /3253 .png\n",
            "Creating :  /content/drive/Shared drives/drive 4/Carla Dataset/Ground Truth /3254 .png\n",
            "Creating :  /content/drive/Shared drives/drive 4/Carla Dataset/Ground Truth /3255 .png\n",
            "Creating :  /content/drive/Shared drives/drive 4/Carla Dataset/Ground Truth /3256 .png\n",
            "Creating :  /content/drive/Shared drives/drive 4/Carla Dataset/Ground Truth /3257 .png\n",
            "Creating :  /content/drive/Shared drives/drive 4/Carla Dataset/Ground Truth /3258 .png\n",
            "Creating :  /content/drive/Shared drives/drive 4/Carla Dataset/Ground Truth /3259 .png\n",
            "Creating :  /content/drive/Shared drives/drive 4/Carla Dataset/Ground Truth /3260 .png\n",
            "Creating :  /content/drive/Shared drives/drive 4/Carla Dataset/Ground Truth /3261 .png\n",
            "Creating :  /content/drive/Shared drives/drive 4/Carla Dataset/Ground Truth /3262 .png\n",
            "Creating :  /content/drive/Shared drives/drive 4/Carla Dataset/Ground Truth /3263 .png\n",
            "Creating :  /content/drive/Shared drives/drive 4/Carla Dataset/Ground Truth /3264 .png\n",
            "Creating :  /content/drive/Shared drives/drive 4/Carla Dataset/Ground Truth /3265 .png\n",
            "Creating :  /content/drive/Shared drives/drive 4/Carla Dataset/Ground Truth /3266 .png\n",
            "Creating :  /content/drive/Shared drives/drive 4/Carla Dataset/Ground Truth /3267 .png\n",
            "Creating :  /content/drive/Shared drives/drive 4/Carla Dataset/Ground Truth /3268 .png\n",
            "Creating :  /content/drive/Shared drives/drive 4/Carla Dataset/Ground Truth /3269 .png\n",
            "Creating :  /content/drive/Shared drives/drive 4/Carla Dataset/Ground Truth /3270 .png\n",
            "Creating :  /content/drive/Shared drives/drive 4/Carla Dataset/Ground Truth /3271 .png\n",
            "Creating :  /content/drive/Shared drives/drive 4/Carla Dataset/Ground Truth /3272 .png\n",
            "Creating :  /content/drive/Shared drives/drive 4/Carla Dataset/Ground Truth /3273 .png\n",
            "Creating :  /content/drive/Shared drives/drive 4/Carla Dataset/Ground Truth /3274 .png\n",
            "Creating :  /content/drive/Shared drives/drive 4/Carla Dataset/Ground Truth /3275 .png\n",
            "Creating :  /content/drive/Shared drives/drive 4/Carla Dataset/Ground Truth /3276 .png\n",
            "Creating :  /content/drive/Shared drives/drive 4/Carla Dataset/Ground Truth /3277 .png\n",
            "Creating :  /content/drive/Shared drives/drive 4/Carla Dataset/Ground Truth /3278 .png\n",
            "Creating :  /content/drive/Shared drives/drive 4/Carla Dataset/Ground Truth /3279 .png\n",
            "Creating :  /content/drive/Shared drives/drive 4/Carla Dataset/Ground Truth /3280 .png\n",
            "Creating :  /content/drive/Shared drives/drive 4/Carla Dataset/Ground Truth /3281 .png\n",
            "Creating :  /content/drive/Shared drives/drive 4/Carla Dataset/Ground Truth /3282 .png\n",
            "Creating :  /content/drive/Shared drives/drive 4/Carla Dataset/Ground Truth /3283 .png\n",
            "Creating :  /content/drive/Shared drives/drive 4/Carla Dataset/Ground Truth /3284 .png\n",
            "Creating :  /content/drive/Shared drives/drive 4/Carla Dataset/Ground Truth /3285 .png\n",
            "Creating :  /content/drive/Shared drives/drive 4/Carla Dataset/Ground Truth /3286 .png\n",
            "Creating :  /content/drive/Shared drives/drive 4/Carla Dataset/Ground Truth /3287 .png\n",
            "Creating :  /content/drive/Shared drives/drive 4/Carla Dataset/Ground Truth /3288 .png\n",
            "Creating :  /content/drive/Shared drives/drive 4/Carla Dataset/Ground Truth /3289 .png\n",
            "Creating :  /content/drive/Shared drives/drive 4/Carla Dataset/Ground Truth /3290 .png\n",
            "Creating :  /content/drive/Shared drives/drive 4/Carla Dataset/Ground Truth /3291 .png\n",
            "Creating :  /content/drive/Shared drives/drive 4/Carla Dataset/Ground Truth /3292 .png\n",
            "Creating :  /content/drive/Shared drives/drive 4/Carla Dataset/Ground Truth /3293 .png\n",
            "Creating :  /content/drive/Shared drives/drive 4/Carla Dataset/Ground Truth /3294 .png\n",
            "Creating :  /content/drive/Shared drives/drive 4/Carla Dataset/Ground Truth /3295 .png\n",
            "Creating :  /content/drive/Shared drives/drive 4/Carla Dataset/Ground Truth /3296 .png\n",
            "Creating :  /content/drive/Shared drives/drive 4/Carla Dataset/Ground Truth /3297 .png\n",
            "Creating :  /content/drive/Shared drives/drive 4/Carla Dataset/Ground Truth /3298 .png\n",
            "Creating :  /content/drive/Shared drives/drive 4/Carla Dataset/Ground Truth /3299 .png\n",
            "Creating :  /content/drive/Shared drives/drive 4/Carla Dataset/Ground Truth /3300 .png\n",
            "Creating :  /content/drive/Shared drives/drive 4/Carla Dataset/Ground Truth /3301 .png\n",
            "Creating :  /content/drive/Shared drives/drive 4/Carla Dataset/Ground Truth /3302 .png\n",
            "Creating :  /content/drive/Shared drives/drive 4/Carla Dataset/Ground Truth /3303 .png\n",
            "Creating :  /content/drive/Shared drives/drive 4/Carla Dataset/Ground Truth /3304 .png\n",
            "Creating :  /content/drive/Shared drives/drive 4/Carla Dataset/Ground Truth /3305 .png\n",
            "Creating :  /content/drive/Shared drives/drive 4/Carla Dataset/Ground Truth /3306 .png\n",
            "Creating :  /content/drive/Shared drives/drive 4/Carla Dataset/Ground Truth /3307 .png\n",
            "Creating :  /content/drive/Shared drives/drive 4/Carla Dataset/Ground Truth /3308 .png\n",
            "Creating :  /content/drive/Shared drives/drive 4/Carla Dataset/Ground Truth /3309 .png\n",
            "Creating :  /content/drive/Shared drives/drive 4/Carla Dataset/Ground Truth /3310 .png\n",
            "Creating :  /content/drive/Shared drives/drive 4/Carla Dataset/Ground Truth /3311 .png\n",
            "Creating :  /content/drive/Shared drives/drive 4/Carla Dataset/Ground Truth /3312 .png\n",
            "Creating :  /content/drive/Shared drives/drive 4/Carla Dataset/Ground Truth /3313 .png\n",
            "Creating :  /content/drive/Shared drives/drive 4/Carla Dataset/Ground Truth /3314 .png\n",
            "Creating :  /content/drive/Shared drives/drive 4/Carla Dataset/Ground Truth /3315 .png\n",
            "Creating :  /content/drive/Shared drives/drive 4/Carla Dataset/Ground Truth /3316 .png\n",
            "Creating :  /content/drive/Shared drives/drive 4/Carla Dataset/Ground Truth /3317 .png\n",
            "Creating :  /content/drive/Shared drives/drive 4/Carla Dataset/Ground Truth /3318 .png\n",
            "Creating :  /content/drive/Shared drives/drive 4/Carla Dataset/Ground Truth /3319 .png\n",
            "Creating :  /content/drive/Shared drives/drive 4/Carla Dataset/Ground Truth /3320 .png\n",
            "Creating :  /content/drive/Shared drives/drive 4/Carla Dataset/Ground Truth /3321 .png\n",
            "Creating :  /content/drive/Shared drives/drive 4/Carla Dataset/Ground Truth /3322 .png\n",
            "Creating :  /content/drive/Shared drives/drive 4/Carla Dataset/Ground Truth /3323 .png\n",
            "Creating :  /content/drive/Shared drives/drive 4/Carla Dataset/Ground Truth /3324 .png\n",
            "Creating :  /content/drive/Shared drives/drive 4/Carla Dataset/Ground Truth /3325 .png\n",
            "Creating :  /content/drive/Shared drives/drive 4/Carla Dataset/Ground Truth /3326 .png\n",
            "Creating :  /content/drive/Shared drives/drive 4/Carla Dataset/Ground Truth /3327 .png\n",
            "Creating :  /content/drive/Shared drives/drive 4/Carla Dataset/Ground Truth /3328 .png\n",
            "Creating :  /content/drive/Shared drives/drive 4/Carla Dataset/Ground Truth /3329 .png\n",
            "Creating :  /content/drive/Shared drives/drive 4/Carla Dataset/Ground Truth /3330 .png\n",
            "Creating :  /content/drive/Shared drives/drive 4/Carla Dataset/Ground Truth /3331 .png\n",
            "Creating :  /content/drive/Shared drives/drive 4/Carla Dataset/Ground Truth /3332 .png\n",
            "Creating :  /content/drive/Shared drives/drive 4/Carla Dataset/Ground Truth /3333 .png\n",
            "Creating :  /content/drive/Shared drives/drive 4/Carla Dataset/Ground Truth /3334 .png\n",
            "Creating :  /content/drive/Shared drives/drive 4/Carla Dataset/Ground Truth /3335 .png\n",
            "Creating :  /content/drive/Shared drives/drive 4/Carla Dataset/Ground Truth /3336 .png\n",
            "Creating :  /content/drive/Shared drives/drive 4/Carla Dataset/Ground Truth /3337 .png\n",
            "Creating :  /content/drive/Shared drives/drive 4/Carla Dataset/Ground Truth /3338 .png\n",
            "Creating :  /content/drive/Shared drives/drive 4/Carla Dataset/Ground Truth /3339 .png\n",
            "Creating :  /content/drive/Shared drives/drive 4/Carla Dataset/Ground Truth /3340 .png\n",
            "Creating :  /content/drive/Shared drives/drive 4/Carla Dataset/Ground Truth /3341 .png\n",
            "Creating :  /content/drive/Shared drives/drive 4/Carla Dataset/Ground Truth /3342 .png\n",
            "Creating :  /content/drive/Shared drives/drive 4/Carla Dataset/Ground Truth /3343 .png\n",
            "Creating :  /content/drive/Shared drives/drive 4/Carla Dataset/Ground Truth /3344 .png\n",
            "Creating :  /content/drive/Shared drives/drive 4/Carla Dataset/Ground Truth /3345 .png\n",
            "Creating :  /content/drive/Shared drives/drive 4/Carla Dataset/Ground Truth /3346 .png\n",
            "Creating :  /content/drive/Shared drives/drive 4/Carla Dataset/Ground Truth /3347 .png\n",
            "Creating :  /content/drive/Shared drives/drive 4/Carla Dataset/Ground Truth /3348 .png\n",
            "Creating :  /content/drive/Shared drives/drive 4/Carla Dataset/Ground Truth /3349 .png\n",
            "Creating :  /content/drive/Shared drives/drive 4/Carla Dataset/Ground Truth /3350 .png\n",
            "Creating :  /content/drive/Shared drives/drive 4/Carla Dataset/Ground Truth /3351 .png\n",
            "Creating :  /content/drive/Shared drives/drive 4/Carla Dataset/Ground Truth /3352 .png\n",
            "Creating :  /content/drive/Shared drives/drive 4/Carla Dataset/Ground Truth /3353 .png\n",
            "Creating :  /content/drive/Shared drives/drive 4/Carla Dataset/Ground Truth /3354 .png\n",
            "Creating :  /content/drive/Shared drives/drive 4/Carla Dataset/Ground Truth /3355 .png\n",
            "Creating :  /content/drive/Shared drives/drive 4/Carla Dataset/Ground Truth /3356 .png\n",
            "Creating :  /content/drive/Shared drives/drive 4/Carla Dataset/Ground Truth /3357 .png\n",
            "Creating :  /content/drive/Shared drives/drive 4/Carla Dataset/Ground Truth /3358 .png\n",
            "Creating :  /content/drive/Shared drives/drive 4/Carla Dataset/Ground Truth /3359 .png\n",
            "Creating :  /content/drive/Shared drives/drive 4/Carla Dataset/Ground Truth /3360 .png\n",
            "Creating :  /content/drive/Shared drives/drive 4/Carla Dataset/Ground Truth /3361 .png\n",
            "Creating :  /content/drive/Shared drives/drive 4/Carla Dataset/Ground Truth /3362 .png\n",
            "Creating :  /content/drive/Shared drives/drive 4/Carla Dataset/Ground Truth /3363 .png\n",
            "Creating :  /content/drive/Shared drives/drive 4/Carla Dataset/Ground Truth /3364 .png\n",
            "Creating :  /content/drive/Shared drives/drive 4/Carla Dataset/Ground Truth /3365 .png\n",
            "Creating :  /content/drive/Shared drives/drive 4/Carla Dataset/Ground Truth /3366 .png\n",
            "Creating :  /content/drive/Shared drives/drive 4/Carla Dataset/Ground Truth /3367 .png\n",
            "Creating :  /content/drive/Shared drives/drive 4/Carla Dataset/Ground Truth /3368 .png\n",
            "Creating :  /content/drive/Shared drives/drive 4/Carla Dataset/Ground Truth /3369 .png\n",
            "Creating :  /content/drive/Shared drives/drive 4/Carla Dataset/Ground Truth /3370 .png\n",
            "Creating :  /content/drive/Shared drives/drive 4/Carla Dataset/Ground Truth /3371 .png\n",
            "Creating :  /content/drive/Shared drives/drive 4/Carla Dataset/Ground Truth /3372 .png\n",
            "Creating :  /content/drive/Shared drives/drive 4/Carla Dataset/Ground Truth /3373 .png\n",
            "Creating :  /content/drive/Shared drives/drive 4/Carla Dataset/Ground Truth /3374 .png\n",
            "Creating :  /content/drive/Shared drives/drive 4/Carla Dataset/Ground Truth /3375 .png\n",
            "Creating :  /content/drive/Shared drives/drive 4/Carla Dataset/Ground Truth /3376 .png\n",
            "Creating :  /content/drive/Shared drives/drive 4/Carla Dataset/Ground Truth /3377 .png\n",
            "Creating :  /content/drive/Shared drives/drive 4/Carla Dataset/Ground Truth /3378 .png\n",
            "Creating :  /content/drive/Shared drives/drive 4/Carla Dataset/Ground Truth /3379 .png\n",
            "Creating :  /content/drive/Shared drives/drive 4/Carla Dataset/Ground Truth /3380 .png\n",
            "Creating :  /content/drive/Shared drives/drive 4/Carla Dataset/Ground Truth /3381 .png\n",
            "Creating :  /content/drive/Shared drives/drive 4/Carla Dataset/Ground Truth /3382 .png\n",
            "Creating :  /content/drive/Shared drives/drive 4/Carla Dataset/Ground Truth /3383 .png\n",
            "Creating :  /content/drive/Shared drives/drive 4/Carla Dataset/Ground Truth /3384 .png\n",
            "Creating :  /content/drive/Shared drives/drive 4/Carla Dataset/Ground Truth /3385 .png\n",
            "Creating :  /content/drive/Shared drives/drive 4/Carla Dataset/Ground Truth /3386 .png\n",
            "Creating :  /content/drive/Shared drives/drive 4/Carla Dataset/Ground Truth /3387 .png\n",
            "Creating :  /content/drive/Shared drives/drive 4/Carla Dataset/Ground Truth /3388 .png\n",
            "Creating :  /content/drive/Shared drives/drive 4/Carla Dataset/Ground Truth /3389 .png\n",
            "Creating :  /content/drive/Shared drives/drive 4/Carla Dataset/Ground Truth /3390 .png\n",
            "Creating :  /content/drive/Shared drives/drive 4/Carla Dataset/Ground Truth /3391 .png\n",
            "Creating :  /content/drive/Shared drives/drive 4/Carla Dataset/Ground Truth /3392 .png\n",
            "Creating :  /content/drive/Shared drives/drive 4/Carla Dataset/Ground Truth /3393 .png\n",
            "Creating :  /content/drive/Shared drives/drive 4/Carla Dataset/Ground Truth /3394 .png\n",
            "Creating :  /content/drive/Shared drives/drive 4/Carla Dataset/Ground Truth /3395 .png\n",
            "Creating :  /content/drive/Shared drives/drive 4/Carla Dataset/Ground Truth /3396 .png\n",
            "Creating :  /content/drive/Shared drives/drive 4/Carla Dataset/Ground Truth /3397 .png\n",
            "Creating :  /content/drive/Shared drives/drive 4/Carla Dataset/Ground Truth /3398 .png\n",
            "Creating :  /content/drive/Shared drives/drive 4/Carla Dataset/Ground Truth /3399 .png\n",
            "Creating :  /content/drive/Shared drives/drive 4/Carla Dataset/Ground Truth /3400 .png\n",
            "Creating :  /content/drive/Shared drives/drive 4/Carla Dataset/Ground Truth /3401 .png\n",
            "Creating :  /content/drive/Shared drives/drive 4/Carla Dataset/Ground Truth /3402 .png\n",
            "Creating :  /content/drive/Shared drives/drive 4/Carla Dataset/Ground Truth /3403 .png\n",
            "Creating :  /content/drive/Shared drives/drive 4/Carla Dataset/Ground Truth /3404 .png\n",
            "Creating :  /content/drive/Shared drives/drive 4/Carla Dataset/Ground Truth /3405 .png\n",
            "Creating :  /content/drive/Shared drives/drive 4/Carla Dataset/Ground Truth /3406 .png\n",
            "Creating :  /content/drive/Shared drives/drive 4/Carla Dataset/Ground Truth /3407 .png\n",
            "Creating :  /content/drive/Shared drives/drive 4/Carla Dataset/Ground Truth /3408 .png\n",
            "Creating :  /content/drive/Shared drives/drive 4/Carla Dataset/Ground Truth /3409 .png\n",
            "Creating :  /content/drive/Shared drives/drive 4/Carla Dataset/Ground Truth /3410 .png\n",
            "Creating :  /content/drive/Shared drives/drive 4/Carla Dataset/Ground Truth /3411 .png\n",
            "Creating :  /content/drive/Shared drives/drive 4/Carla Dataset/Ground Truth /3412 .png\n",
            "Creating :  /content/drive/Shared drives/drive 4/Carla Dataset/Ground Truth /3413 .png\n",
            "Creating :  /content/drive/Shared drives/drive 4/Carla Dataset/Ground Truth /3414 .png\n",
            "Creating :  /content/drive/Shared drives/drive 4/Carla Dataset/Ground Truth /3415 .png\n",
            "Creating :  /content/drive/Shared drives/drive 4/Carla Dataset/Ground Truth /3416 .png\n",
            "Creating :  /content/drive/Shared drives/drive 4/Carla Dataset/Ground Truth /3417 .png\n",
            "Creating :  /content/drive/Shared drives/drive 4/Carla Dataset/Ground Truth /3418 .png\n",
            "Creating :  /content/drive/Shared drives/drive 4/Carla Dataset/Ground Truth /3419 .png\n",
            "Creating :  /content/drive/Shared drives/drive 4/Carla Dataset/Ground Truth /3420 .png\n",
            "Creating :  /content/drive/Shared drives/drive 4/Carla Dataset/Ground Truth /3421 .png\n",
            "Creating :  /content/drive/Shared drives/drive 4/Carla Dataset/Ground Truth /3422 .png\n",
            "Creating :  /content/drive/Shared drives/drive 4/Carla Dataset/Ground Truth /3423 .png\n",
            "Creating :  /content/drive/Shared drives/drive 4/Carla Dataset/Ground Truth /3424 .png\n",
            "Creating :  /content/drive/Shared drives/drive 4/Carla Dataset/Ground Truth /3425 .png\n",
            "Creating :  /content/drive/Shared drives/drive 4/Carla Dataset/Ground Truth /3426 .png\n",
            "Creating :  /content/drive/Shared drives/drive 4/Carla Dataset/Ground Truth /3427 .png\n",
            "Creating :  /content/drive/Shared drives/drive 4/Carla Dataset/Ground Truth /3428 .png\n",
            "Creating :  /content/drive/Shared drives/drive 4/Carla Dataset/Ground Truth /3429 .png\n",
            "Creating :  /content/drive/Shared drives/drive 4/Carla Dataset/Ground Truth /3430 .png\n",
            "Creating :  /content/drive/Shared drives/drive 4/Carla Dataset/Ground Truth /3431 .png\n",
            "Creating :  /content/drive/Shared drives/drive 4/Carla Dataset/Ground Truth /3432 .png\n",
            "Creating :  /content/drive/Shared drives/drive 4/Carla Dataset/Ground Truth /3433 .png\n",
            "Creating :  /content/drive/Shared drives/drive 4/Carla Dataset/Ground Truth /3434 .png\n",
            "Creating :  /content/drive/Shared drives/drive 4/Carla Dataset/Ground Truth /3435 .png\n",
            "Creating :  /content/drive/Shared drives/drive 4/Carla Dataset/Ground Truth /3436 .png\n",
            "Creating :  /content/drive/Shared drives/drive 4/Carla Dataset/Ground Truth /3437 .png\n",
            "Creating :  /content/drive/Shared drives/drive 4/Carla Dataset/Ground Truth /3438 .png\n",
            "Creating :  /content/drive/Shared drives/drive 4/Carla Dataset/Ground Truth /3439 .png\n",
            "Creating :  /content/drive/Shared drives/drive 4/Carla Dataset/Ground Truth /3440 .png\n",
            "Creating :  /content/drive/Shared drives/drive 4/Carla Dataset/Ground Truth /3441 .png\n",
            "Creating :  /content/drive/Shared drives/drive 4/Carla Dataset/Ground Truth /3442 .png\n",
            "Creating :  /content/drive/Shared drives/drive 4/Carla Dataset/Ground Truth /3443 .png\n",
            "Creating :  /content/drive/Shared drives/drive 4/Carla Dataset/Ground Truth /3444 .png\n",
            "Creating :  /content/drive/Shared drives/drive 4/Carla Dataset/Ground Truth /3445 .png\n",
            "Creating :  /content/drive/Shared drives/drive 4/Carla Dataset/Ground Truth /3446 .png\n",
            "Creating :  /content/drive/Shared drives/drive 4/Carla Dataset/Ground Truth /3447 .png\n",
            "Creating :  /content/drive/Shared drives/drive 4/Carla Dataset/Ground Truth /3448 .png\n",
            "Creating :  /content/drive/Shared drives/drive 4/Carla Dataset/Ground Truth /3449 .png\n",
            "Creating :  /content/drive/Shared drives/drive 4/Carla Dataset/Ground Truth /3450 .png\n",
            "Creating :  /content/drive/Shared drives/drive 4/Carla Dataset/Ground Truth /3451 .png\n",
            "Creating :  /content/drive/Shared drives/drive 4/Carla Dataset/Ground Truth /3452 .png\n",
            "Creating :  /content/drive/Shared drives/drive 4/Carla Dataset/Ground Truth /3453 .png\n",
            "Creating :  /content/drive/Shared drives/drive 4/Carla Dataset/Ground Truth /3454 .png\n",
            "Creating :  /content/drive/Shared drives/drive 4/Carla Dataset/Ground Truth /3455 .png\n",
            "Creating :  /content/drive/Shared drives/drive 4/Carla Dataset/Ground Truth /3456 .png\n",
            "Creating :  /content/drive/Shared drives/drive 4/Carla Dataset/Ground Truth /3457 .png\n",
            "Creating :  /content/drive/Shared drives/drive 4/Carla Dataset/Ground Truth /3458 .png\n",
            "Creating :  /content/drive/Shared drives/drive 4/Carla Dataset/Ground Truth /3459 .png\n",
            "Creating :  /content/drive/Shared drives/drive 4/Carla Dataset/Ground Truth /3460 .png\n",
            "Creating :  /content/drive/Shared drives/drive 4/Carla Dataset/Ground Truth /3461 .png\n",
            "Creating :  /content/drive/Shared drives/drive 4/Carla Dataset/Ground Truth /3462 .png\n",
            "Creating :  /content/drive/Shared drives/drive 4/Carla Dataset/Ground Truth /3463 .png\n",
            "Creating :  /content/drive/Shared drives/drive 4/Carla Dataset/Ground Truth /3464 .png\n",
            "Creating :  /content/drive/Shared drives/drive 4/Carla Dataset/Ground Truth /3465 .png\n",
            "Creating :  /content/drive/Shared drives/drive 4/Carla Dataset/Ground Truth /3466 .png\n",
            "Creating :  /content/drive/Shared drives/drive 4/Carla Dataset/Ground Truth /3467 .png\n",
            "Creating :  /content/drive/Shared drives/drive 4/Carla Dataset/Ground Truth /3468 .png\n",
            "Creating :  /content/drive/Shared drives/drive 4/Carla Dataset/Ground Truth /3469 .png\n",
            "Creating :  /content/drive/Shared drives/drive 4/Carla Dataset/Ground Truth /3470 .png\n",
            "Creating :  /content/drive/Shared drives/drive 4/Carla Dataset/Ground Truth /3471 .png\n",
            "Creating :  /content/drive/Shared drives/drive 4/Carla Dataset/Ground Truth /3472 .png\n",
            "Creating :  /content/drive/Shared drives/drive 4/Carla Dataset/Ground Truth /3473 .png\n",
            "Creating :  /content/drive/Shared drives/drive 4/Carla Dataset/Ground Truth /3474 .png\n",
            "Creating :  /content/drive/Shared drives/drive 4/Carla Dataset/Ground Truth /3475 .png\n",
            "Creating :  /content/drive/Shared drives/drive 4/Carla Dataset/Ground Truth /3476 .png\n",
            "Creating :  /content/drive/Shared drives/drive 4/Carla Dataset/Ground Truth /3477 .png\n",
            "Creating :  /content/drive/Shared drives/drive 4/Carla Dataset/Ground Truth /3478 .png\n",
            "Creating :  /content/drive/Shared drives/drive 4/Carla Dataset/Ground Truth /3479 .png\n",
            "Creating :  /content/drive/Shared drives/drive 4/Carla Dataset/Ground Truth /3480 .png\n",
            "Creating :  /content/drive/Shared drives/drive 4/Carla Dataset/Ground Truth /3481 .png\n",
            "Creating :  /content/drive/Shared drives/drive 4/Carla Dataset/Ground Truth /3482 .png\n",
            "Creating :  /content/drive/Shared drives/drive 4/Carla Dataset/Ground Truth /3483 .png\n",
            "Creating :  /content/drive/Shared drives/drive 4/Carla Dataset/Ground Truth /3484 .png\n",
            "Creating :  /content/drive/Shared drives/drive 4/Carla Dataset/Ground Truth /3485 .png\n",
            "Creating :  /content/drive/Shared drives/drive 4/Carla Dataset/Ground Truth /3486 .png\n",
            "Creating :  /content/drive/Shared drives/drive 4/Carla Dataset/Ground Truth /3487 .png\n",
            "Creating :  /content/drive/Shared drives/drive 4/Carla Dataset/Ground Truth /3488 .png\n",
            "Creating :  /content/drive/Shared drives/drive 4/Carla Dataset/Ground Truth /3489 .png\n",
            "Creating :  /content/drive/Shared drives/drive 4/Carla Dataset/Ground Truth /3490 .png\n",
            "Creating :  /content/drive/Shared drives/drive 4/Carla Dataset/Ground Truth /3491 .png\n",
            "Creating :  /content/drive/Shared drives/drive 4/Carla Dataset/Ground Truth /3492 .png\n",
            "Creating :  /content/drive/Shared drives/drive 4/Carla Dataset/Ground Truth /3493 .png\n",
            "Creating :  /content/drive/Shared drives/drive 4/Carla Dataset/Ground Truth /3494 .png\n",
            "Creating :  /content/drive/Shared drives/drive 4/Carla Dataset/Ground Truth /3495 .png\n",
            "Creating :  /content/drive/Shared drives/drive 4/Carla Dataset/Ground Truth /3496 .png\n",
            "Creating :  /content/drive/Shared drives/drive 4/Carla Dataset/Ground Truth /3497 .png\n",
            "Creating :  /content/drive/Shared drives/drive 4/Carla Dataset/Ground Truth /3498 .png\n",
            "Creating :  /content/drive/Shared drives/drive 4/Carla Dataset/Ground Truth /3499 .png\n",
            "Creating :  /content/drive/Shared drives/drive 4/Carla Dataset/Ground Truth /3500 .png\n",
            "Creating :  /content/drive/Shared drives/drive 4/Carla Dataset/Ground Truth /3501 .png\n",
            "Creating :  /content/drive/Shared drives/drive 4/Carla Dataset/Ground Truth /3502 .png\n",
            "Creating :  /content/drive/Shared drives/drive 4/Carla Dataset/Ground Truth /3503 .png\n",
            "Creating :  /content/drive/Shared drives/drive 4/Carla Dataset/Ground Truth /3504 .png\n",
            "Creating :  /content/drive/Shared drives/drive 4/Carla Dataset/Ground Truth /3505 .png\n",
            "Creating :  /content/drive/Shared drives/drive 4/Carla Dataset/Ground Truth /3506 .png\n",
            "Creating :  /content/drive/Shared drives/drive 4/Carla Dataset/Ground Truth /3507 .png\n",
            "Creating :  /content/drive/Shared drives/drive 4/Carla Dataset/Ground Truth /3508 .png\n",
            "Creating :  /content/drive/Shared drives/drive 4/Carla Dataset/Ground Truth /3509 .png\n",
            "Creating :  /content/drive/Shared drives/drive 4/Carla Dataset/Ground Truth /3510 .png\n",
            "Creating :  /content/drive/Shared drives/drive 4/Carla Dataset/Ground Truth /3511 .png\n",
            "Creating :  /content/drive/Shared drives/drive 4/Carla Dataset/Ground Truth /3512 .png\n",
            "Creating :  /content/drive/Shared drives/drive 4/Carla Dataset/Ground Truth /3513 .png\n",
            "Creating :  /content/drive/Shared drives/drive 4/Carla Dataset/Ground Truth /3514 .png\n",
            "Creating :  /content/drive/Shared drives/drive 4/Carla Dataset/Ground Truth /3515 .png\n",
            "Creating :  /content/drive/Shared drives/drive 4/Carla Dataset/Ground Truth /3516 .png\n",
            "Creating :  /content/drive/Shared drives/drive 4/Carla Dataset/Ground Truth /3517 .png\n",
            "Creating :  /content/drive/Shared drives/drive 4/Carla Dataset/Ground Truth /3518 .png\n",
            "Creating :  /content/drive/Shared drives/drive 4/Carla Dataset/Ground Truth /3519 .png\n",
            "Creating :  /content/drive/Shared drives/drive 4/Carla Dataset/Ground Truth /3520 .png\n",
            "Creating :  /content/drive/Shared drives/drive 4/Carla Dataset/Ground Truth /3521 .png\n",
            "Creating :  /content/drive/Shared drives/drive 4/Carla Dataset/Ground Truth /3522 .png\n",
            "Creating :  /content/drive/Shared drives/drive 4/Carla Dataset/Ground Truth /3523 .png\n",
            "Creating :  /content/drive/Shared drives/drive 4/Carla Dataset/Ground Truth /3524 .png\n",
            "Creating :  /content/drive/Shared drives/drive 4/Carla Dataset/Ground Truth /3525 .png\n",
            "Creating :  /content/drive/Shared drives/drive 4/Carla Dataset/Ground Truth /3526 .png\n",
            "Creating :  /content/drive/Shared drives/drive 4/Carla Dataset/Ground Truth /3527 .png\n",
            "Creating :  /content/drive/Shared drives/drive 4/Carla Dataset/Ground Truth /3528 .png\n",
            "Creating :  /content/drive/Shared drives/drive 4/Carla Dataset/Ground Truth /3529 .png\n",
            "Creating :  /content/drive/Shared drives/drive 4/Carla Dataset/Ground Truth /3530 .png\n",
            "Creating :  /content/drive/Shared drives/drive 4/Carla Dataset/Ground Truth /3531 .png\n",
            "Creating :  /content/drive/Shared drives/drive 4/Carla Dataset/Ground Truth /3532 .png\n",
            "Creating :  /content/drive/Shared drives/drive 4/Carla Dataset/Ground Truth /3533 .png\n",
            "Creating :  /content/drive/Shared drives/drive 4/Carla Dataset/Ground Truth /3534 .png\n",
            "Creating :  /content/drive/Shared drives/drive 4/Carla Dataset/Ground Truth /3535 .png\n",
            "Creating :  /content/drive/Shared drives/drive 4/Carla Dataset/Ground Truth /3536 .png\n",
            "Creating :  /content/drive/Shared drives/drive 4/Carla Dataset/Ground Truth /3537 .png\n",
            "Creating :  /content/drive/Shared drives/drive 4/Carla Dataset/Ground Truth /3538 .png\n",
            "Creating :  /content/drive/Shared drives/drive 4/Carla Dataset/Ground Truth /3539 .png\n",
            "Creating :  /content/drive/Shared drives/drive 4/Carla Dataset/Ground Truth /3540 .png\n",
            "Creating :  /content/drive/Shared drives/drive 4/Carla Dataset/Ground Truth /3541 .png\n",
            "Creating :  /content/drive/Shared drives/drive 4/Carla Dataset/Ground Truth /3542 .png\n",
            "Creating :  /content/drive/Shared drives/drive 4/Carla Dataset/Ground Truth /3543 .png\n",
            "Creating :  /content/drive/Shared drives/drive 4/Carla Dataset/Ground Truth /3544 .png\n",
            "Creating :  /content/drive/Shared drives/drive 4/Carla Dataset/Ground Truth /3545 .png\n",
            "Creating :  /content/drive/Shared drives/drive 4/Carla Dataset/Ground Truth /3546 .png\n",
            "Creating :  /content/drive/Shared drives/drive 4/Carla Dataset/Ground Truth /3547 .png\n",
            "Creating :  /content/drive/Shared drives/drive 4/Carla Dataset/Ground Truth /3548 .png\n",
            "Creating :  /content/drive/Shared drives/drive 4/Carla Dataset/Ground Truth /3549 .png\n",
            "Creating :  /content/drive/Shared drives/drive 4/Carla Dataset/Ground Truth /3550 .png\n",
            "Creating :  /content/drive/Shared drives/drive 4/Carla Dataset/Ground Truth /3551 .png\n",
            "Creating :  /content/drive/Shared drives/drive 4/Carla Dataset/Ground Truth /3552 .png\n",
            "Creating :  /content/drive/Shared drives/drive 4/Carla Dataset/Ground Truth /3553 .png\n",
            "Creating :  /content/drive/Shared drives/drive 4/Carla Dataset/Ground Truth /3554 .png\n",
            "Creating :  /content/drive/Shared drives/drive 4/Carla Dataset/Ground Truth /3555 .png\n",
            "Creating :  /content/drive/Shared drives/drive 4/Carla Dataset/Ground Truth /3556 .png\n",
            "Creating :  /content/drive/Shared drives/drive 4/Carla Dataset/Ground Truth /3557 .png\n",
            "Creating :  /content/drive/Shared drives/drive 4/Carla Dataset/Ground Truth /3558 .png\n",
            "Creating :  /content/drive/Shared drives/drive 4/Carla Dataset/Ground Truth /3559 .png\n",
            "Creating :  /content/drive/Shared drives/drive 4/Carla Dataset/Ground Truth /3560 .png\n",
            "Creating :  /content/drive/Shared drives/drive 4/Carla Dataset/Ground Truth /3561 .png\n",
            "Creating :  /content/drive/Shared drives/drive 4/Carla Dataset/Ground Truth /3562 .png\n",
            "Creating :  /content/drive/Shared drives/drive 4/Carla Dataset/Ground Truth /3563 .png\n",
            "Creating :  /content/drive/Shared drives/drive 4/Carla Dataset/Ground Truth /3564 .png\n",
            "Creating :  /content/drive/Shared drives/drive 4/Carla Dataset/Ground Truth /3565 .png\n",
            "Creating :  /content/drive/Shared drives/drive 4/Carla Dataset/Ground Truth /3566 .png\n",
            "Creating :  /content/drive/Shared drives/drive 4/Carla Dataset/Ground Truth /3567 .png\n",
            "Creating :  /content/drive/Shared drives/drive 4/Carla Dataset/Ground Truth /3568 .png\n",
            "Creating :  /content/drive/Shared drives/drive 4/Carla Dataset/Ground Truth /3569 .png\n",
            "Creating :  /content/drive/Shared drives/drive 4/Carla Dataset/Ground Truth /3570 .png\n",
            "Creating :  /content/drive/Shared drives/drive 4/Carla Dataset/Ground Truth /3571 .png\n",
            "Creating :  /content/drive/Shared drives/drive 4/Carla Dataset/Ground Truth /3572 .png\n",
            "Creating :  /content/drive/Shared drives/drive 4/Carla Dataset/Ground Truth /3573 .png\n",
            "Creating :  /content/drive/Shared drives/drive 4/Carla Dataset/Ground Truth /3574 .png\n",
            "Creating :  /content/drive/Shared drives/drive 4/Carla Dataset/Ground Truth /3575 .png\n",
            "Creating :  /content/drive/Shared drives/drive 4/Carla Dataset/Ground Truth /3576 .png\n",
            "Creating :  /content/drive/Shared drives/drive 4/Carla Dataset/Ground Truth /3577 .png\n",
            "Creating :  /content/drive/Shared drives/drive 4/Carla Dataset/Ground Truth /3578 .png\n",
            "Creating :  /content/drive/Shared drives/drive 4/Carla Dataset/Ground Truth /3579 .png\n",
            "Creating :  /content/drive/Shared drives/drive 4/Carla Dataset/Ground Truth /3580 .png\n",
            "Creating :  /content/drive/Shared drives/drive 4/Carla Dataset/Ground Truth /3581 .png\n",
            "Creating :  /content/drive/Shared drives/drive 4/Carla Dataset/Ground Truth /3582 .png\n",
            "Creating :  /content/drive/Shared drives/drive 4/Carla Dataset/Ground Truth /3583 .png\n",
            "Creating :  /content/drive/Shared drives/drive 4/Carla Dataset/Ground Truth /3584 .png\n",
            "Creating :  /content/drive/Shared drives/drive 4/Carla Dataset/Ground Truth /3585 .png\n",
            "Creating :  /content/drive/Shared drives/drive 4/Carla Dataset/Ground Truth /3586 .png\n",
            "Creating :  /content/drive/Shared drives/drive 4/Carla Dataset/Ground Truth /3587 .png\n",
            "Creating :  /content/drive/Shared drives/drive 4/Carla Dataset/Ground Truth /3588 .png\n",
            "Creating :  /content/drive/Shared drives/drive 4/Carla Dataset/Ground Truth /3589 .png\n",
            "Creating :  /content/drive/Shared drives/drive 4/Carla Dataset/Ground Truth /3590 .png\n",
            "Creating :  /content/drive/Shared drives/drive 4/Carla Dataset/Ground Truth /3591 .png\n",
            "Creating :  /content/drive/Shared drives/drive 4/Carla Dataset/Ground Truth /3592 .png\n",
            "Creating :  /content/drive/Shared drives/drive 4/Carla Dataset/Ground Truth /3593 .png\n",
            "Creating :  /content/drive/Shared drives/drive 4/Carla Dataset/Ground Truth /3594 .png\n",
            "Creating :  /content/drive/Shared drives/drive 4/Carla Dataset/Ground Truth /3595 .png\n",
            "Creating :  /content/drive/Shared drives/drive 4/Carla Dataset/Ground Truth /3596 .png\n",
            "Creating :  /content/drive/Shared drives/drive 4/Carla Dataset/Ground Truth /3597 .png\n",
            "Creating :  /content/drive/Shared drives/drive 4/Carla Dataset/Ground Truth /3598 .png\n",
            "Creating :  /content/drive/Shared drives/drive 4/Carla Dataset/Ground Truth /3599 .png\n",
            "Creating :  /content/drive/Shared drives/drive 4/Carla Dataset/Ground Truth /3600 .png\n",
            "Creating :  /content/drive/Shared drives/drive 4/Carla Dataset/Ground Truth /3601 .png\n",
            "Creating :  /content/drive/Shared drives/drive 4/Carla Dataset/Ground Truth /3602 .png\n",
            "Creating :  /content/drive/Shared drives/drive 4/Carla Dataset/Ground Truth /3603 .png\n",
            "Creating :  /content/drive/Shared drives/drive 4/Carla Dataset/Ground Truth /3604 .png\n",
            "Creating :  /content/drive/Shared drives/drive 4/Carla Dataset/Ground Truth /3605 .png\n",
            "Creating :  /content/drive/Shared drives/drive 4/Carla Dataset/Ground Truth /3606 .png\n",
            "Creating :  /content/drive/Shared drives/drive 4/Carla Dataset/Ground Truth /3607 .png\n",
            "Creating :  /content/drive/Shared drives/drive 4/Carla Dataset/Ground Truth /3608 .png\n",
            "Creating :  /content/drive/Shared drives/drive 4/Carla Dataset/Ground Truth /3609 .png\n",
            "Creating :  /content/drive/Shared drives/drive 4/Carla Dataset/Ground Truth /3610 .png\n",
            "Creating :  /content/drive/Shared drives/drive 4/Carla Dataset/Ground Truth /3611 .png\n",
            "Creating :  /content/drive/Shared drives/drive 4/Carla Dataset/Ground Truth /3612 .png\n",
            "Creating :  /content/drive/Shared drives/drive 4/Carla Dataset/Ground Truth /3613 .png\n",
            "Creating :  /content/drive/Shared drives/drive 4/Carla Dataset/Ground Truth /3614 .png\n",
            "Creating :  /content/drive/Shared drives/drive 4/Carla Dataset/Ground Truth /3615 .png\n",
            "Creating :  /content/drive/Shared drives/drive 4/Carla Dataset/Ground Truth /3616 .png\n",
            "Creating :  /content/drive/Shared drives/drive 4/Carla Dataset/Ground Truth /3617 .png\n",
            "Creating :  /content/drive/Shared drives/drive 4/Carla Dataset/Ground Truth /3618 .png\n",
            "Creating :  /content/drive/Shared drives/drive 4/Carla Dataset/Ground Truth /3619 .png\n",
            "Creating :  /content/drive/Shared drives/drive 4/Carla Dataset/Ground Truth /3620 .png\n",
            "Creating :  /content/drive/Shared drives/drive 4/Carla Dataset/Ground Truth /3621 .png\n",
            "Creating :  /content/drive/Shared drives/drive 4/Carla Dataset/Ground Truth /3622 .png\n",
            "Creating :  /content/drive/Shared drives/drive 4/Carla Dataset/Ground Truth /3623 .png\n",
            "Creating :  /content/drive/Shared drives/drive 4/Carla Dataset/Ground Truth /3624 .png\n",
            "Creating :  /content/drive/Shared drives/drive 4/Carla Dataset/Ground Truth /3625 .png\n",
            "Creating :  /content/drive/Shared drives/drive 4/Carla Dataset/Ground Truth /3626 .png\n",
            "Creating :  /content/drive/Shared drives/drive 4/Carla Dataset/Ground Truth /3627 .png\n",
            "Creating :  /content/drive/Shared drives/drive 4/Carla Dataset/Ground Truth /3628 .png\n",
            "Creating :  /content/drive/Shared drives/drive 4/Carla Dataset/Ground Truth /3629 .png\n",
            "Creating :  /content/drive/Shared drives/drive 4/Carla Dataset/Ground Truth /3630 .png\n",
            "Creating :  /content/drive/Shared drives/drive 4/Carla Dataset/Ground Truth /3631 .png\n",
            "Creating :  /content/drive/Shared drives/drive 4/Carla Dataset/Ground Truth /3632 .png\n",
            "Creating :  /content/drive/Shared drives/drive 4/Carla Dataset/Ground Truth /3633 .png\n",
            "Creating :  /content/drive/Shared drives/drive 4/Carla Dataset/Ground Truth /3634 .png\n",
            "Creating :  /content/drive/Shared drives/drive 4/Carla Dataset/Ground Truth /3635 .png\n",
            "Creating :  /content/drive/Shared drives/drive 4/Carla Dataset/Ground Truth /3636 .png\n",
            "Creating :  /content/drive/Shared drives/drive 4/Carla Dataset/Ground Truth /3637 .png\n",
            "Creating :  /content/drive/Shared drives/drive 4/Carla Dataset/Ground Truth /3638 .png\n",
            "Creating :  /content/drive/Shared drives/drive 4/Carla Dataset/Ground Truth /3639 .png\n",
            "Creating :  /content/drive/Shared drives/drive 4/Carla Dataset/Ground Truth /3640 .png\n",
            "Creating :  /content/drive/Shared drives/drive 4/Carla Dataset/Ground Truth /3641 .png\n",
            "Creating :  /content/drive/Shared drives/drive 4/Carla Dataset/Ground Truth /3642 .png\n",
            "Creating :  /content/drive/Shared drives/drive 4/Carla Dataset/Ground Truth /3643 .png\n",
            "Creating :  /content/drive/Shared drives/drive 4/Carla Dataset/Ground Truth /3644 .png\n",
            "Creating :  /content/drive/Shared drives/drive 4/Carla Dataset/Ground Truth /3645 .png\n",
            "Creating :  /content/drive/Shared drives/drive 4/Carla Dataset/Ground Truth /3646 .png\n",
            "Creating :  /content/drive/Shared drives/drive 4/Carla Dataset/Ground Truth /3647 .png\n",
            "Creating :  /content/drive/Shared drives/drive 4/Carla Dataset/Ground Truth /3648 .png\n",
            "Creating :  /content/drive/Shared drives/drive 4/Carla Dataset/Ground Truth /3649 .png\n",
            "Creating :  /content/drive/Shared drives/drive 4/Carla Dataset/Ground Truth /3650 .png\n",
            "Creating :  /content/drive/Shared drives/drive 4/Carla Dataset/Ground Truth /3651 .png\n",
            "Creating :  /content/drive/Shared drives/drive 4/Carla Dataset/Ground Truth /3652 .png\n",
            "Creating :  /content/drive/Shared drives/drive 4/Carla Dataset/Ground Truth /3653 .png\n",
            "Creating :  /content/drive/Shared drives/drive 4/Carla Dataset/Ground Truth /3654 .png\n",
            "Creating :  /content/drive/Shared drives/drive 4/Carla Dataset/Ground Truth /3655 .png\n",
            "Creating :  /content/drive/Shared drives/drive 4/Carla Dataset/Ground Truth /3656 .png\n",
            "Creating :  /content/drive/Shared drives/drive 4/Carla Dataset/Ground Truth /3657 .png\n",
            "Creating :  /content/drive/Shared drives/drive 4/Carla Dataset/Ground Truth /3658 .png\n",
            "Creating :  /content/drive/Shared drives/drive 4/Carla Dataset/Ground Truth /3659 .png\n",
            "Creating :  /content/drive/Shared drives/drive 4/Carla Dataset/Ground Truth /3660 .png\n",
            "Creating :  /content/drive/Shared drives/drive 4/Carla Dataset/Ground Truth /3661 .png\n",
            "Creating :  /content/drive/Shared drives/drive 4/Carla Dataset/Ground Truth /3662 .png\n",
            "Creating :  /content/drive/Shared drives/drive 4/Carla Dataset/Ground Truth /3663 .png\n",
            "Creating :  /content/drive/Shared drives/drive 4/Carla Dataset/Ground Truth /3664 .png\n",
            "Creating :  /content/drive/Shared drives/drive 4/Carla Dataset/Ground Truth /3665 .png\n",
            "Creating :  /content/drive/Shared drives/drive 4/Carla Dataset/Ground Truth /3666 .png\n",
            "Creating :  /content/drive/Shared drives/drive 4/Carla Dataset/Ground Truth /3667 .png\n",
            "Creating :  /content/drive/Shared drives/drive 4/Carla Dataset/Ground Truth /3668 .png\n",
            "Creating :  /content/drive/Shared drives/drive 4/Carla Dataset/Ground Truth /3669 .png\n",
            "Creating :  /content/drive/Shared drives/drive 4/Carla Dataset/Ground Truth /3670 .png\n",
            "Creating :  /content/drive/Shared drives/drive 4/Carla Dataset/Ground Truth /3671 .png\n",
            "Creating :  /content/drive/Shared drives/drive 4/Carla Dataset/Ground Truth /3672 .png\n",
            "Creating :  /content/drive/Shared drives/drive 4/Carla Dataset/Ground Truth /3673 .png\n",
            "Creating :  /content/drive/Shared drives/drive 4/Carla Dataset/Ground Truth /3674 .png\n",
            "Creating :  /content/drive/Shared drives/drive 4/Carla Dataset/Ground Truth /3675 .png\n",
            "Creating :  /content/drive/Shared drives/drive 4/Carla Dataset/Ground Truth /3676 .png\n",
            "Creating :  /content/drive/Shared drives/drive 4/Carla Dataset/Ground Truth /3677 .png\n",
            "Creating :  /content/drive/Shared drives/drive 4/Carla Dataset/Ground Truth /3678 .png\n",
            "Creating :  /content/drive/Shared drives/drive 4/Carla Dataset/Ground Truth /3679 .png\n",
            "Creating :  /content/drive/Shared drives/drive 4/Carla Dataset/Ground Truth /3680 .png\n",
            "Creating :  /content/drive/Shared drives/drive 4/Carla Dataset/Ground Truth /3681 .png\n",
            "Creating :  /content/drive/Shared drives/drive 4/Carla Dataset/Ground Truth /3682 .png\n",
            "Creating :  /content/drive/Shared drives/drive 4/Carla Dataset/Ground Truth /3683 .png\n",
            "Creating :  /content/drive/Shared drives/drive 4/Carla Dataset/Ground Truth /3684 .png\n",
            "Creating :  /content/drive/Shared drives/drive 4/Carla Dataset/Ground Truth /3685 .png\n",
            "Creating :  /content/drive/Shared drives/drive 4/Carla Dataset/Ground Truth /3686 .png\n",
            "Creating :  /content/drive/Shared drives/drive 4/Carla Dataset/Ground Truth /3687 .png\n",
            "Creating :  /content/drive/Shared drives/drive 4/Carla Dataset/Ground Truth /3688 .png\n",
            "Creating :  /content/drive/Shared drives/drive 4/Carla Dataset/Ground Truth /3689 .png\n",
            "Creating :  /content/drive/Shared drives/drive 4/Carla Dataset/Ground Truth /3690 .png\n",
            "Creating :  /content/drive/Shared drives/drive 4/Carla Dataset/Ground Truth /3691 .png\n",
            "Creating :  /content/drive/Shared drives/drive 4/Carla Dataset/Ground Truth /3692 .png\n",
            "Creating :  /content/drive/Shared drives/drive 4/Carla Dataset/Ground Truth /3693 .png\n",
            "Creating :  /content/drive/Shared drives/drive 4/Carla Dataset/Ground Truth /3694 .png\n",
            "Creating :  /content/drive/Shared drives/drive 4/Carla Dataset/Ground Truth /3695 .png\n",
            "Creating :  /content/drive/Shared drives/drive 4/Carla Dataset/Ground Truth /3696 .png\n",
            "Creating :  /content/drive/Shared drives/drive 4/Carla Dataset/Ground Truth /3697 .png\n",
            "Creating :  /content/drive/Shared drives/drive 4/Carla Dataset/Ground Truth /3698 .png\n",
            "Creating :  /content/drive/Shared drives/drive 4/Carla Dataset/Ground Truth /3699 .png\n",
            "Creating :  /content/drive/Shared drives/drive 4/Carla Dataset/Ground Truth /3700 .png\n",
            "Creating :  /content/drive/Shared drives/drive 4/Carla Dataset/Ground Truth /3701 .png\n",
            "Creating :  /content/drive/Shared drives/drive 4/Carla Dataset/Ground Truth /3702 .png\n",
            "Creating :  /content/drive/Shared drives/drive 4/Carla Dataset/Ground Truth /3703 .png\n",
            "Creating :  /content/drive/Shared drives/drive 4/Carla Dataset/Ground Truth /3704 .png\n",
            "Creating :  /content/drive/Shared drives/drive 4/Carla Dataset/Ground Truth /3705 .png\n",
            "Creating :  /content/drive/Shared drives/drive 4/Carla Dataset/Ground Truth /3706 .png\n",
            "Creating :  /content/drive/Shared drives/drive 4/Carla Dataset/Ground Truth /3707 .png\n",
            "Creating :  /content/drive/Shared drives/drive 4/Carla Dataset/Ground Truth /3708 .png\n",
            "Creating :  /content/drive/Shared drives/drive 4/Carla Dataset/Ground Truth /3709 .png\n",
            "Creating :  /content/drive/Shared drives/drive 4/Carla Dataset/Ground Truth /3710 .png\n",
            "Creating :  /content/drive/Shared drives/drive 4/Carla Dataset/Ground Truth /3711 .png\n",
            "Creating :  /content/drive/Shared drives/drive 4/Carla Dataset/Ground Truth /3712 .png\n",
            "Creating :  /content/drive/Shared drives/drive 4/Carla Dataset/Ground Truth /3713 .png\n",
            "Creating :  /content/drive/Shared drives/drive 4/Carla Dataset/Ground Truth /3714 .png\n",
            "Creating :  /content/drive/Shared drives/drive 4/Carla Dataset/Ground Truth /3715 .png\n",
            "Creating :  /content/drive/Shared drives/drive 4/Carla Dataset/Ground Truth /3716 .png\n",
            "Creating :  /content/drive/Shared drives/drive 4/Carla Dataset/Ground Truth /3717 .png\n",
            "Creating :  /content/drive/Shared drives/drive 4/Carla Dataset/Ground Truth /3718 .png\n",
            "Creating :  /content/drive/Shared drives/drive 4/Carla Dataset/Ground Truth /3719 .png\n",
            "Creating :  /content/drive/Shared drives/drive 4/Carla Dataset/Ground Truth /3720 .png\n",
            "Creating :  /content/drive/Shared drives/drive 4/Carla Dataset/Ground Truth /3721 .png\n",
            "Creating :  /content/drive/Shared drives/drive 4/Carla Dataset/Ground Truth /3722 .png\n",
            "Creating :  /content/drive/Shared drives/drive 4/Carla Dataset/Ground Truth /3723 .png\n",
            "Creating :  /content/drive/Shared drives/drive 4/Carla Dataset/Ground Truth /3724 .png\n",
            "Creating :  /content/drive/Shared drives/drive 4/Carla Dataset/Ground Truth /3725 .png\n",
            "Creating :  /content/drive/Shared drives/drive 4/Carla Dataset/Ground Truth /3726 .png\n",
            "Creating :  /content/drive/Shared drives/drive 4/Carla Dataset/Ground Truth /3727 .png\n",
            "Creating :  /content/drive/Shared drives/drive 4/Carla Dataset/Ground Truth /3728 .png\n",
            "Creating :  /content/drive/Shared drives/drive 4/Carla Dataset/Ground Truth /3729 .png\n",
            "Creating :  /content/drive/Shared drives/drive 4/Carla Dataset/Ground Truth /3730 .png\n",
            "Creating :  /content/drive/Shared drives/drive 4/Carla Dataset/Ground Truth /3731 .png\n",
            "Creating :  /content/drive/Shared drives/drive 4/Carla Dataset/Ground Truth /3732 .png\n",
            "Creating :  /content/drive/Shared drives/drive 4/Carla Dataset/Ground Truth /3733 .png\n",
            "Creating :  /content/drive/Shared drives/drive 4/Carla Dataset/Ground Truth /3734 .png\n",
            "Creating :  /content/drive/Shared drives/drive 4/Carla Dataset/Ground Truth /3735 .png\n",
            "Creating :  /content/drive/Shared drives/drive 4/Carla Dataset/Ground Truth /3736 .png\n",
            "Creating :  /content/drive/Shared drives/drive 4/Carla Dataset/Ground Truth /3737 .png\n",
            "Creating :  /content/drive/Shared drives/drive 4/Carla Dataset/Ground Truth /3738 .png\n",
            "Creating :  /content/drive/Shared drives/drive 4/Carla Dataset/Ground Truth /3739 .png\n",
            "Creating :  /content/drive/Shared drives/drive 4/Carla Dataset/Ground Truth /3740 .png\n",
            "Creating :  /content/drive/Shared drives/drive 4/Carla Dataset/Ground Truth /3741 .png\n",
            "Creating :  /content/drive/Shared drives/drive 4/Carla Dataset/Ground Truth /3742 .png\n",
            "Creating :  /content/drive/Shared drives/drive 4/Carla Dataset/Ground Truth /3743 .png\n",
            "Creating :  /content/drive/Shared drives/drive 4/Carla Dataset/Ground Truth /3744 .png\n",
            "Creating :  /content/drive/Shared drives/drive 4/Carla Dataset/Ground Truth /3745 .png\n",
            "Creating :  /content/drive/Shared drives/drive 4/Carla Dataset/Ground Truth /3746 .png\n",
            "Creating :  /content/drive/Shared drives/drive 4/Carla Dataset/Ground Truth /3747 .png\n",
            "Creating :  /content/drive/Shared drives/drive 4/Carla Dataset/Ground Truth /3748 .png\n",
            "Creating :  /content/drive/Shared drives/drive 4/Carla Dataset/Ground Truth /3749 .png\n",
            "Creating :  /content/drive/Shared drives/drive 4/Carla Dataset/Ground Truth /3750 .png\n",
            "Creating :  /content/drive/Shared drives/drive 4/Carla Dataset/Ground Truth /3751 .png\n",
            "Creating :  /content/drive/Shared drives/drive 4/Carla Dataset/Ground Truth /3752 .png\n",
            "Creating :  /content/drive/Shared drives/drive 4/Carla Dataset/Ground Truth /3753 .png\n",
            "Creating :  /content/drive/Shared drives/drive 4/Carla Dataset/Ground Truth /3754 .png\n",
            "Creating :  /content/drive/Shared drives/drive 4/Carla Dataset/Ground Truth /3755 .png\n",
            "Creating :  /content/drive/Shared drives/drive 4/Carla Dataset/Ground Truth /3756 .png\n",
            "Creating :  /content/drive/Shared drives/drive 4/Carla Dataset/Ground Truth /3757 .png\n",
            "Creating :  /content/drive/Shared drives/drive 4/Carla Dataset/Ground Truth /3758 .png\n",
            "Creating :  /content/drive/Shared drives/drive 4/Carla Dataset/Ground Truth /3759 .png\n",
            "Creating :  /content/drive/Shared drives/drive 4/Carla Dataset/Ground Truth /3760 .png\n",
            "Creating :  /content/drive/Shared drives/drive 4/Carla Dataset/Ground Truth /3761 .png\n",
            "Creating :  /content/drive/Shared drives/drive 4/Carla Dataset/Ground Truth /3762 .png\n",
            "Creating :  /content/drive/Shared drives/drive 4/Carla Dataset/Ground Truth /3763 .png\n",
            "Creating :  /content/drive/Shared drives/drive 4/Carla Dataset/Ground Truth /3764 .png\n",
            "Creating :  /content/drive/Shared drives/drive 4/Carla Dataset/Ground Truth /3765 .png\n",
            "Creating :  /content/drive/Shared drives/drive 4/Carla Dataset/Ground Truth /3766 .png\n",
            "Creating :  /content/drive/Shared drives/drive 4/Carla Dataset/Ground Truth /3767 .png\n",
            "Creating :  /content/drive/Shared drives/drive 4/Carla Dataset/Ground Truth /3768 .png\n",
            "Creating :  /content/drive/Shared drives/drive 4/Carla Dataset/Ground Truth /3769 .png\n",
            "Creating :  /content/drive/Shared drives/drive 4/Carla Dataset/Ground Truth /3770 .png\n",
            "Creating :  /content/drive/Shared drives/drive 4/Carla Dataset/Ground Truth /3771 .png\n",
            "Creating :  /content/drive/Shared drives/drive 4/Carla Dataset/Ground Truth /3772 .png\n",
            "Creating :  /content/drive/Shared drives/drive 4/Carla Dataset/Ground Truth /3773 .png\n",
            "Creating :  /content/drive/Shared drives/drive 4/Carla Dataset/Ground Truth /3774 .png\n",
            "Creating :  /content/drive/Shared drives/drive 4/Carla Dataset/Ground Truth /3775 .png\n",
            "Creating :  /content/drive/Shared drives/drive 4/Carla Dataset/Ground Truth /3776 .png\n",
            "Creating :  /content/drive/Shared drives/drive 4/Carla Dataset/Ground Truth /3777 .png\n",
            "Creating :  /content/drive/Shared drives/drive 4/Carla Dataset/Ground Truth /3778 .png\n",
            "Creating :  /content/drive/Shared drives/drive 4/Carla Dataset/Ground Truth /3779 .png\n",
            "Creating :  /content/drive/Shared drives/drive 4/Carla Dataset/Ground Truth /3780 .png\n",
            "Creating :  /content/drive/Shared drives/drive 4/Carla Dataset/Ground Truth /3781 .png\n",
            "Creating :  /content/drive/Shared drives/drive 4/Carla Dataset/Ground Truth /3782 .png\n",
            "Creating :  /content/drive/Shared drives/drive 4/Carla Dataset/Ground Truth /3783 .png\n",
            "Creating :  /content/drive/Shared drives/drive 4/Carla Dataset/Ground Truth /3784 .png\n",
            "Creating :  /content/drive/Shared drives/drive 4/Carla Dataset/Ground Truth /3785 .png\n",
            "Creating :  /content/drive/Shared drives/drive 4/Carla Dataset/Ground Truth /3786 .png\n",
            "Creating :  /content/drive/Shared drives/drive 4/Carla Dataset/Ground Truth /3787 .png\n",
            "Creating :  /content/drive/Shared drives/drive 4/Carla Dataset/Ground Truth /3788 .png\n",
            "Creating :  /content/drive/Shared drives/drive 4/Carla Dataset/Ground Truth /3789 .png\n",
            "Creating :  /content/drive/Shared drives/drive 4/Carla Dataset/Ground Truth /3790 .png\n",
            "Creating :  /content/drive/Shared drives/drive 4/Carla Dataset/Ground Truth /3791 .png\n",
            "Creating :  /content/drive/Shared drives/drive 4/Carla Dataset/Ground Truth /3792 .png\n",
            "Creating :  /content/drive/Shared drives/drive 4/Carla Dataset/Ground Truth /3793 .png\n",
            "Creating :  /content/drive/Shared drives/drive 4/Carla Dataset/Ground Truth /3794 .png\n",
            "Creating :  /content/drive/Shared drives/drive 4/Carla Dataset/Ground Truth /3795 .png\n",
            "Creating :  /content/drive/Shared drives/drive 4/Carla Dataset/Ground Truth /3796 .png\n",
            "Creating :  /content/drive/Shared drives/drive 4/Carla Dataset/Ground Truth /3797 .png\n",
            "Creating :  /content/drive/Shared drives/drive 4/Carla Dataset/Ground Truth /3798 .png\n",
            "Creating :  /content/drive/Shared drives/drive 4/Carla Dataset/Ground Truth /3799 .png\n",
            "Creating :  /content/drive/Shared drives/drive 4/Carla Dataset/Ground Truth /3800 .png\n",
            "Creating :  /content/drive/Shared drives/drive 4/Carla Dataset/Ground Truth /3801 .png\n",
            "Creating :  /content/drive/Shared drives/drive 4/Carla Dataset/Ground Truth /3802 .png\n",
            "Creating :  /content/drive/Shared drives/drive 4/Carla Dataset/Ground Truth /3803 .png\n",
            "Creating :  /content/drive/Shared drives/drive 4/Carla Dataset/Ground Truth /3804 .png\n",
            "Creating :  /content/drive/Shared drives/drive 4/Carla Dataset/Ground Truth /3805 .png\n",
            "Creating :  /content/drive/Shared drives/drive 4/Carla Dataset/Ground Truth /3806 .png\n",
            "Creating :  /content/drive/Shared drives/drive 4/Carla Dataset/Ground Truth /3807 .png\n",
            "Creating :  /content/drive/Shared drives/drive 4/Carla Dataset/Ground Truth /3808 .png\n",
            "Creating :  /content/drive/Shared drives/drive 4/Carla Dataset/Ground Truth /3809 .png\n",
            "Creating :  /content/drive/Shared drives/drive 4/Carla Dataset/Ground Truth /3810 .png\n",
            "Creating :  /content/drive/Shared drives/drive 4/Carla Dataset/Ground Truth /3811 .png\n",
            "Creating :  /content/drive/Shared drives/drive 4/Carla Dataset/Ground Truth /3812 .png\n",
            "Creating :  /content/drive/Shared drives/drive 4/Carla Dataset/Ground Truth /3813 .png\n",
            "Creating :  /content/drive/Shared drives/drive 4/Carla Dataset/Ground Truth /3814 .png\n",
            "Creating :  /content/drive/Shared drives/drive 4/Carla Dataset/Ground Truth /3815 .png\n",
            "Creating :  /content/drive/Shared drives/drive 4/Carla Dataset/Ground Truth /3816 .png\n",
            "Creating :  /content/drive/Shared drives/drive 4/Carla Dataset/Ground Truth /3817 .png\n",
            "Creating :  /content/drive/Shared drives/drive 4/Carla Dataset/Ground Truth /3818 .png\n",
            "Creating :  /content/drive/Shared drives/drive 4/Carla Dataset/Ground Truth /3819 .png\n",
            "Creating :  /content/drive/Shared drives/drive 4/Carla Dataset/Ground Truth /3820 .png\n",
            "Creating :  /content/drive/Shared drives/drive 4/Carla Dataset/Ground Truth /3821 .png\n",
            "Creating :  /content/drive/Shared drives/drive 4/Carla Dataset/Ground Truth /3822 .png\n",
            "Creating :  /content/drive/Shared drives/drive 4/Carla Dataset/Ground Truth /3823 .png\n",
            "Creating :  /content/drive/Shared drives/drive 4/Carla Dataset/Ground Truth /3824 .png\n",
            "Creating :  /content/drive/Shared drives/drive 4/Carla Dataset/Ground Truth /3825 .png\n",
            "Creating :  /content/drive/Shared drives/drive 4/Carla Dataset/Ground Truth /3826 .png\n",
            "Creating :  /content/drive/Shared drives/drive 4/Carla Dataset/Ground Truth /3827 .png\n",
            "Creating :  /content/drive/Shared drives/drive 4/Carla Dataset/Ground Truth /3828 .png\n",
            "Creating :  /content/drive/Shared drives/drive 4/Carla Dataset/Ground Truth /3829 .png\n",
            "Creating :  /content/drive/Shared drives/drive 4/Carla Dataset/Ground Truth /3830 .png\n",
            "Creating :  /content/drive/Shared drives/drive 4/Carla Dataset/Ground Truth /3831 .png\n",
            "Creating :  /content/drive/Shared drives/drive 4/Carla Dataset/Ground Truth /3832 .png\n",
            "Creating :  /content/drive/Shared drives/drive 4/Carla Dataset/Ground Truth /3833 .png\n",
            "Creating :  /content/drive/Shared drives/drive 4/Carla Dataset/Ground Truth /3834 .png\n",
            "Creating :  /content/drive/Shared drives/drive 4/Carla Dataset/Ground Truth /3835 .png\n",
            "Creating :  /content/drive/Shared drives/drive 4/Carla Dataset/Ground Truth /3836 .png\n",
            "Creating :  /content/drive/Shared drives/drive 4/Carla Dataset/Ground Truth /3837 .png\n",
            "Creating :  /content/drive/Shared drives/drive 4/Carla Dataset/Ground Truth /3838 .png\n",
            "Creating :  /content/drive/Shared drives/drive 4/Carla Dataset/Ground Truth /3839 .png\n",
            "Creating :  /content/drive/Shared drives/drive 4/Carla Dataset/Ground Truth /3840 .png\n",
            "Creating :  /content/drive/Shared drives/drive 4/Carla Dataset/Ground Truth /3841 .png\n",
            "Creating :  /content/drive/Shared drives/drive 4/Carla Dataset/Ground Truth /3842 .png\n",
            "Creating :  /content/drive/Shared drives/drive 4/Carla Dataset/Ground Truth /3843 .png\n",
            "Creating :  /content/drive/Shared drives/drive 4/Carla Dataset/Ground Truth /3844 .png\n",
            "Creating :  /content/drive/Shared drives/drive 4/Carla Dataset/Ground Truth /3845 .png\n",
            "Creating :  /content/drive/Shared drives/drive 4/Carla Dataset/Ground Truth /3846 .png\n",
            "Creating :  /content/drive/Shared drives/drive 4/Carla Dataset/Ground Truth /3847 .png\n",
            "Creating :  /content/drive/Shared drives/drive 4/Carla Dataset/Ground Truth /3848 .png\n",
            "Creating :  /content/drive/Shared drives/drive 4/Carla Dataset/Ground Truth /3849 .png\n",
            "Creating :  /content/drive/Shared drives/drive 4/Carla Dataset/Ground Truth /3850 .png\n",
            "Creating :  /content/drive/Shared drives/drive 4/Carla Dataset/Ground Truth /3851 .png\n",
            "Creating :  /content/drive/Shared drives/drive 4/Carla Dataset/Ground Truth /3852 .png\n",
            "Creating :  /content/drive/Shared drives/drive 4/Carla Dataset/Ground Truth /3853 .png\n",
            "Creating :  /content/drive/Shared drives/drive 4/Carla Dataset/Ground Truth /3854 .png\n",
            "Creating :  /content/drive/Shared drives/drive 4/Carla Dataset/Ground Truth /3855 .png\n",
            "Creating :  /content/drive/Shared drives/drive 4/Carla Dataset/Ground Truth /3856 .png\n",
            "Creating :  /content/drive/Shared drives/drive 4/Carla Dataset/Ground Truth /3857 .png\n",
            "Creating :  /content/drive/Shared drives/drive 4/Carla Dataset/Ground Truth /3858 .png\n",
            "Creating :  /content/drive/Shared drives/drive 4/Carla Dataset/Ground Truth /3859 .png\n",
            "Creating :  /content/drive/Shared drives/drive 4/Carla Dataset/Ground Truth /3860 .png\n",
            "Creating :  /content/drive/Shared drives/drive 4/Carla Dataset/Ground Truth /3861 .png\n",
            "Creating :  /content/drive/Shared drives/drive 4/Carla Dataset/Ground Truth /3862 .png\n",
            "Creating :  /content/drive/Shared drives/drive 4/Carla Dataset/Ground Truth /3863 .png\n",
            "Creating :  /content/drive/Shared drives/drive 4/Carla Dataset/Ground Truth /3864 .png\n",
            "Creating :  /content/drive/Shared drives/drive 4/Carla Dataset/Ground Truth /3865 .png\n",
            "Creating :  /content/drive/Shared drives/drive 4/Carla Dataset/Ground Truth /3866 .png\n",
            "Creating :  /content/drive/Shared drives/drive 4/Carla Dataset/Ground Truth /3867 .png\n",
            "Creating :  /content/drive/Shared drives/drive 4/Carla Dataset/Ground Truth /3868 .png\n",
            "Creating :  /content/drive/Shared drives/drive 4/Carla Dataset/Ground Truth /3869 .png\n",
            "Creating :  /content/drive/Shared drives/drive 4/Carla Dataset/Ground Truth /3870 .png\n",
            "Creating :  /content/drive/Shared drives/drive 4/Carla Dataset/Ground Truth /3871 .png\n",
            "Creating :  /content/drive/Shared drives/drive 4/Carla Dataset/Ground Truth /3872 .png\n",
            "Creating :  /content/drive/Shared drives/drive 4/Carla Dataset/Ground Truth /3873 .png\n",
            "Creating :  /content/drive/Shared drives/drive 4/Carla Dataset/Ground Truth /3874 .png\n",
            "Creating :  /content/drive/Shared drives/drive 4/Carla Dataset/Ground Truth /3875 .png\n",
            "Creating :  /content/drive/Shared drives/drive 4/Carla Dataset/Ground Truth /3876 .png\n",
            "Creating :  /content/drive/Shared drives/drive 4/Carla Dataset/Ground Truth /3877 .png\n",
            "Creating :  /content/drive/Shared drives/drive 4/Carla Dataset/Ground Truth /3878 .png\n",
            "Creating :  /content/drive/Shared drives/drive 4/Carla Dataset/Ground Truth /3879 .png\n"
          ],
          "name": "stdout"
        }
      ]
    },
    {
      "cell_type": "code",
      "metadata": {
        "id": "cxMHXCPnMoyX"
      },
      "source": [
        ""
      ],
      "execution_count": null,
      "outputs": []
    }
  ]
}